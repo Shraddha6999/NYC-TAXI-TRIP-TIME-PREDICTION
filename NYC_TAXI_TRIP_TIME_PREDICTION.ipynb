{
  "nbformat": 4,
  "nbformat_minor": 0,
  "metadata": {
    "colab": {
      "provenance": [],
      "collapsed_sections": [
        "vncDsAP0Gaoa",
        "FJNUwmbgGyua",
        "w6K7xa23Elo4",
        "yQaldy8SH6Dl",
        "mDgbUHAGgjLW",
        "HhfV-JJviCcP",
        "Y3lxredqlCYt",
        "3RnN4peoiCZX",
        "x71ZqKXriCWQ",
        "7hBIi_osiCS2",
        "JlHwYmJAmNHm",
        "35m5QtbWiB9F",
        "PoPl-ycgm1ru",
        "H0kj-8xxnORC",
        "nA9Y7ga8ng1Z",
        "PBTbrJXOngz2",
        "u3PMJOP6ngxN",
        "dauF4eBmngu3",
        "bKJF3rekwFvQ",
        "MSa1f5Uengrz",
        "0wOQAZs5pc--",
        "KSlN3yHqYklG",
        "EM7whBJCYoAo",
        "fge-S5ZAYoAp",
        "85gYPyotYoAp",
        "RoGjAbkUYoAp",
        "4Of9eVA-YrdM",
        "iky9q4vBYrdO",
        "F6T5p64dYrdO",
        "y-Ehk30pYrdP",
        "GwzvFGzlYuh3",
        "qYpmQ266Yuh3",
        "OH-pJp9IphqM",
        "bbFf2-_FphqN",
        "_ouA3fa0phqN",
        "Seke61FWphqN",
        "PIIx-8_IphqN",
        "t27r6nlMphqO",
        "r2jJGEOYphqO",
        "b0JNsNcRphqO",
        "BZR9WyysphqO",
        "jj7wYXLtphqO",
        "eZrbJ2SmphqO",
        "rFu4xreNphqO",
        "YJ55k-q6phqO",
        "gCFgpxoyphqP",
        "OVtJsKN_phqQ",
        "lssrdh5qphqQ",
        "U2RJ9gkRphqQ",
        "1M8mcRywphqQ",
        "tgIPom80phqQ",
        "JMzcOPDDphqR",
        "x-EpHcCOp1ci",
        "X_VqEhTip1ck",
        "8zGJKyg5p1ck",
        "PVzmfK_Ep1ck",
        "n3dbpmDWp1ck",
        "ylSl6qgtp1ck",
        "ZWILFDl5p1ck",
        "M7G43BXep1ck",
        "Ag9LCva-p1cl",
        "E6MkPsBcp1cl",
        "2cELzS2fp1cl",
        "3MPXvC8up1cl",
        "NC_X3p0fY2L0",
        "UV0SzAkaZNRQ",
        "YPEH6qLeZNRQ",
        "q29F0dvdveiT",
        "EXh0U9oCveiU",
        "22aHeOlLveiV",
        "g-ATYxFrGrvw",
        "Yfr_Vlr8HBkt",
        "8yEUt7NnHlrM",
        "tEA2Xm5dHt1r",
        "I79__PHVH19G",
        "Ou-I18pAyIpj",
        "fF3858GYyt-u",
        "4_0_7-oCpUZd",
        "hwyV_J3ipUZe",
        "3yB-zSqbpUZe",
        "dEUvejAfpUZe",
        "Fd15vwWVpUZf",
        "bn_IUdTipZyH",
        "49K5P_iCpZyH",
        "Nff-vKELpZyI",
        "kLW572S8pZyI",
        "dWbDXHzopZyI",
        "yLjJCtPM0KBk",
        "xiyOF9F70UgQ",
        "7wuGOrhz0itI",
        "id1riN9m0vUs",
        "578E2V7j08f6",
        "89xtkJwZ18nB",
        "67NQN5KX2AMe",
        "Iwf50b-R2tYG",
        "GMQiZwjn3iu7",
        "WVIkgGqN3qsr",
        "XkPnILGE3zoT",
        "Hlsf0x5436Go",
        "mT9DMSJo4nBL",
        "c49ITxTc407N",
        "OeJFEK0N496M",
        "9ExmJH0g5HBk",
        "cJNqERVU536h",
        "k5UmGsbsOxih",
        "T0VqWOYE6DLQ",
        "qBMux9mC6MCf",
        "-oLEiFgy-5Pf",
        "C74aWNz2AliB",
        "2DejudWSA-a0",
        "pEMng2IbBLp7",
        "rAdphbQ9Bhjc",
        "TNVZ9zx19K6k",
        "nqoHp30x9hH9",
        "rMDnDkt2B6du",
        "yiiVWRdJDDil",
        "1UUpS68QDMuG",
        "kexQrXU-DjzY",
        "T5CmagL3EC8N",
        "BhH2vgX9EjGr",
        "qjKvONjwE8ra",
        "P1XJ9OREExlT",
        "VFOzZv6IFROw",
        "TIqpNgepFxVj",
        "VfCC591jGiD4",
        "OB4l2ZhMeS1U",
        "ArJBuiUVfxKd",
        "4qY1EAkEfxKe",
        "PiV4Ypx8fxKe",
        "TfvqoZmBfxKf",
        "dJ2tPlVmpsJ0",
        "JWYfwnehpsJ1",
        "-jK_YjpMpsJ2",
        "HAih1iBOpsJ2",
        "zVGeBEFhpsJ2",
        "bmKjuQ-FpsJ3",
        "Fze-IPXLpx6K",
        "7AN1z2sKpx6M",
        "9PIHJqyupx6M",
        "_-qAgymDpx6N",
        "Z-hykwinpx6N",
        "h_CCil-SKHpo",
        "cBFFvTBNJzUa",
        "HvGl1hHyA_VK",
        "EyNgTHvd2WFk",
        "KH5McJBi2d8v",
        "iW_Lq9qf2h6X",
        "-Kee-DAl2viO",
        "gCX9965dhzqZ",
        "gIfDvo9L0UH2"
      ],
      "include_colab_link": true
    },
    "kernelspec": {
      "name": "python3",
      "display_name": "Python 3"
    },
    "language_info": {
      "name": "python"
    },
    "gpuClass": "standard"
  },
  "cells": [
    {
      "cell_type": "markdown",
      "metadata": {
        "id": "view-in-github",
        "colab_type": "text"
      },
      "source": [
        "<a href=\"https://colab.research.google.com/github/Shraddha6999/NYC-TAXI-TRIP-TIME-PREDICTION/blob/main/NYC_TAXI_TRIP_TIME_PREDICTION.ipynb\" target=\"_parent\"><img src=\"https://colab.research.google.com/assets/colab-badge.svg\" alt=\"Open In Colab\"/></a>"
      ]
    },
    {
      "cell_type": "markdown",
      "source": [
        "# **Project Name**    - NYC TAXI TRIP TIME PREDICTION\n",
        "\n"
      ],
      "metadata": {
        "id": "vncDsAP0Gaoa"
      }
    },
    {
      "cell_type": "markdown",
      "source": [
        "##### **Project Type -**      Regression\n",
        "##### **Contribution -**      Individual\n",
        "##### **Team Member 1 -**     Shraddha Chandurkar "
      ],
      "metadata": {
        "id": "beRrZCGUAJYm"
      }
    },
    {
      "cell_type": "markdown",
      "source": [
        "# **Project Summary -**"
      ],
      "metadata": {
        "id": "FJNUwmbgGyua"
      }
    },
    {
      "cell_type": "markdown",
      "source": [
        "The NYC Taxi Trip Duration project is a machine learning regression model that aims to predict the duration of a taxi trip in New York City based on various input features such as the pickup and dropoff locations, the time of day, and the distance of the trip. The goal of the project is to improve the efficiency and convenience of taxi services by providing more accurate estimates of trip duration for both passengers and drivers.\n",
        "\n",
        "The project utilizes historical data on taxi trips in NYC, including information on pickup and dropoff locations, timestamps, and trip distances. The data was preprocessed to handle missing values and to convert categorical variables such as the pickup and dropoff locations into numerical values. Feature engineering techniques were applied to extract additional information from the data, such as the day of the week, the time of day, and the distances between locations.\n",
        "\n",
        "The model was trained using a variety of regression algorithms such as linear regression, Random Forest, and XGBoost. Hyperparameter tuning was performed to optimize the performance of the model. Model evaluation was performed using metrics such as mean absolute error and R-squared. The final model chosen was the XGBoost model which performed the best among the models.\n",
        "\n",
        "The model was then tested using a hold-out test set and was able to make predictions with a high level of accuracy. The results showed that the model was able to predict the duration of a taxi trip with an average error of less than 10 minutes.\n",
        "\n",
        "The project also explores the important features that influence the duration of a taxi trip. The results showed that the pickup and dropoff locations, the time of day, and the distance of the trip are the most important factors that determine the duration of a taxi trip.\n",
        "\n",
        "Overall, the NYC Taxi Trip Duration project successfully developed a machine learning regression model that is able to predict the duration of a taxi trip in New York City with a high level of accuracy. The model can be used by taxi companies to improve the efficiency and convenience of their services by providing more accurate estimates of trip duration for both passengers and drivers. It can also be used by passengers to plan their trip and make more informed decisions.\n",
        "\n",
        "In future the model can be improved by incorporating other data sources such as weather data, traffic data, and other transportation data. Additionally, the model could be integrated with a real-time mapping and routing service to provide real-time estimates of trip duration based on current traffic conditions.\n",
        "\n"
      ],
      "metadata": {
        "id": "F6v_1wHtG2nS"
      }
    },
    {
      "cell_type": "markdown",
      "source": [
        "# **GitHub Link -**"
      ],
      "metadata": {
        "id": "w6K7xa23Elo4"
      }
    },
    {
      "cell_type": "markdown",
      "source": [
        "https://github.com/Shraddha6999"
      ],
      "metadata": {
        "id": "h1o69JH3Eqqn"
      }
    },
    {
      "cell_type": "markdown",
      "source": [
        "# **Problem Statement**\n"
      ],
      "metadata": {
        "id": "yQaldy8SH6Dl"
      }
    },
    {
      "cell_type": "markdown",
      "source": [
        "New York City is one of the most populous cities in the world, and its transportation system is a critical aspect of its infrastructure. Taxis are a popular mode of transportation for both residents and visitors, but the duration of a taxi trip can vary greatly depending on a variety of factors such as traffic, weather, and the time of day. As a result, it can be difficult for both passengers and drivers to accurately estimate the duration of a taxi trip.\n",
        "\n",
        "The goal of this project is to develop a machine learning regression model that can predict the duration of a taxi trip in New York City based on various input features such as the pickup and dropoff locations, the time of day, and the distance of the trip. The model should be able to make predictions with a high level of accuracy, and it should be able to identify the most important factors that determine the duration of a taxi trip. By providing more accurate estimates of trip duration, the model can improve the efficiency and convenience of taxi services for both passengers and drivers."
      ],
      "metadata": {
        "id": "DpeJGUA3kjGy"
      }
    },
    {
      "cell_type": "markdown",
      "source": [
        "# **General Guidelines** : -  "
      ],
      "metadata": {
        "id": "mDgbUHAGgjLW"
      }
    },
    {
      "cell_type": "markdown",
      "source": [
        "1.   Well-structured, formatted, and commented code is required. \n",
        "2.   Exception Handling, Production Grade Code & Deployment Ready Code will be a plus. Those students will be awarded some additional credits. \n",
        "     \n",
        "     The additional credits will have advantages over other students during Star Student selection.\n",
        "       \n",
        "             [ Note: - Deployment Ready Code is defined as, the whole .ipynb notebook should be executable in one go\n",
        "                       without a single error logged. ]\n",
        "\n",
        "3.   Each and every logic should have proper comments.\n",
        "4. You may add as many number of charts you want. Make Sure for each and every chart the following format should be answered.\n",
        "        \n",
        "\n",
        "```\n",
        "# Chart visualization code\n",
        "```\n",
        "            \n",
        "\n",
        "*   Why did you pick the specific chart?\n",
        "*   What is/are the insight(s) found from the chart?\n",
        "* Will the gained insights help creating a positive business impact? \n",
        "Are there any insights that lead to negative growth? Justify with specific reason.\n",
        "\n",
        "5. You have to create at least 15 logical & meaningful charts having important insights.\n",
        "\n",
        "\n",
        "[ Hints : - Do the Vizualization in  a structured way while following \"UBM\" Rule. \n",
        "\n",
        "U - Univariate Analysis,\n",
        "\n",
        "B - Bivariate Analysis (Numerical - Categorical, Numerical - Numerical, Categorical - Categorical)\n",
        "\n",
        "M - Multivariate Analysis\n",
        " ]\n",
        "\n",
        "\n",
        "\n",
        "\n",
        "\n",
        "6. You may add more ml algorithms for model creation. Make sure for each and every algorithm, the following format should be answered.\n",
        "\n",
        "\n",
        "*   Explain the ML Model used and it's performance using Evaluation metric Score Chart.\n",
        "\n",
        "\n",
        "*   Cross- Validation & Hyperparameter Tuning\n",
        "\n",
        "*   Have you seen any improvement? Note down the improvement with updates Evaluation metric Score Chart.\n",
        "\n",
        "*   Explain each evaluation metric's indication towards business and the business impact pf the ML model used.\n",
        "\n",
        "\n",
        "\n",
        "\n",
        "\n",
        "\n",
        "\n",
        "\n",
        "\n",
        "\n",
        "\n",
        "\n",
        "\n",
        "\n",
        "\n",
        "\n",
        "\n",
        "\n"
      ],
      "metadata": {
        "id": "ZrxVaUj-hHfC"
      }
    },
    {
      "cell_type": "markdown",
      "source": [
        "# ***Let's Begin !***"
      ],
      "metadata": {
        "id": "O_i_v8NEhb9l"
      }
    },
    {
      "cell_type": "markdown",
      "source": [
        "## ***1. Know Your Data***"
      ],
      "metadata": {
        "id": "HhfV-JJviCcP"
      }
    },
    {
      "cell_type": "markdown",
      "source": [
        "### Import Libraries"
      ],
      "metadata": {
        "id": "Y3lxredqlCYt"
      }
    },
    {
      "cell_type": "code",
      "source": [
        "# Import Libraries\n",
        "\n",
        "## Data Maipulation Libraries\n",
        "import numpy as np\n",
        "import pandas as pd\n",
        "import datetime as dt\n",
        "\n",
        "## Statistics Library\n",
        "import scipy.stats as stats\n",
        "\n",
        "## Data Visualisation Libraray\n",
        "import matplotlib.pyplot as plt\n",
        "import pylab \n",
        "import seaborn as sns\n",
        "\n",
        "## Machine Learning \n",
        "from sklearn.linear_model import LinearRegression\n",
        "from sklearn.linear_model import Lasso\n",
        "from sklearn.linear_model import Ridge\n",
        "from sklearn.linear_model import ElasticNet\n",
        "from sklearn.tree import DecisionTreeRegressor\n",
        "from sklearn.ensemble import RandomForestRegressor\n",
        "from sklearn.ensemble import AdaBoostRegressor\n",
        "from sklearn.ensemble import GradientBoostingRegressor\n",
        "from xgboost import XGBRegressor\n",
        "from lightgbm import LGBMRegressor\n",
        "from sklearn.preprocessing import LabelEncoder\n",
        "from sklearn.preprocessing import StandardScaler\n",
        "from sklearn.model_selection import GridSearchCV\n",
        "from sklearn.model_selection import train_test_split\n",
        "\n",
        "## Importing essential libraries to check the accuracy\n",
        "from sklearn import metrics\n",
        "from sklearn.metrics import r2_score\n",
        "from sklearn.metrics import mean_squared_error\n",
        "from sklearn.metrics import mean_absolute_error\n",
        "from sklearn.metrics import mean_absolute_percentage_error\n",
        "\n",
        "## Warnings \n",
        "import warnings \n",
        "warnings.filterwarnings('ignore')"
      ],
      "metadata": {
        "id": "M8Vqi-pPk-HR"
      },
      "execution_count": null,
      "outputs": []
    },
    {
      "cell_type": "markdown",
      "source": [
        "### Dataset Loading"
      ],
      "metadata": {
        "id": "3RnN4peoiCZX"
      }
    },
    {
      "cell_type": "code",
      "source": [
        "# Mount the drive\n",
        "from google.colab import drive\n",
        "drive.mount('/content/drive')"
      ],
      "metadata": {
        "id": "dDUPiAeCBX2D",
        "colab": {
          "base_uri": "https://localhost:8080/"
        },
        "outputId": "5ef9ccdb-bbed-46fb-9db9-b062910365c4"
      },
      "execution_count": null,
      "outputs": [
        {
          "output_type": "stream",
          "name": "stdout",
          "text": [
            "Drive already mounted at /content/drive; to attempt to forcibly remount, call drive.mount(\"/content/drive\", force_remount=True).\n"
          ]
        }
      ]
    },
    {
      "cell_type": "code",
      "source": [
        "# Load Dataset\n",
        "df = pd.read_csv('/content/drive/My Drive/AlmaBetter/Module_4_ML/Data/Project 1 Regression/NYC Taxi Data.csv')"
      ],
      "metadata": {
        "id": "4CkvbW_SlZ_R"
      },
      "execution_count": null,
      "outputs": []
    },
    {
      "cell_type": "markdown",
      "source": [
        "### Dataset First View"
      ],
      "metadata": {
        "id": "x71ZqKXriCWQ"
      }
    },
    {
      "cell_type": "code",
      "source": [
        "# Dataset First Look\n",
        "df.head()"
      ],
      "metadata": {
        "id": "LWNFOSvLl09H",
        "colab": {
          "base_uri": "https://localhost:8080/",
          "height": 337
        },
        "outputId": "c40f7ac5-676b-496c-b474-fa5cfa7959c5"
      },
      "execution_count": null,
      "outputs": [
        {
          "output_type": "execute_result",
          "data": {
            "text/plain": [
              "          id  vendor_id      pickup_datetime     dropoff_datetime  \\\n",
              "0  id2875421          2  2016-03-14 17:24:55  2016-03-14 17:32:30   \n",
              "1  id2377394          1  2016-06-12 00:43:35  2016-06-12 00:54:38   \n",
              "2  id3858529          2  2016-01-19 11:35:24  2016-01-19 12:10:48   \n",
              "3  id3504673          2  2016-04-06 19:32:31  2016-04-06 19:39:40   \n",
              "4  id2181028          2  2016-03-26 13:30:55  2016-03-26 13:38:10   \n",
              "\n",
              "   passenger_count  pickup_longitude  pickup_latitude  dropoff_longitude  \\\n",
              "0                1        -73.982155        40.767937         -73.964630   \n",
              "1                1        -73.980415        40.738564         -73.999481   \n",
              "2                1        -73.979027        40.763939         -74.005333   \n",
              "3                1        -74.010040        40.719971         -74.012268   \n",
              "4                1        -73.973053        40.793209         -73.972923   \n",
              "\n",
              "   dropoff_latitude store_and_fwd_flag  trip_duration  \n",
              "0         40.765602                  N            455  \n",
              "1         40.731152                  N            663  \n",
              "2         40.710087                  N           2124  \n",
              "3         40.706718                  N            429  \n",
              "4         40.782520                  N            435  "
            ],
            "text/html": [
              "\n",
              "  <div id=\"df-7b52f04b-8edc-4572-8bde-684de320a92e\">\n",
              "    <div class=\"colab-df-container\">\n",
              "      <div>\n",
              "<style scoped>\n",
              "    .dataframe tbody tr th:only-of-type {\n",
              "        vertical-align: middle;\n",
              "    }\n",
              "\n",
              "    .dataframe tbody tr th {\n",
              "        vertical-align: top;\n",
              "    }\n",
              "\n",
              "    .dataframe thead th {\n",
              "        text-align: right;\n",
              "    }\n",
              "</style>\n",
              "<table border=\"1\" class=\"dataframe\">\n",
              "  <thead>\n",
              "    <tr style=\"text-align: right;\">\n",
              "      <th></th>\n",
              "      <th>id</th>\n",
              "      <th>vendor_id</th>\n",
              "      <th>pickup_datetime</th>\n",
              "      <th>dropoff_datetime</th>\n",
              "      <th>passenger_count</th>\n",
              "      <th>pickup_longitude</th>\n",
              "      <th>pickup_latitude</th>\n",
              "      <th>dropoff_longitude</th>\n",
              "      <th>dropoff_latitude</th>\n",
              "      <th>store_and_fwd_flag</th>\n",
              "      <th>trip_duration</th>\n",
              "    </tr>\n",
              "  </thead>\n",
              "  <tbody>\n",
              "    <tr>\n",
              "      <th>0</th>\n",
              "      <td>id2875421</td>\n",
              "      <td>2</td>\n",
              "      <td>2016-03-14 17:24:55</td>\n",
              "      <td>2016-03-14 17:32:30</td>\n",
              "      <td>1</td>\n",
              "      <td>-73.982155</td>\n",
              "      <td>40.767937</td>\n",
              "      <td>-73.964630</td>\n",
              "      <td>40.765602</td>\n",
              "      <td>N</td>\n",
              "      <td>455</td>\n",
              "    </tr>\n",
              "    <tr>\n",
              "      <th>1</th>\n",
              "      <td>id2377394</td>\n",
              "      <td>1</td>\n",
              "      <td>2016-06-12 00:43:35</td>\n",
              "      <td>2016-06-12 00:54:38</td>\n",
              "      <td>1</td>\n",
              "      <td>-73.980415</td>\n",
              "      <td>40.738564</td>\n",
              "      <td>-73.999481</td>\n",
              "      <td>40.731152</td>\n",
              "      <td>N</td>\n",
              "      <td>663</td>\n",
              "    </tr>\n",
              "    <tr>\n",
              "      <th>2</th>\n",
              "      <td>id3858529</td>\n",
              "      <td>2</td>\n",
              "      <td>2016-01-19 11:35:24</td>\n",
              "      <td>2016-01-19 12:10:48</td>\n",
              "      <td>1</td>\n",
              "      <td>-73.979027</td>\n",
              "      <td>40.763939</td>\n",
              "      <td>-74.005333</td>\n",
              "      <td>40.710087</td>\n",
              "      <td>N</td>\n",
              "      <td>2124</td>\n",
              "    </tr>\n",
              "    <tr>\n",
              "      <th>3</th>\n",
              "      <td>id3504673</td>\n",
              "      <td>2</td>\n",
              "      <td>2016-04-06 19:32:31</td>\n",
              "      <td>2016-04-06 19:39:40</td>\n",
              "      <td>1</td>\n",
              "      <td>-74.010040</td>\n",
              "      <td>40.719971</td>\n",
              "      <td>-74.012268</td>\n",
              "      <td>40.706718</td>\n",
              "      <td>N</td>\n",
              "      <td>429</td>\n",
              "    </tr>\n",
              "    <tr>\n",
              "      <th>4</th>\n",
              "      <td>id2181028</td>\n",
              "      <td>2</td>\n",
              "      <td>2016-03-26 13:30:55</td>\n",
              "      <td>2016-03-26 13:38:10</td>\n",
              "      <td>1</td>\n",
              "      <td>-73.973053</td>\n",
              "      <td>40.793209</td>\n",
              "      <td>-73.972923</td>\n",
              "      <td>40.782520</td>\n",
              "      <td>N</td>\n",
              "      <td>435</td>\n",
              "    </tr>\n",
              "  </tbody>\n",
              "</table>\n",
              "</div>\n",
              "      <button class=\"colab-df-convert\" onclick=\"convertToInteractive('df-7b52f04b-8edc-4572-8bde-684de320a92e')\"\n",
              "              title=\"Convert this dataframe to an interactive table.\"\n",
              "              style=\"display:none;\">\n",
              "        \n",
              "  <svg xmlns=\"http://www.w3.org/2000/svg\" height=\"24px\"viewBox=\"0 0 24 24\"\n",
              "       width=\"24px\">\n",
              "    <path d=\"M0 0h24v24H0V0z\" fill=\"none\"/>\n",
              "    <path d=\"M18.56 5.44l.94 2.06.94-2.06 2.06-.94-2.06-.94-.94-2.06-.94 2.06-2.06.94zm-11 1L8.5 8.5l.94-2.06 2.06-.94-2.06-.94L8.5 2.5l-.94 2.06-2.06.94zm10 10l.94 2.06.94-2.06 2.06-.94-2.06-.94-.94-2.06-.94 2.06-2.06.94z\"/><path d=\"M17.41 7.96l-1.37-1.37c-.4-.4-.92-.59-1.43-.59-.52 0-1.04.2-1.43.59L10.3 9.45l-7.72 7.72c-.78.78-.78 2.05 0 2.83L4 21.41c.39.39.9.59 1.41.59.51 0 1.02-.2 1.41-.59l7.78-7.78 2.81-2.81c.8-.78.8-2.07 0-2.86zM5.41 20L4 18.59l7.72-7.72 1.47 1.35L5.41 20z\"/>\n",
              "  </svg>\n",
              "      </button>\n",
              "      \n",
              "  <style>\n",
              "    .colab-df-container {\n",
              "      display:flex;\n",
              "      flex-wrap:wrap;\n",
              "      gap: 12px;\n",
              "    }\n",
              "\n",
              "    .colab-df-convert {\n",
              "      background-color: #E8F0FE;\n",
              "      border: none;\n",
              "      border-radius: 50%;\n",
              "      cursor: pointer;\n",
              "      display: none;\n",
              "      fill: #1967D2;\n",
              "      height: 32px;\n",
              "      padding: 0 0 0 0;\n",
              "      width: 32px;\n",
              "    }\n",
              "\n",
              "    .colab-df-convert:hover {\n",
              "      background-color: #E2EBFA;\n",
              "      box-shadow: 0px 1px 2px rgba(60, 64, 67, 0.3), 0px 1px 3px 1px rgba(60, 64, 67, 0.15);\n",
              "      fill: #174EA6;\n",
              "    }\n",
              "\n",
              "    [theme=dark] .colab-df-convert {\n",
              "      background-color: #3B4455;\n",
              "      fill: #D2E3FC;\n",
              "    }\n",
              "\n",
              "    [theme=dark] .colab-df-convert:hover {\n",
              "      background-color: #434B5C;\n",
              "      box-shadow: 0px 1px 3px 1px rgba(0, 0, 0, 0.15);\n",
              "      filter: drop-shadow(0px 1px 2px rgba(0, 0, 0, 0.3));\n",
              "      fill: #FFFFFF;\n",
              "    }\n",
              "  </style>\n",
              "\n",
              "      <script>\n",
              "        const buttonEl =\n",
              "          document.querySelector('#df-7b52f04b-8edc-4572-8bde-684de320a92e button.colab-df-convert');\n",
              "        buttonEl.style.display =\n",
              "          google.colab.kernel.accessAllowed ? 'block' : 'none';\n",
              "\n",
              "        async function convertToInteractive(key) {\n",
              "          const element = document.querySelector('#df-7b52f04b-8edc-4572-8bde-684de320a92e');\n",
              "          const dataTable =\n",
              "            await google.colab.kernel.invokeFunction('convertToInteractive',\n",
              "                                                     [key], {});\n",
              "          if (!dataTable) return;\n",
              "\n",
              "          const docLinkHtml = 'Like what you see? Visit the ' +\n",
              "            '<a target=\"_blank\" href=https://colab.research.google.com/notebooks/data_table.ipynb>data table notebook</a>'\n",
              "            + ' to learn more about interactive tables.';\n",
              "          element.innerHTML = '';\n",
              "          dataTable['output_type'] = 'display_data';\n",
              "          await google.colab.output.renderOutput(dataTable, element);\n",
              "          const docLink = document.createElement('div');\n",
              "          docLink.innerHTML = docLinkHtml;\n",
              "          element.appendChild(docLink);\n",
              "        }\n",
              "      </script>\n",
              "    </div>\n",
              "  </div>\n",
              "  "
            ]
          },
          "metadata": {},
          "execution_count": 29
        }
      ]
    },
    {
      "cell_type": "code",
      "source": [
        "df.tail()"
      ],
      "metadata": {
        "id": "_Z9Orh2VBjUA",
        "colab": {
          "base_uri": "https://localhost:8080/",
          "height": 357
        },
        "outputId": "251d2efa-f388-489c-fc27-d40d37ffbd14"
      },
      "execution_count": null,
      "outputs": [
        {
          "output_type": "execute_result",
          "data": {
            "text/plain": [
              "                id  vendor_id      pickup_datetime     dropoff_datetime  \\\n",
              "1458639  id2376096          2  2016-04-08 13:31:04  2016-04-08 13:44:02   \n",
              "1458640  id1049543          1  2016-01-10 07:35:15  2016-01-10 07:46:10   \n",
              "1458641  id2304944          2  2016-04-22 06:57:41  2016-04-22 07:10:25   \n",
              "1458642  id2714485          1  2016-01-05 15:56:26  2016-01-05 16:02:39   \n",
              "1458643  id1209952          1  2016-04-05 14:44:25  2016-04-05 14:47:43   \n",
              "\n",
              "         passenger_count  pickup_longitude  pickup_latitude  \\\n",
              "1458639                4        -73.982201        40.745522   \n",
              "1458640                1        -74.000946        40.747379   \n",
              "1458641                1        -73.959129        40.768799   \n",
              "1458642                1        -73.982079        40.749062   \n",
              "1458643                1        -73.979538        40.781750   \n",
              "\n",
              "         dropoff_longitude  dropoff_latitude store_and_fwd_flag  trip_duration  \n",
              "1458639         -73.994911         40.740170                  N            778  \n",
              "1458640         -73.970184         40.796547                  N            655  \n",
              "1458641         -74.004433         40.707371                  N            764  \n",
              "1458642         -73.974632         40.757107                  N            373  \n",
              "1458643         -73.972809         40.790585                  N            198  "
            ],
            "text/html": [
              "\n",
              "  <div id=\"df-04ce5619-9a51-4936-bb85-87dd408a6eab\">\n",
              "    <div class=\"colab-df-container\">\n",
              "      <div>\n",
              "<style scoped>\n",
              "    .dataframe tbody tr th:only-of-type {\n",
              "        vertical-align: middle;\n",
              "    }\n",
              "\n",
              "    .dataframe tbody tr th {\n",
              "        vertical-align: top;\n",
              "    }\n",
              "\n",
              "    .dataframe thead th {\n",
              "        text-align: right;\n",
              "    }\n",
              "</style>\n",
              "<table border=\"1\" class=\"dataframe\">\n",
              "  <thead>\n",
              "    <tr style=\"text-align: right;\">\n",
              "      <th></th>\n",
              "      <th>id</th>\n",
              "      <th>vendor_id</th>\n",
              "      <th>pickup_datetime</th>\n",
              "      <th>dropoff_datetime</th>\n",
              "      <th>passenger_count</th>\n",
              "      <th>pickup_longitude</th>\n",
              "      <th>pickup_latitude</th>\n",
              "      <th>dropoff_longitude</th>\n",
              "      <th>dropoff_latitude</th>\n",
              "      <th>store_and_fwd_flag</th>\n",
              "      <th>trip_duration</th>\n",
              "    </tr>\n",
              "  </thead>\n",
              "  <tbody>\n",
              "    <tr>\n",
              "      <th>1458639</th>\n",
              "      <td>id2376096</td>\n",
              "      <td>2</td>\n",
              "      <td>2016-04-08 13:31:04</td>\n",
              "      <td>2016-04-08 13:44:02</td>\n",
              "      <td>4</td>\n",
              "      <td>-73.982201</td>\n",
              "      <td>40.745522</td>\n",
              "      <td>-73.994911</td>\n",
              "      <td>40.740170</td>\n",
              "      <td>N</td>\n",
              "      <td>778</td>\n",
              "    </tr>\n",
              "    <tr>\n",
              "      <th>1458640</th>\n",
              "      <td>id1049543</td>\n",
              "      <td>1</td>\n",
              "      <td>2016-01-10 07:35:15</td>\n",
              "      <td>2016-01-10 07:46:10</td>\n",
              "      <td>1</td>\n",
              "      <td>-74.000946</td>\n",
              "      <td>40.747379</td>\n",
              "      <td>-73.970184</td>\n",
              "      <td>40.796547</td>\n",
              "      <td>N</td>\n",
              "      <td>655</td>\n",
              "    </tr>\n",
              "    <tr>\n",
              "      <th>1458641</th>\n",
              "      <td>id2304944</td>\n",
              "      <td>2</td>\n",
              "      <td>2016-04-22 06:57:41</td>\n",
              "      <td>2016-04-22 07:10:25</td>\n",
              "      <td>1</td>\n",
              "      <td>-73.959129</td>\n",
              "      <td>40.768799</td>\n",
              "      <td>-74.004433</td>\n",
              "      <td>40.707371</td>\n",
              "      <td>N</td>\n",
              "      <td>764</td>\n",
              "    </tr>\n",
              "    <tr>\n",
              "      <th>1458642</th>\n",
              "      <td>id2714485</td>\n",
              "      <td>1</td>\n",
              "      <td>2016-01-05 15:56:26</td>\n",
              "      <td>2016-01-05 16:02:39</td>\n",
              "      <td>1</td>\n",
              "      <td>-73.982079</td>\n",
              "      <td>40.749062</td>\n",
              "      <td>-73.974632</td>\n",
              "      <td>40.757107</td>\n",
              "      <td>N</td>\n",
              "      <td>373</td>\n",
              "    </tr>\n",
              "    <tr>\n",
              "      <th>1458643</th>\n",
              "      <td>id1209952</td>\n",
              "      <td>1</td>\n",
              "      <td>2016-04-05 14:44:25</td>\n",
              "      <td>2016-04-05 14:47:43</td>\n",
              "      <td>1</td>\n",
              "      <td>-73.979538</td>\n",
              "      <td>40.781750</td>\n",
              "      <td>-73.972809</td>\n",
              "      <td>40.790585</td>\n",
              "      <td>N</td>\n",
              "      <td>198</td>\n",
              "    </tr>\n",
              "  </tbody>\n",
              "</table>\n",
              "</div>\n",
              "      <button class=\"colab-df-convert\" onclick=\"convertToInteractive('df-04ce5619-9a51-4936-bb85-87dd408a6eab')\"\n",
              "              title=\"Convert this dataframe to an interactive table.\"\n",
              "              style=\"display:none;\">\n",
              "        \n",
              "  <svg xmlns=\"http://www.w3.org/2000/svg\" height=\"24px\"viewBox=\"0 0 24 24\"\n",
              "       width=\"24px\">\n",
              "    <path d=\"M0 0h24v24H0V0z\" fill=\"none\"/>\n",
              "    <path d=\"M18.56 5.44l.94 2.06.94-2.06 2.06-.94-2.06-.94-.94-2.06-.94 2.06-2.06.94zm-11 1L8.5 8.5l.94-2.06 2.06-.94-2.06-.94L8.5 2.5l-.94 2.06-2.06.94zm10 10l.94 2.06.94-2.06 2.06-.94-2.06-.94-.94-2.06-.94 2.06-2.06.94z\"/><path d=\"M17.41 7.96l-1.37-1.37c-.4-.4-.92-.59-1.43-.59-.52 0-1.04.2-1.43.59L10.3 9.45l-7.72 7.72c-.78.78-.78 2.05 0 2.83L4 21.41c.39.39.9.59 1.41.59.51 0 1.02-.2 1.41-.59l7.78-7.78 2.81-2.81c.8-.78.8-2.07 0-2.86zM5.41 20L4 18.59l7.72-7.72 1.47 1.35L5.41 20z\"/>\n",
              "  </svg>\n",
              "      </button>\n",
              "      \n",
              "  <style>\n",
              "    .colab-df-container {\n",
              "      display:flex;\n",
              "      flex-wrap:wrap;\n",
              "      gap: 12px;\n",
              "    }\n",
              "\n",
              "    .colab-df-convert {\n",
              "      background-color: #E8F0FE;\n",
              "      border: none;\n",
              "      border-radius: 50%;\n",
              "      cursor: pointer;\n",
              "      display: none;\n",
              "      fill: #1967D2;\n",
              "      height: 32px;\n",
              "      padding: 0 0 0 0;\n",
              "      width: 32px;\n",
              "    }\n",
              "\n",
              "    .colab-df-convert:hover {\n",
              "      background-color: #E2EBFA;\n",
              "      box-shadow: 0px 1px 2px rgba(60, 64, 67, 0.3), 0px 1px 3px 1px rgba(60, 64, 67, 0.15);\n",
              "      fill: #174EA6;\n",
              "    }\n",
              "\n",
              "    [theme=dark] .colab-df-convert {\n",
              "      background-color: #3B4455;\n",
              "      fill: #D2E3FC;\n",
              "    }\n",
              "\n",
              "    [theme=dark] .colab-df-convert:hover {\n",
              "      background-color: #434B5C;\n",
              "      box-shadow: 0px 1px 3px 1px rgba(0, 0, 0, 0.15);\n",
              "      filter: drop-shadow(0px 1px 2px rgba(0, 0, 0, 0.3));\n",
              "      fill: #FFFFFF;\n",
              "    }\n",
              "  </style>\n",
              "\n",
              "      <script>\n",
              "        const buttonEl =\n",
              "          document.querySelector('#df-04ce5619-9a51-4936-bb85-87dd408a6eab button.colab-df-convert');\n",
              "        buttonEl.style.display =\n",
              "          google.colab.kernel.accessAllowed ? 'block' : 'none';\n",
              "\n",
              "        async function convertToInteractive(key) {\n",
              "          const element = document.querySelector('#df-04ce5619-9a51-4936-bb85-87dd408a6eab');\n",
              "          const dataTable =\n",
              "            await google.colab.kernel.invokeFunction('convertToInteractive',\n",
              "                                                     [key], {});\n",
              "          if (!dataTable) return;\n",
              "\n",
              "          const docLinkHtml = 'Like what you see? Visit the ' +\n",
              "            '<a target=\"_blank\" href=https://colab.research.google.com/notebooks/data_table.ipynb>data table notebook</a>'\n",
              "            + ' to learn more about interactive tables.';\n",
              "          element.innerHTML = '';\n",
              "          dataTable['output_type'] = 'display_data';\n",
              "          await google.colab.output.renderOutput(dataTable, element);\n",
              "          const docLink = document.createElement('div');\n",
              "          docLink.innerHTML = docLinkHtml;\n",
              "          element.appendChild(docLink);\n",
              "        }\n",
              "      </script>\n",
              "    </div>\n",
              "  </div>\n",
              "  "
            ]
          },
          "metadata": {},
          "execution_count": 30
        }
      ]
    },
    {
      "cell_type": "markdown",
      "source": [
        "### Dataset Rows & Columns count"
      ],
      "metadata": {
        "id": "7hBIi_osiCS2"
      }
    },
    {
      "cell_type": "code",
      "source": [
        "# Dataset Rows & Columns count\n",
        "print(\"Dataset size\")\n",
        "print(\"Rows {} Columns {}\".format(df.shape[0], df.shape[1]))"
      ],
      "metadata": {
        "id": "Kllu7SJgmLij",
        "colab": {
          "base_uri": "https://localhost:8080/"
        },
        "outputId": "cd45b73c-d5fe-4e7b-92b4-e1e8d3fb59fb"
      },
      "execution_count": null,
      "outputs": [
        {
          "output_type": "stream",
          "name": "stdout",
          "text": [
            "Dataset size\n",
            "Rows 1458644 Columns 11\n"
          ]
        }
      ]
    },
    {
      "cell_type": "markdown",
      "source": [
        "### Dataset Information"
      ],
      "metadata": {
        "id": "JlHwYmJAmNHm"
      }
    },
    {
      "cell_type": "code",
      "source": [
        "# Dataset Info\n",
        "df.info()"
      ],
      "metadata": {
        "id": "e9hRXRi6meOf",
        "colab": {
          "base_uri": "https://localhost:8080/"
        },
        "outputId": "6b912407-1a3f-437b-f5f0-3322ff6c7c5d"
      },
      "execution_count": null,
      "outputs": [
        {
          "output_type": "stream",
          "name": "stdout",
          "text": [
            "<class 'pandas.core.frame.DataFrame'>\n",
            "RangeIndex: 1458644 entries, 0 to 1458643\n",
            "Data columns (total 11 columns):\n",
            " #   Column              Non-Null Count    Dtype  \n",
            "---  ------              --------------    -----  \n",
            " 0   id                  1458644 non-null  object \n",
            " 1   vendor_id           1458644 non-null  int64  \n",
            " 2   pickup_datetime     1458644 non-null  object \n",
            " 3   dropoff_datetime    1458644 non-null  object \n",
            " 4   passenger_count     1458644 non-null  int64  \n",
            " 5   pickup_longitude    1458644 non-null  float64\n",
            " 6   pickup_latitude     1458644 non-null  float64\n",
            " 7   dropoff_longitude   1458644 non-null  float64\n",
            " 8   dropoff_latitude    1458644 non-null  float64\n",
            " 9   store_and_fwd_flag  1458644 non-null  object \n",
            " 10  trip_duration       1458644 non-null  int64  \n",
            "dtypes: float64(4), int64(3), object(4)\n",
            "memory usage: 122.4+ MB\n"
          ]
        }
      ]
    },
    {
      "cell_type": "markdown",
      "source": [
        "#### Duplicate Values"
      ],
      "metadata": {
        "id": "35m5QtbWiB9F"
      }
    },
    {
      "cell_type": "code",
      "source": [
        "# Dataset Duplicate Value Count\n",
        "len(df[df.duplicated()])"
      ],
      "metadata": {
        "id": "1sLdpKYkmox0",
        "colab": {
          "base_uri": "https://localhost:8080/"
        },
        "outputId": "9b9f36fa-de50-47a6-f6b5-83d09fb30ac7"
      },
      "execution_count": null,
      "outputs": [
        {
          "output_type": "execute_result",
          "data": {
            "text/plain": [
              "0"
            ]
          },
          "metadata": {},
          "execution_count": 33
        }
      ]
    },
    {
      "cell_type": "markdown",
      "source": [
        "#### Missing Values/Null Values"
      ],
      "metadata": {
        "id": "PoPl-ycgm1ru"
      }
    },
    {
      "cell_type": "code",
      "source": [
        "# Missing Values/Null Values Count\n",
        "print(df.isnull().sum())"
      ],
      "metadata": {
        "id": "GgHWkxvamxVg",
        "colab": {
          "base_uri": "https://localhost:8080/"
        },
        "outputId": "df603ac0-7337-489f-a254-d86a9e5fb06f"
      },
      "execution_count": null,
      "outputs": [
        {
          "output_type": "stream",
          "name": "stdout",
          "text": [
            "id                    0\n",
            "vendor_id             0\n",
            "pickup_datetime       0\n",
            "dropoff_datetime      0\n",
            "passenger_count       0\n",
            "pickup_longitude      0\n",
            "pickup_latitude       0\n",
            "dropoff_longitude     0\n",
            "dropoff_latitude      0\n",
            "store_and_fwd_flag    0\n",
            "trip_duration         0\n",
            "dtype: int64\n"
          ]
        }
      ]
    },
    {
      "cell_type": "code",
      "source": [
        "#There are no Null Values"
      ],
      "metadata": {
        "id": "tMc5dKZaB7ZL"
      },
      "execution_count": null,
      "outputs": []
    },
    {
      "cell_type": "code",
      "source": [
        "# Visualizing the missing values\n",
        "sns.heatmap(df.isnull(), cbar=False)"
      ],
      "metadata": {
        "id": "3q5wnI3om9sJ",
        "colab": {
          "base_uri": "https://localhost:8080/",
          "height": 373
        },
        "outputId": "e3f700b7-d512-4211-98c8-2fed96a0caf6"
      },
      "execution_count": null,
      "outputs": [
        {
          "output_type": "execute_result",
          "data": {
            "text/plain": [
              "<matplotlib.axes._subplots.AxesSubplot at 0x7fa12f9348b0>"
            ]
          },
          "metadata": {},
          "execution_count": 36
        },
        {
          "output_type": "display_data",
          "data": {
            "text/plain": [
              "<Figure size 432x288 with 1 Axes>"
            ],
            "image/png": "[encoded data removed]"
          },
          "metadata": {
            "needs_background": "light"
          }
        }
      ]
    },
    {
      "cell_type": "markdown",
      "source": [
        "### What did you know about your dataset?"
      ],
      "metadata": {
        "id": "H0kj-8xxnORC"
      }
    },
    {
      "cell_type": "markdown",
      "source": [
        "NYC taxi trip duration datasets consist of historical records of taxi rides in New York City, including information such as pickup and drop-off locations, time of day, trip distance, and trip duration. The data can be used to train machine learning models for the purpose of predicting taxi trip duration."
      ],
      "metadata": {
        "id": "gfoNAAC-nUe_"
      }
    },
    {
      "cell_type": "markdown",
      "source": [
        "## ***2. Understanding Your Variables***"
      ],
      "metadata": {
        "id": "nA9Y7ga8ng1Z"
      }
    },
    {
      "cell_type": "code",
      "source": [
        "# Dataset Columns\n",
        "df.columns"
      ],
      "metadata": {
        "id": "j7xfkqrt5Ag5",
        "colab": {
          "base_uri": "https://localhost:8080/"
        },
        "outputId": "78ca0795-c6ad-4639-f072-fe03c4a81223"
      },
      "execution_count": null,
      "outputs": [
        {
          "output_type": "execute_result",
          "data": {
            "text/plain": [
              "Index(['id', 'vendor_id', 'pickup_datetime', 'dropoff_datetime',\n",
              "       'passenger_count', 'pickup_longitude', 'pickup_latitude',\n",
              "       'dropoff_longitude', 'dropoff_latitude', 'store_and_fwd_flag',\n",
              "       'trip_duration'],\n",
              "      dtype='object')"
            ]
          },
          "metadata": {},
          "execution_count": 37
        }
      ]
    },
    {
      "cell_type": "code",
      "source": [
        "# Dataset Describe\n",
        "df.describe(include='all')"
      ],
      "metadata": {
        "id": "DnOaZdaE5Q5t",
        "colab": {
          "base_uri": "https://localhost:8080/",
          "height": 475
        },
        "outputId": "cbcbfc2a-d1e1-45fe-99c3-922c40435460"
      },
      "execution_count": null,
      "outputs": [
        {
          "output_type": "execute_result",
          "data": {
            "text/plain": [
              "               id     vendor_id      pickup_datetime     dropoff_datetime  \\\n",
              "count     1458644  1.458644e+06              1458644              1458644   \n",
              "unique    1458644           NaN              1380222              1380377   \n",
              "top     id2875421           NaN  2016-03-04 08:07:34  2016-02-19 19:25:04   \n",
              "freq            1           NaN                    5                    5   \n",
              "mean          NaN  1.534950e+00                  NaN                  NaN   \n",
              "std           NaN  4.987772e-01                  NaN                  NaN   \n",
              "min           NaN  1.000000e+00                  NaN                  NaN   \n",
              "25%           NaN  1.000000e+00                  NaN                  NaN   \n",
              "50%           NaN  2.000000e+00                  NaN                  NaN   \n",
              "75%           NaN  2.000000e+00                  NaN                  NaN   \n",
              "max           NaN  2.000000e+00                  NaN                  NaN   \n",
              "\n",
              "        passenger_count  pickup_longitude  pickup_latitude  dropoff_longitude  \\\n",
              "count      1.458644e+06      1.458644e+06     1.458644e+06       1.458644e+06   \n",
              "unique              NaN               NaN              NaN                NaN   \n",
              "top                 NaN               NaN              NaN                NaN   \n",
              "freq                NaN               NaN              NaN                NaN   \n",
              "mean       1.664530e+00     -7.397349e+01     4.075092e+01      -7.397342e+01   \n",
              "std        1.314242e+00      7.090186e-02     3.288119e-02       7.064327e-02   \n",
              "min        0.000000e+00     -1.219333e+02     3.435970e+01      -1.219333e+02   \n",
              "25%        1.000000e+00     -7.399187e+01     4.073735e+01      -7.399133e+01   \n",
              "50%        1.000000e+00     -7.398174e+01     4.075410e+01      -7.397975e+01   \n",
              "75%        2.000000e+00     -7.396733e+01     4.076836e+01      -7.396301e+01   \n",
              "max        9.000000e+00     -6.133553e+01     5.188108e+01      -6.133553e+01   \n",
              "\n",
              "        dropoff_latitude store_and_fwd_flag  trip_duration  \n",
              "count       1.458644e+06            1458644   1.458644e+06  \n",
              "unique               NaN                  2            NaN  \n",
              "top                  NaN                  N            NaN  \n",
              "freq                 NaN            1450599            NaN  \n",
              "mean        4.075180e+01                NaN   9.594923e+02  \n",
              "std         3.589056e-02                NaN   5.237432e+03  \n",
              "min         3.218114e+01                NaN   1.000000e+00  \n",
              "25%         4.073588e+01                NaN   3.970000e+02  \n",
              "50%         4.075452e+01                NaN   6.620000e+02  \n",
              "75%         4.076981e+01                NaN   1.075000e+03  \n",
              "max         4.392103e+01                NaN   3.526282e+06  "
            ],
            "text/html": [
              "\n",
              "  <div id=\"df-ec45eb09-0799-42bd-ace8-bc295648e526\">\n",
              "    <div class=\"colab-df-container\">\n",
              "      <div>\n",
              "<style scoped>\n",
              "    .dataframe tbody tr th:only-of-type {\n",
              "        vertical-align: middle;\n",
              "    }\n",
              "\n",
              "    .dataframe tbody tr th {\n",
              "        vertical-align: top;\n",
              "    }\n",
              "\n",
              "    .dataframe thead th {\n",
              "        text-align: right;\n",
              "    }\n",
              "</style>\n",
              "<table border=\"1\" class=\"dataframe\">\n",
              "  <thead>\n",
              "    <tr style=\"text-align: right;\">\n",
              "      <th></th>\n",
              "      <th>id</th>\n",
              "      <th>vendor_id</th>\n",
              "      <th>pickup_datetime</th>\n",
              "      <th>dropoff_datetime</th>\n",
              "      <th>passenger_count</th>\n",
              "      <th>pickup_longitude</th>\n",
              "      <th>pickup_latitude</th>\n",
              "      <th>dropoff_longitude</th>\n",
              "      <th>dropoff_latitude</th>\n",
              "      <th>store_and_fwd_flag</th>\n",
              "      <th>trip_duration</th>\n",
              "    </tr>\n",
              "  </thead>\n",
              "  <tbody>\n",
              "    <tr>\n",
              "      <th>count</th>\n",
              "      <td>1458644</td>\n",
              "      <td>1.458644e+06</td>\n",
              "      <td>1458644</td>\n",
              "      <td>1458644</td>\n",
              "      <td>1.458644e+06</td>\n",
              "      <td>1.458644e+06</td>\n",
              "      <td>1.458644e+06</td>\n",
              "      <td>1.458644e+06</td>\n",
              "      <td>1.458644e+06</td>\n",
              "      <td>1458644</td>\n",
              "      <td>1.458644e+06</td>\n",
              "    </tr>\n",
              "    <tr>\n",
              "      <th>unique</th>\n",
              "      <td>1458644</td>\n",
              "      <td>NaN</td>\n",
              "      <td>1380222</td>\n",
              "      <td>1380377</td>\n",
              "      <td>NaN</td>\n",
              "      <td>NaN</td>\n",
              "      <td>NaN</td>\n",
              "      <td>NaN</td>\n",
              "      <td>NaN</td>\n",
              "      <td>2</td>\n",
              "      <td>NaN</td>\n",
              "    </tr>\n",
              "    <tr>\n",
              "      <th>top</th>\n",
              "      <td>id2875421</td>\n",
              "      <td>NaN</td>\n",
              "      <td>2016-03-04 08:07:34</td>\n",
              "      <td>2016-02-19 19:25:04</td>\n",
              "      <td>NaN</td>\n",
              "      <td>NaN</td>\n",
              "      <td>NaN</td>\n",
              "      <td>NaN</td>\n",
              "      <td>NaN</td>\n",
              "      <td>N</td>\n",
              "      <td>NaN</td>\n",
              "    </tr>\n",
              "    <tr>\n",
              "      <th>freq</th>\n",
              "      <td>1</td>\n",
              "      <td>NaN</td>\n",
              "      <td>5</td>\n",
              "      <td>5</td>\n",
              "      <td>NaN</td>\n",
              "      <td>NaN</td>\n",
              "      <td>NaN</td>\n",
              "      <td>NaN</td>\n",
              "      <td>NaN</td>\n",
              "      <td>1450599</td>\n",
              "      <td>NaN</td>\n",
              "    </tr>\n",
              "    <tr>\n",
              "      <th>mean</th>\n",
              "      <td>NaN</td>\n",
              "      <td>1.534950e+00</td>\n",
              "      <td>NaN</td>\n",
              "      <td>NaN</td>\n",
              "      <td>1.664530e+00</td>\n",
              "      <td>-7.397349e+01</td>\n",
              "      <td>4.075092e+01</td>\n",
              "      <td>-7.397342e+01</td>\n",
              "      <td>4.075180e+01</td>\n",
              "      <td>NaN</td>\n",
              "      <td>9.594923e+02</td>\n",
              "    </tr>\n",
              "    <tr>\n",
              "      <th>std</th>\n",
              "      <td>NaN</td>\n",
              "      <td>4.987772e-01</td>\n",
              "      <td>NaN</td>\n",
              "      <td>NaN</td>\n",
              "      <td>1.314242e+00</td>\n",
              "      <td>7.090186e-02</td>\n",
              "      <td>3.288119e-02</td>\n",
              "      <td>7.064327e-02</td>\n",
              "      <td>3.589056e-02</td>\n",
              "      <td>NaN</td>\n",
              "      <td>5.237432e+03</td>\n",
              "    </tr>\n",
              "    <tr>\n",
              "      <th>min</th>\n",
              "      <td>NaN</td>\n",
              "      <td>1.000000e+00</td>\n",
              "      <td>NaN</td>\n",
              "      <td>NaN</td>\n",
              "      <td>0.000000e+00</td>\n",
              "      <td>-1.219333e+02</td>\n",
              "      <td>3.435970e+01</td>\n",
              "      <td>-1.219333e+02</td>\n",
              "      <td>3.218114e+01</td>\n",
              "      <td>NaN</td>\n",
              "      <td>1.000000e+00</td>\n",
              "    </tr>\n",
              "    <tr>\n",
              "      <th>25%</th>\n",
              "      <td>NaN</td>\n",
              "      <td>1.000000e+00</td>\n",
              "      <td>NaN</td>\n",
              "      <td>NaN</td>\n",
              "      <td>1.000000e+00</td>\n",
              "      <td>-7.399187e+01</td>\n",
              "      <td>4.073735e+01</td>\n",
              "      <td>-7.399133e+01</td>\n",
              "      <td>4.073588e+01</td>\n",
              "      <td>NaN</td>\n",
              "      <td>3.970000e+02</td>\n",
              "    </tr>\n",
              "    <tr>\n",
              "      <th>50%</th>\n",
              "      <td>NaN</td>\n",
              "      <td>2.000000e+00</td>\n",
              "      <td>NaN</td>\n",
              "      <td>NaN</td>\n",
              "      <td>1.000000e+00</td>\n",
              "      <td>-7.398174e+01</td>\n",
              "      <td>4.075410e+01</td>\n",
              "      <td>-7.397975e+01</td>\n",
              "      <td>4.075452e+01</td>\n",
              "      <td>NaN</td>\n",
              "      <td>6.620000e+02</td>\n",
              "    </tr>\n",
              "    <tr>\n",
              "      <th>75%</th>\n",
              "      <td>NaN</td>\n",
              "      <td>2.000000e+00</td>\n",
              "      <td>NaN</td>\n",
              "      <td>NaN</td>\n",
              "      <td>2.000000e+00</td>\n",
              "      <td>-7.396733e+01</td>\n",
              "      <td>4.076836e+01</td>\n",
              "      <td>-7.396301e+01</td>\n",
              "      <td>4.076981e+01</td>\n",
              "      <td>NaN</td>\n",
              "      <td>1.075000e+03</td>\n",
              "    </tr>\n",
              "    <tr>\n",
              "      <th>max</th>\n",
              "      <td>NaN</td>\n",
              "      <td>2.000000e+00</td>\n",
              "      <td>NaN</td>\n",
              "      <td>NaN</td>\n",
              "      <td>9.000000e+00</td>\n",
              "      <td>-6.133553e+01</td>\n",
              "      <td>5.188108e+01</td>\n",
              "      <td>-6.133553e+01</td>\n",
              "      <td>4.392103e+01</td>\n",
              "      <td>NaN</td>\n",
              "      <td>3.526282e+06</td>\n",
              "    </tr>\n",
              "  </tbody>\n",
              "</table>\n",
              "</div>\n",
              "      <button class=\"colab-df-convert\" onclick=\"convertToInteractive('df-ec45eb09-0799-42bd-ace8-bc295648e526')\"\n",
              "              title=\"Convert this dataframe to an interactive table.\"\n",
              "              style=\"display:none;\">\n",
              "        \n",
              "  <svg xmlns=\"http://www.w3.org/2000/svg\" height=\"24px\"viewBox=\"0 0 24 24\"\n",
              "       width=\"24px\">\n",
              "    <path d=\"M0 0h24v24H0V0z\" fill=\"none\"/>\n",
              "    <path d=\"M18.56 5.44l.94 2.06.94-2.06 2.06-.94-2.06-.94-.94-2.06-.94 2.06-2.06.94zm-11 1L8.5 8.5l.94-2.06 2.06-.94-2.06-.94L8.5 2.5l-.94 2.06-2.06.94zm10 10l.94 2.06.94-2.06 2.06-.94-2.06-.94-.94-2.06-.94 2.06-2.06.94z\"/><path d=\"M17.41 7.96l-1.37-1.37c-.4-.4-.92-.59-1.43-.59-.52 0-1.04.2-1.43.59L10.3 9.45l-7.72 7.72c-.78.78-.78 2.05 0 2.83L4 21.41c.39.39.9.59 1.41.59.51 0 1.02-.2 1.41-.59l7.78-7.78 2.81-2.81c.8-.78.8-2.07 0-2.86zM5.41 20L4 18.59l7.72-7.72 1.47 1.35L5.41 20z\"/>\n",
              "  </svg>\n",
              "      </button>\n",
              "      \n",
              "  <style>\n",
              "    .colab-df-container {\n",
              "      display:flex;\n",
              "      flex-wrap:wrap;\n",
              "      gap: 12px;\n",
              "    }\n",
              "\n",
              "    .colab-df-convert {\n",
              "      background-color: #E8F0FE;\n",
              "      border: none;\n",
              "      border-radius: 50%;\n",
              "      cursor: pointer;\n",
              "      display: none;\n",
              "      fill: #1967D2;\n",
              "      height: 32px;\n",
              "      padding: 0 0 0 0;\n",
              "      width: 32px;\n",
              "    }\n",
              "\n",
              "    .colab-df-convert:hover {\n",
              "      background-color: #E2EBFA;\n",
              "      box-shadow: 0px 1px 2px rgba(60, 64, 67, 0.3), 0px 1px 3px 1px rgba(60, 64, 67, 0.15);\n",
              "      fill: #174EA6;\n",
              "    }\n",
              "\n",
              "    [theme=dark] .colab-df-convert {\n",
              "      background-color: #3B4455;\n",
              "      fill: #D2E3FC;\n",
              "    }\n",
              "\n",
              "    [theme=dark] .colab-df-convert:hover {\n",
              "      background-color: #434B5C;\n",
              "      box-shadow: 0px 1px 3px 1px rgba(0, 0, 0, 0.15);\n",
              "      filter: drop-shadow(0px 1px 2px rgba(0, 0, 0, 0.3));\n",
              "      fill: #FFFFFF;\n",
              "    }\n",
              "  </style>\n",
              "\n",
              "      <script>\n",
              "        const buttonEl =\n",
              "          document.querySelector('#df-ec45eb09-0799-42bd-ace8-bc295648e526 button.colab-df-convert');\n",
              "        buttonEl.style.display =\n",
              "          google.colab.kernel.accessAllowed ? 'block' : 'none';\n",
              "\n",
              "        async function convertToInteractive(key) {\n",
              "          const element = document.querySelector('#df-ec45eb09-0799-42bd-ace8-bc295648e526');\n",
              "          const dataTable =\n",
              "            await google.colab.kernel.invokeFunction('convertToInteractive',\n",
              "                                                     [key], {});\n",
              "          if (!dataTable) return;\n",
              "\n",
              "          const docLinkHtml = 'Like what you see? Visit the ' +\n",
              "            '<a target=\"_blank\" href=https://colab.research.google.com/notebooks/data_table.ipynb>data table notebook</a>'\n",
              "            + ' to learn more about interactive tables.';\n",
              "          element.innerHTML = '';\n",
              "          dataTable['output_type'] = 'display_data';\n",
              "          await google.colab.output.renderOutput(dataTable, element);\n",
              "          const docLink = document.createElement('div');\n",
              "          docLink.innerHTML = docLinkHtml;\n",
              "          element.appendChild(docLink);\n",
              "        }\n",
              "      </script>\n",
              "    </div>\n",
              "  </div>\n",
              "  "
            ]
          },
          "metadata": {},
          "execution_count": 38
        }
      ]
    },
    {
      "cell_type": "markdown",
      "source": [
        "### Variables Description "
      ],
      "metadata": {
        "id": "PBTbrJXOngz2"
      }
    },
    {
      "cell_type": "markdown",
      "source": [
        "id - a unique identifier for each trip\n",
        "\n",
        "vendor_id - a code indicating the provider associated with the trip record\n",
        "\n",
        "pickup_datetime - date and time when the meter was engaged\n",
        "\n",
        "dropoff_datetime - date and time when the meter was disengaged\n",
        "\n",
        "passenger_count - the number of passengers in the vehicle (driver entered value)\n",
        "\n",
        "pickup_longitude - the longitude where the meter was engaged\n",
        "\n",
        "pickup_latitude - the latitude where the meter was engaged\n",
        "\n",
        "dropoff_longitude - the longitude where the meter was disengaged\n",
        "\n",
        "dropoff_latitude - the latitude where the meter was disengaged\n",
        "\n",
        "store_and_fwd_flag - This flag indicates whether the trip record was held in \n",
        "vehicle memory before sending to the vendor because the vehicle did not have a \n",
        "connection to the server - Y=store and forward; N=not a store and forward trip.\n",
        "\n",
        "trip_duration - duration of the trip in seconds"
      ],
      "metadata": {
        "id": "aJV4KIxSnxay"
      }
    },
    {
      "cell_type": "markdown",
      "source": [
        "### Check Unique Values for each variable."
      ],
      "metadata": {
        "id": "u3PMJOP6ngxN"
      }
    },
    {
      "cell_type": "code",
      "source": [
        "# Check Unique Values for each variable.\n",
        "for i in df.columns.tolist():\n",
        "  print(\"No. of unique values in \",i,\"is\",df[i].nunique(),\".\")"
      ],
      "metadata": {
        "id": "zms12Yq5n-jE",
        "colab": {
          "base_uri": "https://localhost:8080/"
        },
        "outputId": "8204218c-8919-435a-e506-6fb46004a4e4"
      },
      "execution_count": null,
      "outputs": [
        {
          "output_type": "stream",
          "name": "stdout",
          "text": [
            "No. of unique values in  id is 1458644 .\n",
            "No. of unique values in  vendor_id is 2 .\n",
            "No. of unique values in  pickup_datetime is 1380222 .\n",
            "No. of unique values in  dropoff_datetime is 1380377 .\n",
            "No. of unique values in  passenger_count is 10 .\n",
            "No. of unique values in  pickup_longitude is 23047 .\n",
            "No. of unique values in  pickup_latitude is 45245 .\n",
            "No. of unique values in  dropoff_longitude is 33821 .\n",
            "No. of unique values in  dropoff_latitude is 62519 .\n",
            "No. of unique values in  store_and_fwd_flag is 2 .\n",
            "No. of unique values in  trip_duration is 7417 .\n"
          ]
        }
      ]
    },
    {
      "cell_type": "markdown",
      "source": [
        "## 3. ***Data Wrangling***"
      ],
      "metadata": {
        "id": "dauF4eBmngu3"
      }
    },
    {
      "cell_type": "markdown",
      "source": [
        "### Data Wrangling Code"
      ],
      "metadata": {
        "id": "bKJF3rekwFvQ"
      }
    },
    {
      "cell_type": "code",
      "source": [
        "# Write your code to make your dataset analysis ready."
      ],
      "metadata": {
        "id": "wk-9a2fpoLcV"
      },
      "execution_count": null,
      "outputs": []
    },
    {
      "cell_type": "code",
      "source": [
        "print(\"Columns and data types\")\n",
        "pd.DataFrame(df.dtypes).rename(columns = {0:'dtype'})"
      ],
      "metadata": {
        "id": "k5RxO13nD6fD",
        "colab": {
          "base_uri": "https://localhost:8080/",
          "height": 411
        },
        "outputId": "5cf27a8b-afd0-437d-a7b4-60b2babfecee"
      },
      "execution_count": null,
      "outputs": [
        {
          "output_type": "stream",
          "name": "stdout",
          "text": [
            "Columns and data types\n"
          ]
        },
        {
          "output_type": "execute_result",
          "data": {
            "text/plain": [
              "                      dtype\n",
              "id                   object\n",
              "vendor_id             int64\n",
              "pickup_datetime      object\n",
              "dropoff_datetime     object\n",
              "passenger_count       int64\n",
              "pickup_longitude    float64\n",
              "pickup_latitude     float64\n",
              "dropoff_longitude   float64\n",
              "dropoff_latitude    float64\n",
              "store_and_fwd_flag   object\n",
              "trip_duration         int64"
            ],
            "text/html": [
              "\n",
              "  <div id=\"df-a24b29ca-760a-43c3-8711-c35d32364d9c\">\n",
              "    <div class=\"colab-df-container\">\n",
              "      <div>\n",
              "<style scoped>\n",
              "    .dataframe tbody tr th:only-of-type {\n",
              "        vertical-align: middle;\n",
              "    }\n",
              "\n",
              "    .dataframe tbody tr th {\n",
              "        vertical-align: top;\n",
              "    }\n",
              "\n",
              "    .dataframe thead th {\n",
              "        text-align: right;\n",
              "    }\n",
              "</style>\n",
              "<table border=\"1\" class=\"dataframe\">\n",
              "  <thead>\n",
              "    <tr style=\"text-align: right;\">\n",
              "      <th></th>\n",
              "      <th>dtype</th>\n",
              "    </tr>\n",
              "  </thead>\n",
              "  <tbody>\n",
              "    <tr>\n",
              "      <th>id</th>\n",
              "      <td>object</td>\n",
              "    </tr>\n",
              "    <tr>\n",
              "      <th>vendor_id</th>\n",
              "      <td>int64</td>\n",
              "    </tr>\n",
              "    <tr>\n",
              "      <th>pickup_datetime</th>\n",
              "      <td>object</td>\n",
              "    </tr>\n",
              "    <tr>\n",
              "      <th>dropoff_datetime</th>\n",
              "      <td>object</td>\n",
              "    </tr>\n",
              "    <tr>\n",
              "      <th>passenger_count</th>\n",
              "      <td>int64</td>\n",
              "    </tr>\n",
              "    <tr>\n",
              "      <th>pickup_longitude</th>\n",
              "      <td>float64</td>\n",
              "    </tr>\n",
              "    <tr>\n",
              "      <th>pickup_latitude</th>\n",
              "      <td>float64</td>\n",
              "    </tr>\n",
              "    <tr>\n",
              "      <th>dropoff_longitude</th>\n",
              "      <td>float64</td>\n",
              "    </tr>\n",
              "    <tr>\n",
              "      <th>dropoff_latitude</th>\n",
              "      <td>float64</td>\n",
              "    </tr>\n",
              "    <tr>\n",
              "      <th>store_and_fwd_flag</th>\n",
              "      <td>object</td>\n",
              "    </tr>\n",
              "    <tr>\n",
              "      <th>trip_duration</th>\n",
              "      <td>int64</td>\n",
              "    </tr>\n",
              "  </tbody>\n",
              "</table>\n",
              "</div>\n",
              "      <button class=\"colab-df-convert\" onclick=\"convertToInteractive('df-a24b29ca-760a-43c3-8711-c35d32364d9c')\"\n",
              "              title=\"Convert this dataframe to an interactive table.\"\n",
              "              style=\"display:none;\">\n",
              "        \n",
              "  <svg xmlns=\"http://www.w3.org/2000/svg\" height=\"24px\"viewBox=\"0 0 24 24\"\n",
              "       width=\"24px\">\n",
              "    <path d=\"M0 0h24v24H0V0z\" fill=\"none\"/>\n",
              "    <path d=\"M18.56 5.44l.94 2.06.94-2.06 2.06-.94-2.06-.94-.94-2.06-.94 2.06-2.06.94zm-11 1L8.5 8.5l.94-2.06 2.06-.94-2.06-.94L8.5 2.5l-.94 2.06-2.06.94zm10 10l.94 2.06.94-2.06 2.06-.94-2.06-.94-.94-2.06-.94 2.06-2.06.94z\"/><path d=\"M17.41 7.96l-1.37-1.37c-.4-.4-.92-.59-1.43-.59-.52 0-1.04.2-1.43.59L10.3 9.45l-7.72 7.72c-.78.78-.78 2.05 0 2.83L4 21.41c.39.39.9.59 1.41.59.51 0 1.02-.2 1.41-.59l7.78-7.78 2.81-2.81c.8-.78.8-2.07 0-2.86zM5.41 20L4 18.59l7.72-7.72 1.47 1.35L5.41 20z\"/>\n",
              "  </svg>\n",
              "      </button>\n",
              "      \n",
              "  <style>\n",
              "    .colab-df-container {\n",
              "      display:flex;\n",
              "      flex-wrap:wrap;\n",
              "      gap: 12px;\n",
              "    }\n",
              "\n",
              "    .colab-df-convert {\n",
              "      background-color: #E8F0FE;\n",
              "      border: none;\n",
              "      border-radius: 50%;\n",
              "      cursor: pointer;\n",
              "      display: none;\n",
              "      fill: #1967D2;\n",
              "      height: 32px;\n",
              "      padding: 0 0 0 0;\n",
              "      width: 32px;\n",
              "    }\n",
              "\n",
              "    .colab-df-convert:hover {\n",
              "      background-color: #E2EBFA;\n",
              "      box-shadow: 0px 1px 2px rgba(60, 64, 67, 0.3), 0px 1px 3px 1px rgba(60, 64, 67, 0.15);\n",
              "      fill: #174EA6;\n",
              "    }\n",
              "\n",
              "    [theme=dark] .colab-df-convert {\n",
              "      background-color: #3B4455;\n",
              "      fill: #D2E3FC;\n",
              "    }\n",
              "\n",
              "    [theme=dark] .colab-df-convert:hover {\n",
              "      background-color: #434B5C;\n",
              "      box-shadow: 0px 1px 3px 1px rgba(0, 0, 0, 0.15);\n",
              "      filter: drop-shadow(0px 1px 2px rgba(0, 0, 0, 0.3));\n",
              "      fill: #FFFFFF;\n",
              "    }\n",
              "  </style>\n",
              "\n",
              "      <script>\n",
              "        const buttonEl =\n",
              "          document.querySelector('#df-a24b29ca-760a-43c3-8711-c35d32364d9c button.colab-df-convert');\n",
              "        buttonEl.style.display =\n",
              "          google.colab.kernel.accessAllowed ? 'block' : 'none';\n",
              "\n",
              "        async function convertToInteractive(key) {\n",
              "          const element = document.querySelector('#df-a24b29ca-760a-43c3-8711-c35d32364d9c');\n",
              "          const dataTable =\n",
              "            await google.colab.kernel.invokeFunction('convertToInteractive',\n",
              "                                                     [key], {});\n",
              "          if (!dataTable) return;\n",
              "\n",
              "          const docLinkHtml = 'Like what you see? Visit the ' +\n",
              "            '<a target=\"_blank\" href=https://colab.research.google.com/notebooks/data_table.ipynb>data table notebook</a>'\n",
              "            + ' to learn more about interactive tables.';\n",
              "          element.innerHTML = '';\n",
              "          dataTable['output_type'] = 'display_data';\n",
              "          await google.colab.output.renderOutput(dataTable, element);\n",
              "          const docLink = document.createElement('div');\n",
              "          docLink.innerHTML = docLinkHtml;\n",
              "          element.appendChild(docLink);\n",
              "        }\n",
              "      </script>\n",
              "    </div>\n",
              "  </div>\n",
              "  "
            ]
          },
          "metadata": {},
          "execution_count": 41
        }
      ]
    },
    {
      "cell_type": "code",
      "source": [
        "#Convert timestamp to datetime format to fetch the other details\n",
        "df['pickup_datetime'] = pd.to_datetime(df['pickup_datetime'])\n",
        "df['dropoff_datetime'] = pd.to_datetime(df['dropoff_datetime'])"
      ],
      "metadata": {
        "id": "skARYl3lD9C8"
      },
      "execution_count": null,
      "outputs": []
    },
    {
      "cell_type": "code",
      "source": [
        "from pandas_datareader import data as web"
      ],
      "metadata": {
        "id": "5QJU98PREDVM"
      },
      "execution_count": null,
      "outputs": []
    },
    {
      "cell_type": "code",
      "source": [
        "#addding new column to dataframe such as weekday,month,weekday_num and pickup_hour to gain more insights from the data \n",
        "#df['weekday'] = df.pickup_datetime.dt.day_name\n",
        "#df['weekday_num'] = df.pickup_datetime.dt.weekday\n",
        "\n",
        "df['month'] = df.pickup_datetime.dt.month\n",
        "df['pickup_hour'] = df.pickup_datetime.dt.hour\n",
        "df['pickup_minute'] = df.pickup_datetime.dt.minute\n",
        "df['weekday'] = df.apply(lambda row: row['pickup_datetime'].strftime(\"%A\"),axis=1) #Monday=1"
      ],
      "metadata": {
        "id": "ktqXyKrbEKF5"
      },
      "execution_count": null,
      "outputs": []
    },
    {
      "cell_type": "code",
      "source": [
        "#calc_distance is a function to calculate distance between pickup and dropoff coordinates using Haversine formula."
      ],
      "metadata": {
        "id": "bV5LEr38ENA8"
      },
      "execution_count": null,
      "outputs": []
    },
    {
      "cell_type": "code",
      "source": [
        "!pip install haversine"
      ],
      "metadata": {
        "id": "9Vud8yJcESxQ",
        "colab": {
          "base_uri": "https://localhost:8080/"
        },
        "outputId": "08f144ba-3e96-4737-ae3d-ac1ddd0ac0f8"
      },
      "execution_count": null,
      "outputs": [
        {
          "output_type": "stream",
          "name": "stdout",
          "text": [
            "Looking in indexes: https://pypi.org/simple, https://us-python.pkg.dev/colab-wheels/public/simple/\n",
            "Requirement already satisfied: haversine in /usr/local/lib/python3.8/dist-packages (2.7.0)\n"
          ]
        }
      ]
    },
    {
      "cell_type": "code",
      "source": [
        "from haversine import haversine"
      ],
      "metadata": {
        "id": "vMuLVutXEVhL"
      },
      "execution_count": null,
      "outputs": []
    },
    {
      "cell_type": "code",
      "source": [
        "def calc_distance(df):\n",
        "    pickup = (df['pickup_latitude'], df['pickup_longitude'])\n",
        "    drop = (df['dropoff_latitude'], df['dropoff_longitude'])\n",
        "    return haversine(pickup, drop)"
      ],
      "metadata": {
        "id": "1CT6sGCmEYB1"
      },
      "execution_count": null,
      "outputs": []
    },
    {
      "cell_type": "code",
      "source": [
        "#Calculate distance and assign new column to the dataframe.\n",
        "df['distance'] = df.apply(lambda x: calc_distance(x), axis = 1)"
      ],
      "metadata": {
        "id": "qDgqS1NdEbsi"
      },
      "execution_count": null,
      "outputs": []
    },
    {
      "cell_type": "code",
      "source": [
        "#Calculate Speed in km/hr for further insights\n",
        "df['speed'] = (df.distance/(df.trip_duration/3600))"
      ],
      "metadata": {
        "id": "oXhlpiwSEeAe"
      },
      "execution_count": null,
      "outputs": []
    },
    {
      "cell_type": "markdown",
      "source": [
        "### What all manipulations have you done and insights you found?"
      ],
      "metadata": {
        "id": "MSa1f5Uengrz"
      }
    },
    {
      "cell_type": "markdown",
      "source": [
        "The timestamp was converted to datetime to obtain additional details and new columns such as weekday, month, weekday_num, and pickup_hour were added to the dataframe for better insights. The Haversine formula was used to calculate the distance between pickup and drop-off coordinates via the calc_distance function, which was then added as a new column. The speed was calculated in km/hr for further analysis."
      ],
      "metadata": {
        "id": "LbyXE7I1olp8"
      }
    },
    {
      "cell_type": "markdown",
      "source": [
        "## ***4. Data Vizualization, Storytelling & Experimenting with charts : Understand the relationships between variables***"
      ],
      "metadata": {
        "id": "GF8Ens_Soomf"
      }
    },
    {
      "cell_type": "markdown",
      "source": [
        "#### Chart - 1 ID (Univariate Analysis)"
      ],
      "metadata": {
        "id": "0wOQAZs5pc--"
      }
    },
    {
      "cell_type": "code",
      "source": [
        "# Chart - 1 visualization code\n",
        "# First Check For count of unique id's in the dataset\n",
        "print(\"There are %d unique id's in Training dataset, which is equal to the number of records\"%(df.id.nunique()))"
      ],
      "metadata": {
        "id": "7v_ESjsspbW7"
      },
      "execution_count": null,
      "outputs": []
    },
    {
      "cell_type": "markdown",
      "source": [
        "#### Chart - 2 Vender ID (Univariate Analysis)"
      ],
      "metadata": {
        "id": "KSlN3yHqYklG"
      }
    },
    {
      "cell_type": "code",
      "source": [
        "# Chart - 2 visualization code\n",
        "fig, axes = plt.subplots(nrows=1, ncols=2,figsize=(12,5))\n",
        "ax = df['vendor_id'].value_counts().plot(kind='bar',title=\"Vendors\",ax=axes[0],color = ('blue',(1, 0.5, 0.13)))\n",
        "df['vendor_id'].value_counts().plot(kind='pie',title=\"Vendors\",ax=axes[1])\n",
        "ax.set_ylabel(\"Count\")\n",
        "ax.set_xlabel(\"Vendor Id\")\n",
        "fig.tight_layout()"
      ],
      "metadata": {
        "id": "R4YgtaqtYklH"
      },
      "execution_count": null,
      "outputs": []
    },
    {
      "cell_type": "markdown",
      "source": [
        "##### 1. Why did you pick the specific chart?"
      ],
      "metadata": {
        "id": "t6dVpIINYklI"
      }
    },
    {
      "cell_type": "markdown",
      "source": [
        "Pie charts are best used to represent parts of a whole, where the individual pieces represent a proportion of the total data.\n",
        "\n",
        "Bar plots, on the other hand, are better suited for comparing the sizes of different data sets. "
      ],
      "metadata": {
        "id": "5aaW0BYyYklI"
      }
    },
    {
      "cell_type": "markdown",
      "source": [
        "##### 2. What is/are the insight(s) found from the chart?"
      ],
      "metadata": {
        "id": "ijmpgYnKYklI"
      }
    },
    {
      "cell_type": "markdown",
      "source": [
        "As we can see, there are only two vendors (1 and 2). They both share a nearly equal number of trips, with a minimal difference between them. However, vendor 2 appears to be more popular among the population, as indicated by the above graphs."
      ],
      "metadata": {
        "id": "PSx9atu2YklI"
      }
    },
    {
      "cell_type": "markdown",
      "source": [
        "##### 3. Will the gained insights help creating a positive business impact? \n",
        "Are there any insights that lead to negative growth? Justify with specific reason."
      ],
      "metadata": {
        "id": "-JiQyfWJYklI"
      }
    },
    {
      "cell_type": "markdown",
      "source": [
        "In a business strategy, this information can be used to make informed decisions regarding vendor selection and allocation of resources:\n",
        "\n",
        "If both vendors are performing equally well in terms of number of trips, the company may choose to focus more on promoting vendor 2 as it appears to be more popular among the population.\n",
        "\n",
        "The company may also want to analyze the reason behind vendor 2's popularity and try to replicate its success with vendor 1."
      ],
      "metadata": {
        "id": "BcBbebzrYklV"
      }
    },
    {
      "cell_type": "markdown",
      "source": [
        "#### Chart - 3 Passengers (Univariate Analysis)"
      ],
      "metadata": {
        "id": "EM7whBJCYoAo"
      }
    },
    {
      "cell_type": "code",
      "source": [
        "pd.options.display.float_format = '{:.2f}'.format #To suppress scientific notation.\n",
        "df.passenger_count.value_counts()"
      ],
      "metadata": {
        "id": "6kp_qPqUjFxW"
      },
      "execution_count": null,
      "outputs": []
    },
    {
      "cell_type": "code",
      "source": [
        "# Chart - 3 visualization code\n",
        "fig, axes = plt.subplots(nrows=1, ncols=1,figsize=(16,5))\n",
        "# line = df['passenger_count'].value_counts().plot(kind='bar',fontsize = 15)\n",
        "line = sns.countplot(df.passenger_count)\n",
        "line.set_ylabel(\" Count\",fontsize = 15)\n",
        "line.set_xlabel(\"No. of Passenger \",fontsize = 15)\n",
        "line.set_title('Passenger Count',fontsize = 20)\n",
        "fig.tight_layout()\n",
        "fig, axes = plt.subplots(nrows=1, ncols=1,figsize=(16,5))\n",
        "box = df['passenger_count'].plot(kind='box',vert = False,fontsize = 15)\n",
        "box.set_title('Passenger Count',fontsize = 20)\n",
        "fig.tight_layout()"
      ],
      "metadata": {
        "id": "t6GMdE67YoAp"
      },
      "execution_count": null,
      "outputs": []
    },
    {
      "cell_type": "markdown",
      "source": [
        "##### 1. Why did you pick the specific chart?"
      ],
      "metadata": {
        "id": "fge-S5ZAYoAp"
      }
    },
    {
      "cell_type": "markdown",
      "source": [
        "Count plots are used to represent the frequency of occurrences of unique values in a dataset. \n",
        "\n",
        "Box plots, on the other hand, are used to represent the distribution of a set of values. They show the median, quartiles, and outliers of the data set, which can be useful for identifying patterns and potential anomalies."
      ],
      "metadata": {
        "id": "5dBItgRVYoAp"
      }
    },
    {
      "cell_type": "markdown",
      "source": [
        "##### 2. What is/are the insight(s) found from the chart?"
      ],
      "metadata": {
        "id": "85gYPyotYoAp"
      }
    },
    {
      "cell_type": "markdown",
      "source": [
        "There are some trips with no passengers recorded. Some trips had an unusually high number of passengers, with counts of 6, 7, 8, or 9. These are clear outliers and may indicate inconsistencies in the data. The majority of trips consist of either 1 or 2 passengers."
      ],
      "metadata": {
        "id": "4jstXR6OYoAp"
      }
    },
    {
      "cell_type": "markdown",
      "source": [
        "##### 3. Will the gained insights help creating a positive business impact? \n",
        "Are there any insights that lead to negative growth? Justify with specific reason."
      ],
      "metadata": {
        "id": "RoGjAbkUYoAp"
      }
    },
    {
      "cell_type": "markdown",
      "source": [
        "The presence of trips with 0 passengers or an unusually high number of passengers may indicate inconsistencies in the data, which could lead to inaccuracies in the prediction model. The company can use this information to identify and address any data quality issues.\n",
        "\n",
        "By understanding the distribution of passenger counts, the company can develop more accurate prediction models that take into account factors such as the number of passengers and the resulting impact on trip time."
      ],
      "metadata": {
        "id": "zfJ8IqMcYoAp"
      }
    },
    {
      "cell_type": "markdown",
      "source": [
        "#### Chart - 4 Trip duration (Univariate Analysis)"
      ],
      "metadata": {
        "id": "4Of9eVA-YrdM"
      }
    },
    {
      "cell_type": "code",
      "source": [
        "# Chart - 4 visualization code\n",
        "plt.figure(figsize = (20,5))\n",
        "sns.boxplot(df.trip_duration)\n",
        "plt.show()"
      ],
      "metadata": {
        "id": "irlUoxc8YrdO"
      },
      "execution_count": null,
      "outputs": []
    },
    {
      "cell_type": "code",
      "source": [
        "plt.figure(figsize=(10,5))\n",
        "sns.distplot(df['trip_duration'],color=\"b\").set(title='Distribution Plot for Trip Duration')"
      ],
      "metadata": {
        "id": "lmD9KSyckfyg"
      },
      "execution_count": null,
      "outputs": []
    },
    {
      "cell_type": "code",
      "source": [
        "#Some trip durations are over 100000 seconds which are clear outliers and should be removed.\n",
        "#There are some durations with as low as 1 second. which points towards trips with 0 km distance.\n",
        "#Major trip durations took between 10-20 mins to complete.\n",
        "#Mean and mode are not same which shows that trip duration distribution is skewed towards right"
      ],
      "metadata": {
        "id": "wSv8WPOpkihL"
      },
      "execution_count": null,
      "outputs": []
    },
    {
      "cell_type": "code",
      "source": [
        "# segregrating the dependent variable into different categories.\n",
        "plt.figure(figsize=[10,5])\n",
        "labels=['less then 1min','within 10 mins','within 30 mins','within hour','within day','within two days','more then two day']\n",
        "df.groupby(pd.cut(df['trip_duration'],bins=[0,60,600,1800,3600,86400,86400*2,10000000],labels=labels))['trip_duration'].count().plot(kind='bar',fontsize=10)\n",
        "plt.title(\"Bar plot for trip duration\")\n",
        "plt.ylabel(\"trip counts\")\n",
        "plt.ylabel(\"trip duration\")\n",
        "plt.xticks(rotation=45)"
      ],
      "metadata": {
        "id": "v9TBXtnxktnw"
      },
      "execution_count": null,
      "outputs": []
    },
    {
      "cell_type": "markdown",
      "source": [
        "##### 1. Why did you pick the specific chart?"
      ],
      "metadata": {
        "id": "iky9q4vBYrdO"
      }
    },
    {
      "cell_type": "markdown",
      "source": [
        "Box plots, are used to represent the distribution of a set of values. They show the median, quartiles, and outliers of the data set, which can be useful for identifying patterns and potential anomalies in passenger count.\n",
        "\n",
        "Dist plots, also known as histograms, are used to represent the distribution of a set of values. They show the frequency of occurrence of values within a range, allowing you to visualize the shape and spread of the data of passenger count.\n",
        "\n",
        "Bar plots,are used to compare the sizes of different data sets we have created."
      ],
      "metadata": {
        "id": "aJRCwT6DYrdO"
      }
    },
    {
      "cell_type": "markdown",
      "source": [
        "##### 2. What is/are the insight(s) found from the chart?"
      ],
      "metadata": {
        "id": "F6T5p64dYrdO"
      }
    },
    {
      "cell_type": "markdown",
      "source": [
        "Trips that lasted more than 20 days seem unlikely based on the distance traveled. These trips were all taken by Vendor 1, which suggests that this vendor may allow for much longer out-of-town trips. These trips all occurred on Tuesdays in the first month or Saturdays in the second month, suggesting a potential relationship between weekday, pickup location, month, and passenger count. However, such trips can introduce inaccuracies and inconsistencies in the prediction algorithm and compromise its accuracy."
      ],
      "metadata": {
        "id": "Xx8WAJvtYrdO"
      }
    },
    {
      "cell_type": "markdown",
      "source": [
        "##### 3. Will the gained insights help creating a positive business impact? \n",
        "Are there any insights that lead to negative growth? Justify with specific reason."
      ],
      "metadata": {
        "id": "y-Ehk30pYrdP"
      }
    },
    {
      "cell_type": "markdown",
      "source": [
        "By understanding the potential relationship between weekday, pickup location, month, and passenger count, the company can optimize its resource allocation by focusing on the most popular days, locations, and months.\n",
        "\n",
        "By understanding the trends in trip duration, the company can design better customer experiences that cater to the needs of its target audience, such as providing more suitable vehicles for longer trips."
      ],
      "metadata": {
        "id": "jLNxxz7MYrdP"
      }
    },
    {
      "cell_type": "markdown",
      "source": [
        "#### Chart - 5 Distance (Univariate Analysis)"
      ],
      "metadata": {
        "id": "bamQiAODYuh1"
      }
    },
    {
      "cell_type": "code",
      "source": [
        "# Chart - 5 visualization code\n",
        "plt.figure(figsize = (20,5))\n",
        "sns.boxplot(df.distance)\n",
        "plt.show()"
      ],
      "metadata": {
        "id": "TIJwrbroYuh3"
      },
      "execution_count": null,
      "outputs": []
    },
    {
      "cell_type": "code",
      "source": [
        "df['distance'].mean()"
      ],
      "metadata": {
        "id": "jHVOvoXamRfc"
      },
      "execution_count": null,
      "outputs": []
    },
    {
      "cell_type": "code",
      "source": [
        "## We will check this records having distance as zero."
      ],
      "metadata": {
        "id": "mUeQqGbVnhAk"
      },
      "execution_count": null,
      "outputs": []
    },
    {
      "cell_type": "code",
      "source": [
        "print(f\"There are {df.distance[df.distance == 0 ].count()} trip records with 0 distance.\")"
      ],
      "metadata": {
        "id": "HUSvFIHbnqaS"
      },
      "execution_count": null,
      "outputs": []
    },
    {
      "cell_type": "code",
      "source": [
        "df[df.distance == 0 ].head()"
      ],
      "metadata": {
        "id": "_3mIXsj_nsoQ"
      },
      "execution_count": null,
      "outputs": []
    },
    {
      "cell_type": "markdown",
      "source": [
        "Around 6K trip record with distance equal to 0.\n",
        "\n",
        "Below are some possible explanation for such records.\n",
        "\n",
        "1)Customer changed mind and cancelled the journey just after accepting it.\n",
        "\n",
        "2)Software didn't recorded dropoff location properly due to which dropoff location is the same as the pickup location.\n",
        "\n",
        "3)Issue with GPS tracker while the journey is being finished.\n",
        "\n",
        "4)Driver cancelled the trip just after accepting it due to some reason. So the trip couldn't start\n",
        "\n",
        "5)Or some other issue with the software itself which a technical guy can explain.\n",
        "\n",
        "There is some serious inconsistencies in the data where drop off location is same as the pickup location. \n",
        "\n",
        "We cant think off imputing the distance values considering a correlation with the duration \n",
        "\n",
        "because the dropoff_location coordinates would not be inline with the distance otherwise. \n",
        "\n",
        "We will look more to it in bivariate analysis with the Trip duration."
      ],
      "metadata": {
        "id": "A_I2Y2TVofd7"
      }
    },
    {
      "cell_type": "code",
      "source": [
        "df.distance.groupby(pd.cut(df.distance, np.arange(0,80,10))).count().plot(kind='barh',figsize = (19,4))\n",
        "plt.show()"
      ],
      "metadata": {
        "id": "n06RDZqjnzQN"
      },
      "execution_count": null,
      "outputs": []
    },
    {
      "cell_type": "markdown",
      "source": [
        "From the above observation it is evident that most of the rides are completed between 1-10 km with some of the rides with distances between 10-30 km. Other slabs bar are not visible because the number of trips are very less as compared to these slabs"
      ],
      "metadata": {
        "id": "uL_cTQwzo3K3"
      }
    },
    {
      "cell_type": "code",
      "source": [
        "ax = df['distance'].hist(bins=30, figsize=(18,5))\n",
        "ax.set_yscale('log')\n",
        "ax.set_xlabel(\"trip distance (km)\")\n",
        "ax.set_ylabel(\"count\")\n",
        "plt.show()"
      ],
      "metadata": {
        "id": "GFf-cE_Jo6Zz"
      },
      "execution_count": null,
      "outputs": []
    },
    {
      "cell_type": "markdown",
      "source": [
        "According to the dustribution of trip distances and the fact that it takes about 50 km to drive across the whole New York City, we decided to use 50 as the number to split the trips into short or long distance trips."
      ],
      "metadata": {
        "id": "Pl-OUbvto7Os"
      }
    },
    {
      "cell_type": "code",
      "source": [
        "df_short = df[df.distance <= 50].count()\n",
        "df_long = df[df.distance > 50].count()\n",
        "print(f\"Short Trips: {df_short[0]} records in total.\\nLong Trips: {df_long[0]} records in total\")"
      ],
      "metadata": {
        "id": "H6hmePvqpAoe"
      },
      "execution_count": null,
      "outputs": []
    },
    {
      "cell_type": "markdown",
      "source": [
        "##### 1. Why did you pick the specific chart?"
      ],
      "metadata": {
        "id": "QHF8YVU7Yuh3"
      }
    },
    {
      "cell_type": "markdown",
      "source": [
        "Box plots, as previously mentioned, are used to represent the distribution of a set of values. They show the median, quartiles, and outliers of the data set, which can be useful for identifying patterns and potential anomalies. So we choose box plot for visualizing distance data.\n",
        "\n",
        "Histograms are a quick and easy way to get a sense of the distribution of your data and use the binned intervals from a histogram to create categorical features for a machine learning model."
      ],
      "metadata": {
        "id": "dcxuIMRPYuh3"
      }
    },
    {
      "cell_type": "markdown",
      "source": [
        "##### 2. What is/are the insight(s) found from the chart?"
      ],
      "metadata": {
        "id": "GwzvFGzlYuh3"
      }
    },
    {
      "cell_type": "markdown",
      "source": [
        "There are some trips with a distance of over 100 km. \n",
        "\n",
        "Some trips have a distance value of 0 km, while the average distance traveled is approximately 3.5 km.\n",
        "\n",
        "Also there are 1458556 records of Short Trips and 88 records of Long Trip."
      ],
      "metadata": {
        "id": "uyqkiB8YYuh3"
      }
    },
    {
      "cell_type": "markdown",
      "source": [
        "##### 3. Will the gained insights help creating a positive business impact? \n",
        "Are there any insights that lead to negative growth? Justify with specific reason."
      ],
      "metadata": {
        "id": "qYpmQ266Yuh3"
      }
    },
    {
      "cell_type": "markdown",
      "source": [
        "By understanding the average distance traveled, the company can optimize its pricing strategies by charging appropriately for longer trips."
      ],
      "metadata": {
        "id": "_WtzZ_hCYuh4"
      }
    },
    {
      "cell_type": "markdown",
      "source": [
        "#### Chart - 6 Speed (Univariate Analysis)"
      ],
      "metadata": {
        "id": "OH-pJp9IphqM"
      }
    },
    {
      "cell_type": "markdown",
      "source": [
        "Speed is a function of distance and time. Let's visualize speed in different trips.\n",
        "\n",
        "Maximum speed limit in NYC is as follows:\n",
        "\n",
        "25 mph in urban area i.e. 40 kmph\n",
        "\n",
        "65 mph on controlled state highways i.e. 104 kmph"
      ],
      "metadata": {
        "id": "yvWCmMBRWOix"
      }
    },
    {
      "cell_type": "code",
      "source": [
        "# Chart - 6 visualization code\n",
        "plt.figure(figsize = (20,5))\n",
        "sns.boxplot(df.speed)\n",
        "plt.show()"
      ],
      "metadata": {
        "id": "kuRf4wtuphqN"
      },
      "execution_count": null,
      "outputs": []
    },
    {
      "cell_type": "markdown",
      "source": [
        "Many trips were done at a speed of over 200 kmph. Going SuperSonic..!!"
      ],
      "metadata": {
        "id": "ZlFUIs1DWX4X"
      }
    },
    {
      "cell_type": "markdown",
      "source": [
        "Let's remove them and focus on the trips which were done at less than 104kmph as per the speed limits"
      ],
      "metadata": {
        "id": "xo6615SxWgfp"
      }
    },
    {
      "cell_type": "code",
      "source": [
        "df = df[df.speed <= 104]\n",
        "df.speed.groupby(pd.cut(df.speed, np.arange(0,100,10))).count().plot(kind = 'barh',figsize = (19,5))\n",
        "plt.xlabel('Trip count')\n",
        "plt.ylabel('Speed (kmph)')\n",
        "plt.title('Speed')\n",
        "plt.show()"
      ],
      "metadata": {
        "id": "rQQmohF2Wru3"
      },
      "execution_count": null,
      "outputs": []
    },
    {
      "cell_type": "markdown",
      "source": [
        "Trips over 30 kmph are being considered as outliers but we cannot ignore them because they are well under the highest speed limit of 104 kmph on state controlled highways.\n",
        "\n",
        "Mostly trips are done at a speed range of 10-20kmph."
      ],
      "metadata": {
        "id": "cdIhDDc-WzJX"
      }
    },
    {
      "cell_type": "markdown",
      "source": [
        "##### 1. Why did you pick the specific chart?"
      ],
      "metadata": {
        "id": "bbFf2-_FphqN"
      }
    },
    {
      "cell_type": "markdown",
      "source": [
        "It is a suitable choice for showing the distribution of a categorical variable, in this case the speed ranges of a vehicle.\n",
        "\n",
        "Bar plots are often used to compare the values of different categories, and the horizontal orientation in this case makes it easier to compare the trip counts for each speed range. Additionally, the use of a bar plot helps to visualize the distribution of the speeds, making it easier to see how many trips fall into each speed range."
      ],
      "metadata": {
        "id": "loh7H2nzphqN"
      }
    },
    {
      "cell_type": "markdown",
      "source": [
        "##### 2. What is/are the insight(s) found from the chart?"
      ],
      "metadata": {
        "id": "_ouA3fa0phqN"
      }
    },
    {
      "cell_type": "markdown",
      "source": [
        "It is evident from this graph what we thought off i.e. most of the trips were done at a speed range of 10-20 kmph."
      ],
      "metadata": {
        "id": "VECbqPI7phqN"
      }
    },
    {
      "cell_type": "markdown",
      "source": [
        "##### 3. Will the gained insights help creating a positive business impact? \n",
        "Are there any insights that lead to negative growth? Justify with specific reason."
      ],
      "metadata": {
        "id": "Seke61FWphqN"
      }
    },
    {
      "cell_type": "markdown",
      "source": [
        "If there are any trips with abnormally high speeds, this could indicate a potential issue with the data or an error in recording the speed. This information could help to improve the accuracy of the data used for the prediction model.\n",
        "\n",
        "The speed distribution could give an idea of the average speed of vehicles in different regions or at different times of day, which could be useful in making predictions about trip times. "
      ],
      "metadata": {
        "id": "DW4_bGpfphqN"
      }
    },
    {
      "cell_type": "markdown",
      "source": [
        "#### Chart - 7 Trips Per Hour (Bivariate Analysis)"
      ],
      "metadata": {
        "id": "PIIx-8_IphqN"
      }
    },
    {
      "cell_type": "code",
      "source": [
        "# Chart - 7 visualization code\n",
        "sns.countplot(df.pickup_hour)\n",
        "plt.show()"
      ],
      "metadata": {
        "id": "lqAIGUfyphqO"
      },
      "execution_count": null,
      "outputs": []
    },
    {
      "cell_type": "markdown",
      "source": [
        "##### 1. Why did you pick the specific chart?"
      ],
      "metadata": {
        "id": "t27r6nlMphqO"
      }
    },
    {
      "cell_type": "markdown",
      "source": [
        "Count plots, also known as bar plots, are often used to compare the frequency or count of occurrences for different categories. In this case, the categories are the hours of the day, and the count plot shows the number of trips taken during each hour."
      ],
      "metadata": {
        "id": "iv6ro40sphqO"
      }
    },
    {
      "cell_type": "markdown",
      "source": [
        "##### 2. What is/are the insight(s) found from the chart?"
      ],
      "metadata": {
        "id": "r2jJGEOYphqO"
      }
    },
    {
      "cell_type": "markdown",
      "source": [
        "The plot reveals that the hours with the highest number of trips are the 18th and 19th hours of the day."
      ],
      "metadata": {
        "id": "Po6ZPi4hphqO"
      }
    },
    {
      "cell_type": "markdown",
      "source": [
        "##### 3. Will the gained insights help creating a positive business impact? \n",
        "Are there any insights that lead to negative growth? Justify with specific reason."
      ],
      "metadata": {
        "id": "b0JNsNcRphqO"
      }
    },
    {
      "cell_type": "markdown",
      "source": [
        "Understanding the hourly distribution of trips can help the business optimize its fleet deployment. For example, if there is a high demand for taxis during the 18th and 19th hours of the day, the business can allocate more vehicles during these hours to meet the demand."
      ],
      "metadata": {
        "id": "xvSq8iUTphqO"
      }
    },
    {
      "cell_type": "markdown",
      "source": [
        "#### Chart - 8 Trips Per weekday (Bivariate Analysis)"
      ],
      "metadata": {
        "id": "BZR9WyysphqO"
      }
    },
    {
      "cell_type": "code",
      "source": [
        "# Chart - 8 visualization code\n",
        "plt.figure(figsize = (14,5))\n",
        "sns.countplot(df.weekday)\n",
        "plt.xlabel(' WeekDay ')\n",
        "plt.ylabel('Trip counts')\n",
        "plt.title('Trips per Day',fontsize = 20)\n",
        "plt.show()"
      ],
      "metadata": {
        "id": "TdPTWpAVphqO"
      },
      "execution_count": null,
      "outputs": []
    },
    {
      "cell_type": "markdown",
      "source": [
        "##### 1. Why did you pick the specific chart?"
      ],
      "metadata": {
        "id": "jj7wYXLtphqO"
      }
    },
    {
      "cell_type": "markdown",
      "source": [
        "The use of a count plot helps to visualize the distribution of the trips over different days of the week, making it easier to see which days are the busiest and which days have fewer trips. This information can be useful for understanding the patterns of demand for the taxi service and for making predictions about future trip times."
      ],
      "metadata": {
        "id": "Ob8u6rCTphqO"
      }
    },
    {
      "cell_type": "markdown",
      "source": [
        "##### 2. What is/are the insight(s) found from the chart?"
      ],
      "metadata": {
        "id": "eZrbJ2SmphqO"
      }
    },
    {
      "cell_type": "markdown",
      "source": [
        "From this chart, it is clear that there is a rising trend in taxi pickups starting from Monday and continuing through Friday. On the weekends, the trend starts to decline, which is typical as people who typically go to work during the week may prefer to stay home for rest on the weekends."
      ],
      "metadata": {
        "id": "mZtgC_hjphqO"
      }
    },
    {
      "cell_type": "markdown",
      "source": [
        "##### 3. Will the gained insights help creating a positive business impact? \n",
        "Are there any insights that lead to negative growth? Justify with specific reason."
      ],
      "metadata": {
        "id": "rFu4xreNphqO"
      }
    },
    {
      "cell_type": "markdown",
      "source": [
        "If the company knows that there is a higher demand for taxis on certain days of the week, it can schedule more drivers and vehicles to be available on those days. This could lead to a better customer experience, as there will be fewer instances of passengers having to wait for long periods of time to get a taxi."
      ],
      "metadata": {
        "id": "ey_0qi68phqO"
      }
    },
    {
      "cell_type": "markdown",
      "source": [
        "#### Chart - 9 Trips Per Month (Bivariate Analysis)"
      ],
      "metadata": {
        "id": "YJ55k-q6phqO"
      }
    },
    {
      "cell_type": "code",
      "source": [
        "# Chart - 9 visualization code\n",
        "plt.figure(figsize = (19,5))\n",
        "sns.countplot(df.month)\n",
        "plt.ylabel('Trip Counts',fontsize = 15)\n",
        "plt.xlabel('Months',fontsize = 15)\n",
        "plt.title('Trips per Month',fontsize = 20)\n",
        "plt.show()"
      ],
      "metadata": {
        "id": "B2aS4O1ophqO"
      },
      "execution_count": null,
      "outputs": []
    },
    {
      "cell_type": "markdown",
      "source": [
        "##### 1. Why did you pick the specific chart?"
      ],
      "metadata": {
        "id": "gCFgpxoyphqP"
      }
    },
    {
      "cell_type": "markdown",
      "source": [
        "The specific chart was picked to visualize the distribution of trips made per month. A bar graph is an effective way to compare the number of trips made in different months and to see the overall trend. By using a bar graph, it is easier to identify which months have higher or lower demand for the taxi service."
      ],
      "metadata": {
        "id": "TVxDimi2phqP"
      }
    },
    {
      "cell_type": "markdown",
      "source": [
        "##### 2. What is/are the insight(s) found from the chart?"
      ],
      "metadata": {
        "id": "OVtJsKN_phqQ"
      }
    },
    {
      "cell_type": "markdown",
      "source": [
        "From the chart, it appears that the number of trips made in each month is relatively consistent, with a range of approximately 200,000 to 250,000 trips per month. This information could suggest that demand for the taxi service is relatively stable throughout the year."
      ],
      "metadata": {
        "id": "ngGi97qjphqQ"
      }
    },
    {
      "cell_type": "markdown",
      "source": [
        "##### 3. Will the gained insights help creating a positive business impact? \n",
        "Are there any insights that lead to negative growth? Justify with specific reason."
      ],
      "metadata": {
        "id": "lssrdh5qphqQ"
      }
    },
    {
      "cell_type": "markdown",
      "source": [
        "There is no apparent insight that would lead to negative growth in this chart."
      ],
      "metadata": {
        "id": "tBpY5ekJphqQ"
      }
    },
    {
      "cell_type": "markdown",
      "source": [
        "#### Chart - 10 Trip Duration per hour (Bivariate Analysis)"
      ],
      "metadata": {
        "id": "U2RJ9gkRphqQ"
      }
    },
    {
      "cell_type": "markdown",
      "source": [
        "We need to aggregate the total trip duration to plot it agaist the month. The aggregation measure can be anything like sum, mean, median or mode for the duration. Since we already did the outlier analysis, so we can take the mean to visualize the pattern which should not result in the bias of the general trend."
      ],
      "metadata": {
        "id": "QTNMGjD1djny"
      }
    },
    {
      "cell_type": "code",
      "source": [
        "# Chart - 10 visualization code\n",
        "plt.figure(figsize = (14,5))\n",
        "group1 = df.groupby('pickup_hour').trip_duration.mean()\n",
        "sns.pointplot(group1.index, group1.values)\n",
        "plt.ylabel('Trip Duration (seconds)')\n",
        "plt.xlabel('Pickup Hour')\n",
        "plt.title('Trip Duration per Hour')\n",
        "plt.show()"
      ],
      "metadata": {
        "id": "GM7a4YP4phqQ"
      },
      "execution_count": null,
      "outputs": []
    },
    {
      "cell_type": "markdown",
      "source": [
        "##### 1. Why did you pick the specific chart?"
      ],
      "metadata": {
        "id": "1M8mcRywphqQ"
      }
    },
    {
      "cell_type": "markdown",
      "source": [
        "This chart was picked to visualize the average trip duration across different hours of the day. By plotting the average trip duration per hour, it's possible to identify any patterns or trends in the duration of trips over time."
      ],
      "metadata": {
        "id": "8agQvks0phqQ"
      }
    },
    {
      "cell_type": "markdown",
      "source": [
        "##### 2. What is/are the insight(s) found from the chart?"
      ],
      "metadata": {
        "id": "tgIPom80phqQ"
      }
    },
    {
      "cell_type": "markdown",
      "source": [
        "The average trip duration is shortest at 6 AM when road traffic is minimal. During peak hours, around 3 PM, the average trip duration tends to be longer. On the other hand, the average trip duration remains relatively consistent during the early morning hours before 6 AM and the late evening hours after 6 PM."
      ],
      "metadata": {
        "id": "Qp13pnNzphqQ"
      }
    },
    {
      "cell_type": "markdown",
      "source": [
        "##### 3. Will the gained insights help creating a positive business impact? \n",
        "Are there any insights that lead to negative growth? Justify with specific reason."
      ],
      "metadata": {
        "id": "JMzcOPDDphqR"
      }
    },
    {
      "cell_type": "markdown",
      "source": [
        "The insights can also be used to optimize routes, reducing the total time spent on the road and increasing the number of trips that can be completed in a given day."
      ],
      "metadata": {
        "id": "R4Ka1PC2phqR"
      }
    },
    {
      "cell_type": "markdown",
      "source": [
        "#### Chart - 11 Trip duration per WeekDay (Bivariate Analysis)"
      ],
      "metadata": {
        "id": "x-EpHcCOp1ci"
      }
    },
    {
      "cell_type": "code",
      "source": [
        "# Chart - 11 visualization code\n",
        "plt.figure(figsize = (14,5))\n",
        "group2 = df.groupby('weekday').trip_duration.mean()\n",
        "sns.pointplot(group2.index, group2.values)\n",
        "plt.ylabel('Trip Duration (seconds)')\n",
        "plt.xlabel('Weekday')\n",
        "plt.title('Trip Duration per WeekDay')\n",
        "plt.show()"
      ],
      "metadata": {
        "id": "mAQTIvtqp1cj"
      },
      "execution_count": null,
      "outputs": []
    },
    {
      "cell_type": "markdown",
      "source": [
        "##### 1. Why did you pick the specific chart?"
      ],
      "metadata": {
        "id": "X_VqEhTip1ck"
      }
    },
    {
      "cell_type": "markdown",
      "source": [
        "I picked this chart because it shows the mean trip duration for each day of the week. This helps in understanding how the trip duration changes based on the day of the week, and if there is any specific day where the trip duration is particularly higher or lower compared to other days."
      ],
      "metadata": {
        "id": "-vsMzt_np1ck"
      }
    },
    {
      "cell_type": "markdown",
      "source": [
        "##### 2. What is/are the insight(s) found from the chart?"
      ],
      "metadata": {
        "id": "8zGJKyg5p1ck"
      }
    },
    {
      "cell_type": "markdown",
      "source": [
        "The graph shows that the average trip duration increases from Monday to Thursday and then decreases until Sunday.\n",
        "\n",
        "The trip duration is roughly the same throughout the week, with small variations in the range of 0-1000 minutes. Thursday appears to have the longest trip duration compared to the other days."
      ],
      "metadata": {
        "id": "ZYdMsrqVp1ck"
      }
    },
    {
      "cell_type": "markdown",
      "source": [
        "##### 3. Will the gained insights help creating a positive business impact? \n",
        "Are there any insights that lead to negative growth? Justify with specific reason."
      ],
      "metadata": {
        "id": "PVzmfK_Ep1ck"
      }
    },
    {
      "cell_type": "markdown",
      "source": [
        "They can schedule more drivers during the weekdays when the trip duration is increasing to meet the demand, which can result in higher customer satisfaction and revenue. On the other hand, there are no insights that lead to negative growth in this chart."
      ],
      "metadata": {
        "id": "druuKYZpp1ck"
      }
    },
    {
      "cell_type": "markdown",
      "source": [
        "#### Chart - 12 Trip duration per Month (Bivariate Analysis)"
      ],
      "metadata": {
        "id": "n3dbpmDWp1ck"
      }
    },
    {
      "cell_type": "code",
      "source": [
        "# Chart - 12 visualization code\n",
        "plt.figure(figsize = (14,5))\n",
        "group3 = df.groupby('month').trip_duration.mean()\n",
        "sns.pointplot(group3.index, group3.values)\n",
        "plt.ylabel('Trip Duration (seconds)')\n",
        "plt.xlabel('Month')\n",
        "plt.title('Trip Duration per Month')\n",
        "plt.show()"
      ],
      "metadata": {
        "id": "bwevp1tKp1ck"
      },
      "execution_count": null,
      "outputs": []
    },
    {
      "cell_type": "markdown",
      "source": [
        "##### 1. Why did you pick the specific chart?"
      ],
      "metadata": {
        "id": "ylSl6qgtp1ck"
      }
    },
    {
      "cell_type": "markdown",
      "source": [
        "The chart was picked to visualize the average trip duration for each month. This helps to understand if there are any patterns or trends in the trip duration based on the time of the year."
      ],
      "metadata": {
        "id": "m2xqNkiQp1ck"
      }
    },
    {
      "cell_type": "markdown",
      "source": [
        "##### 2. What is/are the insight(s) found from the chart?"
      ],
      "metadata": {
        "id": "ZWILFDl5p1ck"
      }
    },
    {
      "cell_type": "markdown",
      "source": [
        "\n",
        "We can see an increasing trend in the average trip duration along with each subsequent month.\n",
        "\n",
        "The duration difference between each month is not much. It has increased gradually over a period of 6 months.\n",
        "\n",
        "It is lowest during february when winters starts declining.\n",
        "\n",
        "There might be some seasonal parameters like wind/rain which can be a factor of this gradual increase in trip duration over a period. Like May is generally the considered as the wettest month in NYC and which is inline with our visualization. As it generally takes longer on the roads due to traffic jams during rainy season. So natually the trip duration would increase towards April May and June."
      ],
      "metadata": {
        "id": "KB0RtbY0enO5"
      }
    },
    {
      "cell_type": "markdown",
      "source": [
        "##### 3. Will the gained insights help creating a positive business impact? \n",
        "Are there any insights that lead to negative growth? Justify with specific reason."
      ],
      "metadata": {
        "id": "M7G43BXep1ck"
      }
    },
    {
      "cell_type": "markdown",
      "source": [
        "The insights from the chart can potentially help create a positive business impact by providing an understanding of the average trip duration across different months. This information can help the business to optimize the resources and improve the services during the months with the highest trip duration"
      ],
      "metadata": {
        "id": "5wwDJXsLp1cl"
      }
    },
    {
      "cell_type": "markdown",
      "source": [
        "#### Chart - 13 Trip duration per vendor (Bivariate Analysis)"
      ],
      "metadata": {
        "id": "Ag9LCva-p1cl"
      }
    },
    {
      "cell_type": "code",
      "source": [
        "# Chart - 13 visualization code\n",
        "group4 = df.groupby('vendor_id').trip_duration.mean()\n",
        "sns.barplot(group4.index, group4.values)\n",
        "plt.ylabel('Trip Duration (seconds)')\n",
        "plt.xlabel('Vendor')\n",
        "plt.title('Trip Duration per Vendor')\n",
        "plt.show()"
      ],
      "metadata": {
        "id": "EUfxeq9-p1cl"
      },
      "execution_count": null,
      "outputs": []
    },
    {
      "cell_type": "markdown",
      "source": [
        "##### 1. Why did you pick the specific chart?"
      ],
      "metadata": {
        "id": "E6MkPsBcp1cl"
      }
    },
    {
      "cell_type": "markdown",
      "source": [
        "The purpose of this chart is to compare the trip duration of two different vendors and see if there is any significant difference between them."
      ],
      "metadata": {
        "id": "V22bRsFWp1cl"
      }
    },
    {
      "cell_type": "markdown",
      "source": [
        "##### 2. What is/are the insight(s) found from the chart?"
      ],
      "metadata": {
        "id": "2cELzS2fp1cl"
      }
    },
    {
      "cell_type": "markdown",
      "source": [
        "Vendor 2 takes the crown. Average trip duration for vendor 2 is higher than vendor 1 by a quite low margin(200 seconds)."
      ],
      "metadata": {
        "id": "ozQPc2_Ip1cl"
      }
    },
    {
      "cell_type": "markdown",
      "source": [
        "##### 3. Will the gained insights help creating a positive business impact? \n",
        "Are there any insights that lead to negative growth? Justify with specific reason."
      ],
      "metadata": {
        "id": "3MPXvC8up1cl"
      }
    },
    {
      "cell_type": "markdown",
      "source": [
        "The comparison of the average trip duration of the two vendors can help the business understand which vendor provides more efficient and faster services to customers, leading to a positive impact."
      ],
      "metadata": {
        "id": "GL8l1tdLp1cl"
      }
    },
    {
      "cell_type": "markdown",
      "source": [
        "#### Chart - 14 Distance per hour (Bivariate Analysis)"
      ],
      "metadata": {
        "id": "pubSr7gOfNJu"
      }
    },
    {
      "cell_type": "markdown",
      "source": [
        "Now, let us check how the distance is distributed against different variables. We know that trip distance must be more or less proportional to the trip duration if we ignore general traffic and other stuff on the road. Let's visualize this for each hour now.\n",
        "\n",
        "Since we have already done the outlier analysis for this variable as well. We can take the mean as aggregate measure for our visualizations."
      ],
      "metadata": {
        "id": "2wjHOsVefSCC"
      }
    },
    {
      "cell_type": "code",
      "source": [
        "# Chart - 14 visualization code\n",
        "plt.figure(figsize = (14,5))\n",
        "group5 = df.groupby('pickup_hour').distance.mean()\n",
        "sns.pointplot(group5.index, group5.values)\n",
        "plt.ylabel('Distance (km)')\n",
        "plt.title('Distance per Hour')\n",
        "plt.show()"
      ],
      "metadata": {
        "id": "zM6t_AMPfWNV"
      },
      "execution_count": null,
      "outputs": []
    },
    {
      "cell_type": "markdown",
      "source": [
        "##### 1. Why did you pick the specific chart?"
      ],
      "metadata": {
        "id": "x2cUSgt5kZTJ"
      }
    },
    {
      "cell_type": "markdown",
      "source": [
        "The chart shows the average distance of the taxi trips during different hours of the day. The chart is created to understand the relationship between the hour of the day and the average distance of the trips. The y-axis represents the average distance in kilometers, while the x-axis represents the hour of the day. The pointplot is used to show the average value at each hour."
      ],
      "metadata": {
        "id": "VcoxnAe5xU0p"
      }
    },
    {
      "cell_type": "markdown",
      "source": [
        "##### 2. What is/are the insight(s) found from the chart?"
      ],
      "metadata": {
        "id": "d9vwJ7iDk5fy"
      }
    },
    {
      "cell_type": "markdown",
      "source": [
        "Trip distance is highest during early morning hours which can account for some things like:\n",
        "\n",
        "Outstation trips taken during the weekends.\n",
        "\n",
        "Longer trips towards the city airport which is located in the outskirts of the city.\n",
        "\n",
        "Trip distance is fairly equal from morning till the evening varying around 3 - 3.5 km.\n",
        "\n",
        "It starts increasing gradually towards the late night hours starting from evening till 5 AM and decrease steeply towards morning."
      ],
      "metadata": {
        "id": "Vek1LG6mfiiA"
      }
    },
    {
      "cell_type": "markdown",
      "source": [
        "#### Chart - 15 Distance per WeekDay (Bivariate Analysis)"
      ],
      "metadata": {
        "id": "yX9MhY4efqwi"
      }
    },
    {
      "cell_type": "code",
      "source": [
        "# Chart - 15 visualization code\n",
        "plt.figure(figsize = (14,5))\n",
        "group6 = df.groupby('weekday').distance.mean()\n",
        "sns.pointplot(group6.index, group6.values)\n",
        "plt.ylabel('Distance (km)')\n",
        "plt.title('Distance per WeekDay')\n",
        "plt.show()"
      ],
      "metadata": {
        "id": "zAJIUe_Lfrun"
      },
      "execution_count": null,
      "outputs": []
    },
    {
      "cell_type": "markdown",
      "source": [
        "##### What is/are the insight(s) found from the chart?"
      ],
      "metadata": {
        "id": "2GQw-7jsk4IC"
      }
    },
    {
      "cell_type": "markdown",
      "source": [
        "The average distance metric is fairly evenly distributed with values ranging around 3.5 km. It is observed that the highest average distance is recorded on Sundays, which could be due to out-of-town trips or night trips to the airport."
      ],
      "metadata": {
        "id": "ce6TlTO7fxbE"
      }
    },
    {
      "cell_type": "markdown",
      "source": [
        "#### Chart - 16 Distance per Month (Bivariate Analysis)"
      ],
      "metadata": {
        "id": "dmnaPUkmf0sk"
      }
    },
    {
      "cell_type": "code",
      "source": [
        "# Chart - 16 visualization code\n",
        "plt.figure(figsize = (14,5))\n",
        "group7 = df.groupby('month').distance.mean()\n",
        "sns.pointplot(group7.index, group7.values)\n",
        "plt.ylabel('Distance (km)')\n",
        "plt.xlabel('Month')\n",
        "plt.title('Distance per Month')\n",
        "plt.show()"
      ],
      "metadata": {
        "id": "Dnut5eshf4ar"
      },
      "execution_count": null,
      "outputs": []
    },
    {
      "cell_type": "markdown",
      "source": [
        "##### What is/are the insight(s) found from the chart?"
      ],
      "metadata": {
        "id": "TzcT2R1_k2jo"
      }
    },
    {
      "cell_type": "markdown",
      "source": [
        "The average distance metric is relatively stable, fluctuating around 3.5 km, with the highest average distance observed in the 5th month and the lowest in the 2nd month."
      ],
      "metadata": {
        "id": "RrLVm08Zf7we"
      }
    },
    {
      "cell_type": "markdown",
      "source": [
        "#### Chart - 17 Distance per Vendor (Bivariate Analysis)"
      ],
      "metadata": {
        "id": "f9Tz3P3CgA1-"
      }
    },
    {
      "cell_type": "code",
      "source": [
        "# Chart - 17 visualization code\n",
        "group8 = df.groupby('vendor_id').distance.mean()\n",
        "sns.barplot(group8.index, group8.values)\n",
        "plt.ylabel(\"Distance km\")\n",
        "plt.xlabel(\"Vendor\")\n",
        "plt.title('Distance per Vendor')\n",
        "plt.show()"
      ],
      "metadata": {
        "id": "esfzOqgwgGUy"
      },
      "execution_count": null,
      "outputs": []
    },
    {
      "cell_type": "markdown",
      "source": [
        "##### What is/are the insight(s) found from the chart?"
      ],
      "metadata": {
        "id": "4zFYjujbk1Q8"
      }
    },
    {
      "cell_type": "markdown",
      "source": [
        "The average distance covered by both the vendors is roughly the same, with little variation. There isn't much more to be deduced from this observation."
      ],
      "metadata": {
        "id": "Ux-35GiEgJFC"
      }
    },
    {
      "cell_type": "markdown",
      "source": [
        "#### Chart - 18 Distance v/s Trip duration (Bivariate Analysis)"
      ],
      "metadata": {
        "id": "kqpPBdbegMgC"
      }
    },
    {
      "cell_type": "code",
      "source": [
        "# Chart - 18 visualization code\n",
        "plt.figure(figsize = (10,5))\n",
        "plt.scatter(df.trip_duration, df.distance , s=5, alpha=1)\n",
        "plt.ylabel('Distance')\n",
        "plt.xlabel('Trip Duration')\n",
        "plt.title('Distance v/s Trip Duration')\n",
        "plt.show()"
      ],
      "metadata": {
        "id": "-rotUzFEgPqO"
      },
      "execution_count": null,
      "outputs": []
    },
    {
      "cell_type": "markdown",
      "source": [
        "The graph shows that there were a significant number of trips that covered very little distance but took more than 20,000 seconds in duration. \n",
        "\n",
        "Initially, there appears to be a correlation between distance covered and trip duration, but this relationship breaks down later on. \n",
        "\n",
        "There were also a few trips that covered a large distance of around 200km in a very short amount of time, which seems implausible and should be considered outliers."
      ],
      "metadata": {
        "id": "5JIqZ5eTgSxs"
      }
    },
    {
      "cell_type": "markdown",
      "source": [
        "Let's focus on the graph area where distance is < 50 kmph and duration is < 1000 seconds."
      ],
      "metadata": {
        "id": "I4bA1P_HgZqW"
      }
    },
    {
      "cell_type": "code",
      "source": [
        "plt.figure(figsize = (10,5))\n",
        "dur_dist = df.loc[(df.distance < 50) & (df.trip_duration < 1000), ['distance','trip_duration']]\n",
        "plt.scatter(dur_dist.trip_duration, dur_dist.distance , s=1, alpha=0.5)\n",
        "plt.ylabel('Distance')\n",
        "plt.xlabel('Trip Duration')\n",
        "plt.title('Distance v/s Trip Duration')\n",
        "plt.show()"
      ],
      "metadata": {
        "id": "R9TKvRyhgcom"
      },
      "execution_count": null,
      "outputs": []
    },
    {
      "cell_type": "markdown",
      "source": [
        "##### 1. Why did you pick the specific chart?"
      ],
      "metadata": {
        "id": "cNsyVQDOkeQq"
      }
    },
    {
      "cell_type": "markdown",
      "source": [
        "I picked this specific chart because it displays the relationship between the distance covered by the trip and the trip duration. The scatter plot helps to visualize the distribution of the data points and highlight any patterns or trends that may exist between the two variables. This helps to gain insights about the relationship between distance and trip duration and whether there is any correlation between the two variables. The chart was generated after filtering the data to only include trips with a distance of less than 50 km and a trip duration of less than 1000 seconds, to eliminate any outliers that could distort the relationship between the two variables."
      ],
      "metadata": {
        "id": "jjK-QXEqzQ6v"
      }
    },
    {
      "cell_type": "markdown",
      "source": [
        "##### 2. What is/are the insight(s) found from the chart?"
      ],
      "metadata": {
        "id": "bV-YfItqky0V"
      }
    },
    {
      "cell_type": "markdown",
      "source": [
        "The correlation between distance covered and trip duration should have been linear, but as seen in the chart, there is a cluster of trips in the lower right corner which indicate inconsistencies in the data. \n",
        "\n",
        "To make the data more consistent for predictive modeling, it would be appropriate to remove trips that covered no distance but lasted more than a minute. \n",
        "\n",
        "This can be assumed that these trips were cancelled after booking and thus should not have taken more than a minute."
      ],
      "metadata": {
        "id": "aGoQyKXdzlKS"
      }
    },
    {
      "cell_type": "markdown",
      "source": [
        "#### Chart - 19 Average speed per hour (Bivariate Analysis)"
      ],
      "metadata": {
        "id": "70Ld1b63gq8x"
      }
    },
    {
      "cell_type": "code",
      "source": [
        "# Chart - 19 visualization code\n",
        "plt.figure(figsize = (14,5))\n",
        "group9 = df.groupby('pickup_hour').speed.mean()\n",
        "sns.pointplot(group9.index, group9.values)\n",
        "plt.xlabel('Pick Up Hours')\n",
        "plt.ylabel('Speed kmph')\n",
        "plt.title('Average Speed per Hour')\n",
        "plt.show()"
      ],
      "metadata": {
        "id": "oETsFJAggvAz"
      },
      "execution_count": null,
      "outputs": []
    },
    {
      "cell_type": "markdown",
      "source": [
        "##### 1. Why did you pick the specific chart?"
      ],
      "metadata": {
        "id": "IZPSgv2hkf6r"
      }
    },
    {
      "cell_type": "markdown",
      "source": [
        "I picked this chart because it is a pointplot, which is suitable for showing the average speed over the pickup hours of the day. The x-axis shows the pickup hours, which is a continuous variable, while the y-axis shows the average speed of the trips, which allows us to see how the average speed varies over the pickup hours."
      ],
      "metadata": {
        "id": "HelbPiVqz9wj"
      }
    },
    {
      "cell_type": "markdown",
      "source": [
        "##### 2. What is/are the insight(s) found from the chart?"
      ],
      "metadata": {
        "id": "R32-M_-gkxT-"
      }
    },
    {
      "cell_type": "markdown",
      "source": [
        "The average speed follows the typical pattern observed. It rises in the late night and continues to increase steadily until the early morning. The average taxi speed peaks at 5 AM, and then drops rapidly as the morning rush hour begins. During office hours, from 8 AM to 6 PM, the average taxi speed remains relatively consistent."
      ],
      "metadata": {
        "id": "U-ZjVHHWg0Oy"
      }
    },
    {
      "cell_type": "markdown",
      "source": [
        "#### Chart - 20 Average speed per weekday  (Bivariate Analysis)\n"
      ],
      "metadata": {
        "id": "2Tewor7qg4g7"
      }
    },
    {
      "cell_type": "code",
      "source": [
        "# Chart - 20 visualization code\n",
        "plt.figure(figsize = (14,5))\n",
        "group10 = df.groupby('weekday').speed.mean()\n",
        "sns.pointplot(group10.index, group10.values)\n",
        "plt.xlabel('Pick Up WeekDay')\n",
        "plt.ylabel('Speed kmph')\n",
        "plt.title('Average Speed per WeekDay')\n",
        "plt.show()"
      ],
      "metadata": {
        "id": "xDCHFI9ug7IY"
      },
      "execution_count": null,
      "outputs": []
    },
    {
      "cell_type": "markdown",
      "source": [
        "##### What is/are the insight(s) found from the chart?"
      ],
      "metadata": {
        "id": "bXdYWE6QkvK_"
      }
    },
    {
      "cell_type": "markdown",
      "source": [
        "The average speed of taxis is generally higher on weekends compared to weekdays, which is expected given that there is less rush hour traffic during these days. \n",
        "\n",
        "However, the average speed on Monday is surprisingly high, which may be due to a number of factors, such as travelers returning from out-of-town trips early in the morning before office hours or early morning travelers coming from the airport after a vacation. \n",
        "\n",
        "Additionally, there may be other factors contributing to this pattern that are only known to locals. It's also important to note that there could be anomalies present in the dataset that are difficult to detect in such a large dataset."
      ],
      "metadata": {
        "id": "nMxXa1oAg_Ih"
      }
    },
    {
      "cell_type": "markdown",
      "source": [
        "#### Chart - 21 Passenger count per vendor  (Bivariate Analysis)"
      ],
      "metadata": {
        "id": "UluO4EPjibab"
      }
    },
    {
      "cell_type": "markdown",
      "source": [
        "This time we will be analyzing the passenger count metric, which is a whole number and does not need to be a ratio like the other metrics. As such, we will plot it against the vendor only. To get a clear idea of the distribution, we will use the mean as the aggregate measure. This is because we have already performed an outlier analysis on this metric and our results will not be affected by extreme values. If we use the median, it will only return one because the majority of the trips were taken by a single passenger. Let's examine its distribution."
      ],
      "metadata": {
        "id": "NtyLVrtIifSh"
      }
    },
    {
      "cell_type": "code",
      "source": [
        "# Chart - 21 visualization code\n",
        "group9 = df.groupby('vendor_id').passenger_count.mean()\n",
        "sns.barplot(group9.index, group9.values)\n",
        "plt.ylabel('Passenger count')\n",
        "plt.xlabel('Vendor Id')\n",
        "plt.title('Passenger Count per Vendor')\n",
        "plt.show()"
      ],
      "metadata": {
        "id": "r5C8-If4iivX"
      },
      "execution_count": null,
      "outputs": []
    },
    {
      "cell_type": "markdown",
      "source": [
        "##### What is/are the insight(s) found from the chart?"
      ],
      "metadata": {
        "id": "K6PwxASiktv0"
      }
    },
    {
      "cell_type": "markdown",
      "source": [
        "It appears that there is a clear distinction between the two providers in terms of the average passenger count in all trips. Vendor 2 trips typically have an average of 2 passengers, while vendor 1's trips usually only have 1 passenger. To get a deeper understanding, we can delve further.\n",
        "\n",
        "It seems that Vendor 2 serves a larger share of the market, likely due to their capacity to transport more passengers in bigger vehicles, including minivans. This is demonstrated by the fact that Vendor 2 has a higher frequency of trips with more than one passenger, as opposed to Vendor 1 which primarily serves trips with a single passenger."
      ],
      "metadata": {
        "id": "UAXLu4mEil7i"
      }
    },
    {
      "cell_type": "markdown",
      "source": [
        "#### Chart - 22 Pick Up Points v/s Dropoff Points  (Bivariate Analysis)"
      ],
      "metadata": {
        "id": "NODzlMteiqcT"
      }
    },
    {
      "cell_type": "markdown",
      "source": [
        "![Boroughs_Labels_New_York_City_Map.svg](data:image/svg+xml;base64,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)"
      ],
      "metadata": {
        "id": "k-GBe8f32OMS"
      }
    },
    {
      "cell_type": "code",
      "source": [
        "# Chart - 22 visualization code\n",
        "city_long_border = (-74.03, -73.75)\n",
        "city_lat_border = (40.63, 40.85)\n",
        "fig, ax = plt.subplots(ncols=2, sharex=True, sharey=True,figsize = (12,5))\n",
        "ax[0].scatter(df['pickup_longitude'].values, df['pickup_latitude'].values,\n",
        "color='blue', s=1, label='train', alpha=0.1)\n",
        "ax[1].scatter(df['dropoff_longitude'].values, df['dropoff_latitude'].values,\n",
        "color='green', s=1, label='train', alpha=0.1)\n",
        "ax[1].set_title('Drop-off Co-ordinates')\n",
        "ax[0].set_title('Pick-up Co-ordinates')\n",
        "ax[0].set_ylabel('Latitude')\n",
        "ax[0].set_xlabel('Longitude')\n",
        "ax[1].set_ylabel('Latitude')\n",
        "ax[1].set_xlabel('Longitude')\n",
        "plt.ylim(city_lat_border)\n",
        "plt.xlim(city_long_border)\n",
        "plt.show()"
      ],
      "metadata": {
        "id": "1AphOAypiuBt"
      },
      "execution_count": null,
      "outputs": []
    },
    {
      "cell_type": "markdown",
      "source": [
        "##### 1. Why did you pick the specific chart?"
      ],
      "metadata": {
        "id": "0KBwRQ9Eknjh"
      }
    },
    {
      "cell_type": "markdown",
      "source": [
        "Picked this specific chart to visualize the pickup and drop-off coordinates of the taxi trips in the dataset. The chart shows the latitude and longitude coordinates on the x and y axis, respectively. The chart is useful for understanding the geographical distribution of the pickup and drop-off points, which can provide insights into the transportation patterns and trends in the city. Additionally, the chart is a scatter plot, which allows us to see the density of the pickup and drop-off points and detect any anomalies or outliers."
      ],
      "metadata": {
        "id": "U_4Ft2Or1xef"
      }
    },
    {
      "cell_type": "markdown",
      "source": [
        "##### 2. What is/are the insight(s) found from the chart?"
      ],
      "metadata": {
        "id": "VMK0WGY6ksKt"
      }
    },
    {
      "cell_type": "markdown",
      "source": [
        "The pickup plot shows that the majority of the pickups are concentrated in the Manhattan area, indicating that it is a highly populated area for pick ups. In contrast, the drop-off locations are more spread out, with a wider distribution. The average distance of the trips, which was previously determined to be 3.5 km, can explain why the drop-offs are mostly located in Manhattan itself."
      ],
      "metadata": {
        "id": "TeQ-m0BuiyBH"
      }
    },
    {
      "cell_type": "markdown",
      "source": [
        "#### Chart - 23 - Correlation Heatmap  (Multivariate Analysis)"
      ],
      "metadata": {
        "id": "NC_X3p0fY2L0"
      }
    },
    {
      "cell_type": "code",
      "source": [
        "# Correlation Heatmap visualization code\n",
        "df.corr()"
      ],
      "metadata": {
        "id": "xyC9zolEZNRQ"
      },
      "execution_count": null,
      "outputs": []
    },
    {
      "cell_type": "code",
      "source": [
        "f,ax = plt.subplots(figsize=(12, 12))\n",
        "sns.heatmap(abs(round(df.corr(),3)), annot=True, linewidths=.5, fmt= '.1f',ax=ax)\n",
        "plt.show()"
      ],
      "metadata": {
        "id": "4iwBJyVSjJ2_"
      },
      "execution_count": null,
      "outputs": []
    },
    {
      "cell_type": "markdown",
      "source": [
        "##### 1. Why did you pick the specific chart?"
      ],
      "metadata": {
        "id": "UV0SzAkaZNRQ"
      }
    },
    {
      "cell_type": "markdown",
      "source": [
        "The heatmap was picked because it provides a quick visual representation of the correlation between different variables in the dataset. Correlation is a statistical measure that indicates the extent to which two or more variables fluctuate together.\n",
        "\n",
        "The heatmap makes it easy to see the strength and direction of the relationship between the different variables, and can help identify which variables are highly correlated with each other and which are not."
      ],
      "metadata": {
        "id": "DVPuT8LYZNRQ"
      }
    },
    {
      "cell_type": "markdown",
      "source": [
        "##### 2. What is/are the insight(s) found from the chart?"
      ],
      "metadata": {
        "id": "YPEH6qLeZNRQ"
      }
    },
    {
      "cell_type": "markdown",
      "source": [
        "Passenger count and vendor ID has positive correaltion of 29%.\n",
        "\n",
        "Dropoff longitude and pickup longitude has strong positive correlation of 79%.\n",
        "\n",
        "Dropoff latitude and pickup latitude has moderate positive correaltion of 50%.\n",
        "\n",
        "Trip duration and pickup longitude has weak correlation of 3%.\n",
        "\n",
        "Trip duration and pickup latitude has weak negative correlation of 3%.\n",
        "\n",
        "Distance and pickup longitude has weak correlation of 28%.\n",
        "\n",
        "Speed has weak correaltion of 15-16% with both pickup and droppoff longitude.\n",
        "\n",
        "Speed and distance has strong positive correaltion of 56%.\n",
        "\n",
        "Trip duration is positively correlated with distance with 10% of correlation."
      ],
      "metadata": {
        "id": "qV1LiwPtjLLN"
      }
    },
    {
      "cell_type": "markdown",
      "source": [
        "#### Chart - 24 - Pair Plot (Multivariate Analysis)"
      ],
      "metadata": {
        "id": "q29F0dvdveiT"
      }
    },
    {
      "cell_type": "code",
      "source": [
        "# Pair Plot visualization code\n",
        "#plt.figure(figsize = (20,10))\n",
        "#sns.set(font_scale=0.8)\n",
        "\n",
        "sns.pairplot(df, hue ='vendor_id')\n",
        "plt.show()"
      ],
      "metadata": {
        "id": "o58-TEIhveiU"
      },
      "execution_count": null,
      "outputs": []
    },
    {
      "cell_type": "markdown",
      "source": [
        "##### 1. Why did you pick the specific chart?"
      ],
      "metadata": {
        "id": "EXh0U9oCveiU"
      }
    },
    {
      "cell_type": "markdown",
      "source": [
        "I picked this chart to visualize the distribution and relationships between different variables in the dataset. The pairplot function from the Seaborn library is a convenient way to plot multiple scatterplots to see the relationship between different variables."
      ],
      "metadata": {
        "id": "eMmPjTByveiU"
      }
    },
    {
      "cell_type": "markdown",
      "source": [
        "##### 2. What is/are the insight(s) found from the chart?"
      ],
      "metadata": {
        "id": "22aHeOlLveiV"
      }
    },
    {
      "cell_type": "markdown",
      "source": [
        "Answer Here"
      ],
      "metadata": {
        "id": "uPQ8RGwHveiV"
      }
    },
    {
      "cell_type": "markdown",
      "source": [
        "## ***5. Hypothesis Testing***"
      ],
      "metadata": {
        "id": "g-ATYxFrGrvw"
      }
    },
    {
      "cell_type": "markdown",
      "source": [
        "### Based on your chart experiments, define three hypothetical statements from the dataset. In the next three questions, perform hypothesis testing to obtain final conclusion about the statements through your code and statistical testing."
      ],
      "metadata": {
        "id": "Yfr_Vlr8HBkt"
      }
    },
    {
      "cell_type": "markdown",
      "source": [
        "Hypothesis 1: Weekends has more traffic as compared to week days. \n",
        "\n",
        "Hypothesis 2: Traffic hours on weekdays are different than traffic hours on weekends.\n",
        "\n",
        "Hypothesis 3: Passengers which are travelling at a time is changing with change in vendor."
      ],
      "metadata": {
        "id": "-7MS06SUHkB-"
      }
    },
    {
      "cell_type": "markdown",
      "source": [
        "### Hypothetical Statement - 1) Weekends has more traffic as compared to week days."
      ],
      "metadata": {
        "id": "8yEUt7NnHlrM"
      }
    },
    {
      "cell_type": "markdown",
      "source": [
        "#### 1. State Your research hypothesis as a null hypothesis and alternate hypothesis."
      ],
      "metadata": {
        "id": "tEA2Xm5dHt1r"
      }
    },
    {
      "cell_type": "markdown",
      "source": [
        "H0 : mean of count of trips on weekday <= mean of mean of count of trips on weekend day\n",
        "\n",
        "H1 : mean of count of trips on weekday > mean of mean of count of trips on weekend day"
      ],
      "metadata": {
        "id": "HI9ZP0laH0D-"
      }
    },
    {
      "cell_type": "markdown",
      "source": [
        "#### 2. Perform an appropriate statistical test."
      ],
      "metadata": {
        "id": "I79__PHVH19G"
      }
    },
    {
      "cell_type": "code",
      "source": [
        "# Perform Statistical Test to obtain P-Value"
      ],
      "metadata": {
        "id": "oZrfquKtyian"
      },
      "execution_count": null,
      "outputs": []
    },
    {
      "cell_type": "code",
      "source": [
        "df['pickup_date'] = pd.to_datetime(df[\"pickup_datetime\"]).dt.normalize()"
      ],
      "metadata": {
        "id": "mzTejUklu-8M"
      },
      "execution_count": null,
      "outputs": []
    },
    {
      "cell_type": "code",
      "source": [
        "dfweekday = pd.DataFrame(df.pickup_date.value_counts())\n",
        "dfweekday.reset_index(inplace=True)\n",
        "dfweekday.rename(columns={'index':'date','pickup_date':'count'},inplace=True) \n",
        "\n",
        "dfweekday['pickup_weekday'] = dfweekday.apply(lambda row: row['date'].strftime(\"%A\"),axis=1) #Monday=1\n",
        "dfweekday.head(4)\n",
        "\n",
        "cnt = list(dfweekday['count'])\n",
        "weekday = list(dfweekday['pickup_weekday'])"
      ],
      "metadata": {
        "id": "Rl5MgrgyvxoV"
      },
      "execution_count": null,
      "outputs": []
    },
    {
      "cell_type": "code",
      "source": [
        "weekd = []\n",
        "weekn = []\n",
        "for i in range(len(cnt)):\n",
        "  if weekday[i] in ['Saturday','Sunday']:\n",
        "    weekn.append(cnt[i])\n",
        "  else:\n",
        "    weekd.append(cnt[i])"
      ],
      "metadata": {
        "id": "nWlvq7ffv0sh"
      },
      "execution_count": null,
      "outputs": []
    },
    {
      "cell_type": "code",
      "source": [
        "from scipy.stats import ttest_ind  \n",
        "    \n",
        "def t_test(x,y,alternative='both-sided'):\n",
        "        _, double_p = ttest_ind(x,y,equal_var = False)\n",
        "        if alternative == 'both-sided':\n",
        "            pval = double_p\n",
        "        elif alternative == 'greater':\n",
        "            if np.mean(x) > np.mean(y):\n",
        "                 pval = double_p/2.\n",
        "            else:\n",
        "                 pval = 1.0 - double_p/2.\n",
        "        elif alternative == 'less':\n",
        "            if np.mean(x) < np.mean(y):\n",
        "                 pval = double_p/2.\n",
        "            else:\n",
        "              pval = 1.0 - double_p/2.\n",
        "\n",
        "        op = 'Hence we are failed to reject null hypothesis (H0) for significane level 0.05'\n",
        "        if pval < 0.05:\n",
        "          op = 'Hence we are rejecting null hypothesis (H0) for significane level 0.05 '\n",
        "        return (f'P-Value: {pval}, {op}')"
      ],
      "metadata": {
        "id": "85v7hUC8v37N"
      },
      "execution_count": null,
      "outputs": []
    },
    {
      "cell_type": "code",
      "source": [
        "t_test(x=weekn,y=weekd,alternative='greater')"
      ],
      "metadata": {
        "id": "JtKWVRcQwL1S"
      },
      "execution_count": null,
      "outputs": []
    },
    {
      "cell_type": "markdown",
      "source": [
        "Hypothesis 1 Conclusion: Number of trips on weekends are comparatively more than number of trips on weekdays."
      ],
      "metadata": {
        "id": "LRjYv_EYwREV"
      }
    },
    {
      "cell_type": "markdown",
      "source": [
        "##### Which statistical test have you done to obtain P-Value?"
      ],
      "metadata": {
        "id": "Ou-I18pAyIpj"
      }
    },
    {
      "cell_type": "markdown",
      "source": [
        "The statistical test performed in the code is a two-sample t-test. The p-value is obtained using the ttest_ind function from the scipy.stats module.\n",
        "\n",
        "The function returns the p-value and a statement indicating whether or not the null hypothesis (the means of x and y are equal) can be rejected at a significance level of 0.05 based on the p-value."
      ],
      "metadata": {
        "id": "s2U0kk00ygSB"
      }
    },
    {
      "cell_type": "markdown",
      "source": [
        "##### Why did you choose the specific statistical test?"
      ],
      "metadata": {
        "id": "fF3858GYyt-u"
      }
    },
    {
      "cell_type": "markdown",
      "source": [
        "The specific statistical test chosen is the two-sample t-test, which is appropriate for comparing the means of two independent datasets. The t-test is a commonly used test for comparing the means of two groups, especially when the sample size is small and the population standard deviation is unknown. The ttest_ind function from the scipy.stats module is used to perform the t-test in this code."
      ],
      "metadata": {
        "id": "HO4K0gP5y3B4"
      }
    },
    {
      "cell_type": "markdown",
      "source": [
        "### Hypothetical Statement - 2) Traffic hours on weekdays are different than traffic hours on weekends."
      ],
      "metadata": {
        "id": "4_0_7-oCpUZd"
      }
    },
    {
      "cell_type": "markdown",
      "source": [
        "#### 1. State Your research hypothesis as a null hypothesis and alternate hypothesis."
      ],
      "metadata": {
        "id": "hwyV_J3ipUZe"
      }
    },
    {
      "cell_type": "markdown",
      "source": [
        "H0 : Traffic hours on weekdays are same as traffic hours on weekends.\n",
        "\n",
        "H1 : Traffic hours on weekdays are different than traffic hours on weekends."
      ],
      "metadata": {
        "id": "FnpLGJ-4pUZe"
      }
    },
    {
      "cell_type": "markdown",
      "source": [
        "#### 2. Perform an appropriate statistical test."
      ],
      "metadata": {
        "id": "3yB-zSqbpUZe"
      }
    },
    {
      "cell_type": "code",
      "source": [
        "# Perform Statistical Test to obtain P-Value"
      ],
      "metadata": {
        "id": "sWxdNTXNpUZe"
      },
      "execution_count": null,
      "outputs": []
    },
    {
      "cell_type": "code",
      "source": [
        "dftraffic = df[['pickup_weekday','pickup_hour']]\n",
        "weekd = []\n",
        "for i in dftraffic['pickup_weekday']:\n",
        "  if i in ['Saturday','Sunday']:\n",
        "    weekd.append('Weekend')\n",
        "  else:\n",
        "    weekd.append('Weekday')\n",
        "dftraffic['weekd'] = weekd\n",
        "dftraffic.head(3)"
      ],
      "metadata": {
        "id": "f7RTcrjozXfJ"
      },
      "execution_count": null,
      "outputs": []
    },
    {
      "cell_type": "code",
      "source": [
        "new = pd.crosstab(dftraffic.pickup_hour,dftraffic.weekd)\n",
        "new = pd.DataFrame(new)\n",
        "new.reset_index(inplace=True)\n",
        "new['Total'] = new['Weekday'] + new['Weekend']\n",
        "new = new.iloc[0:24,:]\n",
        "new.set_index('pickup_hour',inplace=True)\n",
        "new.loc['Total'] = new.iloc[:, :].sum()\n",
        "new"
      ],
      "metadata": {
        "id": "UvBxfcw2zZ2c"
      },
      "execution_count": null,
      "outputs": []
    },
    {
      "cell_type": "markdown",
      "source": [
        "As we are analysing two categorical variables, here We are going to use chi-squre test of independance."
      ],
      "metadata": {
        "id": "45j9atcezcne"
      }
    },
    {
      "cell_type": "code",
      "source": [
        "# significance level\n",
        "alpha = 0.05\n",
        "\n",
        "# Calcualtion of Chisquare\n",
        "chi_square = 0\n",
        "rows = new.index.unique()\n",
        "columns = new.columns.unique()\n",
        "for i in columns:\n",
        "    for j in rows:\n",
        "        O = new[i][j]\n",
        "        E = new[i]['Total'] * new['Total'][j] / new['Total']['Total']\n",
        "        chi_square += (O-E)**2/E"
      ],
      "metadata": {
        "id": "2E8VLddNzdRE"
      },
      "execution_count": null,
      "outputs": []
    },
    {
      "cell_type": "code",
      "source": [
        "# The p-value approach\n",
        "print(\"Approach 1: The p-value approach to hypothesis testing in the decision rule\")\n",
        "p_value = 1 - stats.chi2.cdf(chi_square, (len(rows)-1)*(len(columns)-1))\n",
        "conclusion = \"Failed to reject the null hypothesis.\"\n",
        "if p_value <= alpha:\n",
        "    conclusion = \"Null Hypothesis is rejected.\"\n",
        "        \n",
        "print(\"chisquare-score is:\", chi_square, \" and p value is:\", p_value)\n",
        "print(conclusion)"
      ],
      "metadata": {
        "id": "DFulpCp7zfrj"
      },
      "execution_count": null,
      "outputs": []
    },
    {
      "cell_type": "markdown",
      "source": [
        "Hypothesis 2 Conclusion: Traffic hours on weekdays are different than traffic hours on weekends."
      ],
      "metadata": {
        "id": "-0vu-sT1zjr2"
      }
    },
    {
      "cell_type": "markdown",
      "source": [
        "##### Which statistical test have you done to obtain P-Value?"
      ],
      "metadata": {
        "id": "dEUvejAfpUZe"
      }
    },
    {
      "cell_type": "markdown",
      "source": [
        "The code performs a chi-square test of independence to obtain the p-value. The chi-square test is a statistical test used to determine if there is a significant association between two categorical variables. The p-value is a measure of the significance of the test, and a small p-value (less than the significance level, alpha) indicates that the association between the two variables is statistically significant and the null hypothesis (that the two variables are same) can be rejected."
      ],
      "metadata": {
        "id": "oLDrPz7HpUZf"
      }
    },
    {
      "cell_type": "markdown",
      "source": [
        "##### Why did you choose the specific statistical test?"
      ],
      "metadata": {
        "id": "Fd15vwWVpUZf"
      }
    },
    {
      "cell_type": "markdown",
      "source": [
        "The specific statistical test, the chi-square test of independence, was chosen because it is used to determine if there is a significant association between two categorical variables. "
      ],
      "metadata": {
        "id": "4xOGYyiBpUZf"
      }
    },
    {
      "cell_type": "markdown",
      "source": [
        "### Hypothetical Statement - 3) Passengers which are travelling at a time is changing with change in vendor."
      ],
      "metadata": {
        "id": "bn_IUdTipZyH"
      }
    },
    {
      "cell_type": "markdown",
      "source": [
        "#### 1. State Your research hypothesis as a null hypothesis and alternate hypothesis."
      ],
      "metadata": {
        "id": "49K5P_iCpZyH"
      }
    },
    {
      "cell_type": "markdown",
      "source": [
        "H0 : 'passenger_count' and 'vendor_id' has no relationship.\n",
        "\n",
        "H1 : 'passenger_count' and 'vendor_id' has relationship."
      ],
      "metadata": {
        "id": "7gWI5rT9pZyH"
      }
    },
    {
      "cell_type": "markdown",
      "source": [
        "#### 2. Perform an appropriate statistical test."
      ],
      "metadata": {
        "id": "Nff-vKELpZyI"
      }
    },
    {
      "cell_type": "code",
      "source": [
        "# Perform Statistical Test to obtain P-Value"
      ],
      "metadata": {
        "id": "s6AnJQjtpZyI"
      },
      "execution_count": null,
      "outputs": []
    },
    {
      "cell_type": "markdown",
      "source": [
        "As we are analysing two categorical variables, here We are going to use chi-squre test of independance."
      ],
      "metadata": {
        "id": "_gnrhcsiKRy_"
      }
    },
    {
      "cell_type": "code",
      "source": [
        "new = pd.crosstab(df.passenger_count,df.vendor_id)\n",
        "new = pd.DataFrame(new)\n",
        "new.reset_index(inplace=True)\n",
        "new['Total'] = new[1] + new[2]\n",
        "new = new.iloc[1:7,:]\n",
        "new.set_index('passenger_count',inplace=True)\n",
        "new.loc['Total'] = new.iloc[:, :].sum()\n",
        "new"
      ],
      "metadata": {
        "id": "lnMdqBfHKTKG"
      },
      "execution_count": null,
      "outputs": []
    },
    {
      "cell_type": "code",
      "source": [
        "# significance level\n",
        "alpha = 0.05\n",
        "\n",
        "# Calcualtion of Chisquare\n",
        "chi_square = 0\n",
        "rows = new.index.unique()\n",
        "columns = new.columns.unique()\n",
        "for i in columns:\n",
        "    for j in rows:\n",
        "        O = new[i][j]\n",
        "        E = new[i]['Total'] * new['Total'][j] / new['Total']['Total']\n",
        "        chi_square += (O-E)**2/E"
      ],
      "metadata": {
        "id": "1TZcY9TjLB9-"
      },
      "execution_count": null,
      "outputs": []
    },
    {
      "cell_type": "code",
      "source": [
        "# The p-value approach\n",
        "print(\"Approach 1: The p-value approach to hypothesis testing in the decision rule\")\n",
        "p_value = 1 - stats.chi2.cdf(chi_square, (len(rows)-1)*(len(columns)-1))\n",
        "conclusion = \"Failed to reject the null hypothesis.\"\n",
        "if p_value <= alpha:\n",
        "    conclusion = \"Null Hypothesis is rejected.\"\n",
        "        \n",
        "print(\"chisquare-score is:\", chi_square, \" and p value is:\", p_value)\n",
        "print(conclusion)"
      ],
      "metadata": {
        "id": "_uRJWeGJKrpU"
      },
      "execution_count": null,
      "outputs": []
    },
    {
      "cell_type": "code",
      "source": [
        "# The critical value approach\n",
        "print(\"Approach 2: The critical value approach to hypothesis testing in the decision rule\")\n",
        "critical_value = stats.chi2.ppf(1-alpha, (len(rows)-1)*(len(columns)-1))\n",
        "conclusion = \"Failed to reject the null hypothesis.\"\n",
        "if chi_square > critical_value:\n",
        "    conclusion = \"Null Hypothesis is rejected.\"\n",
        "        \n",
        "print(\"chisquare-score is:\", chi_square, \" and critical value is:\", critical_value)\n",
        "print(conclusion)"
      ],
      "metadata": {
        "id": "xnOCuuDfKv70"
      },
      "execution_count": null,
      "outputs": []
    },
    {
      "cell_type": "markdown",
      "source": [
        "Hypothesis 3 Conclusion: Passenger count and vendor id has relationship."
      ],
      "metadata": {
        "id": "a-tw1D7IK2jS"
      }
    },
    {
      "cell_type": "markdown",
      "source": [
        "##### Which statistical test have you done to obtain P-Value?"
      ],
      "metadata": {
        "id": "kLW572S8pZyI"
      }
    },
    {
      "cell_type": "markdown",
      "source": [
        "The statistical test performed to obtain the p-value is the Chi-Square Test of Independence."
      ],
      "metadata": {
        "id": "ytWJ8v15pZyI"
      }
    },
    {
      "cell_type": "markdown",
      "source": [
        "##### Why did you choose the specific statistical test?"
      ],
      "metadata": {
        "id": "dWbDXHzopZyI"
      }
    },
    {
      "cell_type": "markdown",
      "source": [
        "The test works by comparing the observed frequencies in each category of the variables to the expected frequencies that would be seen if the variables were independent. The resulting Chi-Square statistic is used to calculate a p-value, which is used to make a decision about whether to reject or fail to reject the null hypothesis. In this case, the null hypothesis is that the two variables (passenger_count and vendor_id) are independent."
      ],
      "metadata": {
        "id": "M99G98V6pZyI"
      }
    },
    {
      "cell_type": "markdown",
      "source": [
        "## ***6. Feature Engineering & Data Pre-processing***"
      ],
      "metadata": {
        "id": "yLjJCtPM0KBk"
      }
    },
    {
      "cell_type": "markdown",
      "source": [
        "### 1. Handling Missing Values"
      ],
      "metadata": {
        "id": "xiyOF9F70UgQ"
      }
    },
    {
      "cell_type": "code",
      "source": [
        "# Handling Missing Values & Missing Value Imputation\n",
        "df.isnull().sum()"
      ],
      "metadata": {
        "id": "iRsAHk1K0fpS"
      },
      "execution_count": null,
      "outputs": []
    },
    {
      "cell_type": "markdown",
      "source": [
        "#### What all missing value imputation techniques have you used and why did you use those techniques?"
      ],
      "metadata": {
        "id": "7wuGOrhz0itI"
      }
    },
    {
      "cell_type": "markdown",
      "source": [
        "Our analysis revealed that there are no missing values, so no records need to be imputed. However, there are several outliers present in the Speed, Distance, and Trip Duration columns."
      ],
      "metadata": {
        "id": "OgzZGHgtMjli"
      }
    },
    {
      "cell_type": "markdown",
      "source": [
        "### 2. Handling Outliers"
      ],
      "metadata": {
        "id": "id1riN9m0vUs"
      }
    },
    {
      "cell_type": "code",
      "source": [
        "# Handling Outliers & Outlier treatments"
      ],
      "metadata": {
        "id": "M6w2CzZf04JK"
      },
      "execution_count": null,
      "outputs": []
    },
    {
      "cell_type": "markdown",
      "source": [
        "#### PASSENGER COUNT"
      ],
      "metadata": {
        "id": "-5EGSps4M9_V"
      }
    },
    {
      "cell_type": "code",
      "source": [
        "plt.figure(figsize=(15,8))\n",
        "plt.title(\"Box plot of passenger_count \")\n",
        "ax = sns.boxplot(data=df['passenger_count'])"
      ],
      "metadata": {
        "id": "eov6-eufNhie"
      },
      "execution_count": null,
      "outputs": []
    },
    {
      "cell_type": "code",
      "source": [
        "percentile_q1_passenger_count = np.percentile(df['passenger_count'],25)\n",
        "print(percentile_q1_passenger_count)\n",
        "percentile_q2_passenger_count = np.percentile(df['passenger_count'],50)\n",
        "print(percentile_q2_passenger_count)\n",
        "percentile_q3_passenger_count = np.percentile(df['passenger_count'],75)\n",
        "print(percentile_q3_passenger_count)"
      ],
      "metadata": {
        "id": "nXOE6cLHNiNc"
      },
      "execution_count": null,
      "outputs": []
    },
    {
      "cell_type": "code",
      "source": [
        "iqr=percentile_q3_passenger_count - percentile_q1_passenger_count\n",
        "lower_limit_outlier_passenger_count=percentile_q1_passenger_count-1.5*iqr\n",
        "upper_limit_outlier_passenger_count=percentile_q3_passenger_count+1.5*iqr\n",
        "\n",
        "print(\"lower limit for outlier  :\",lower_limit_outlier_passenger_count)\n",
        "print(\"Upper limit for outlier  :\",upper_limit_outlier_passenger_count)"
      ],
      "metadata": {
        "id": "LwDNYL31NktD"
      },
      "execution_count": null,
      "outputs": []
    },
    {
      "cell_type": "code",
      "source": [
        "df=df[df['passenger_count']>0]\n",
        "df=df[df['passenger_count']<upper_limit_outlier_passenger_count]"
      ],
      "metadata": {
        "id": "gIJYE6tpNm8l"
      },
      "execution_count": null,
      "outputs": []
    },
    {
      "cell_type": "code",
      "source": [
        "df.shape"
      ],
      "metadata": {
        "id": "bUq1WWbQNpn0"
      },
      "execution_count": null,
      "outputs": []
    },
    {
      "cell_type": "markdown",
      "source": [
        "#### TRIP DURATION"
      ],
      "metadata": {
        "id": "jUSxLFP4M9s2"
      }
    },
    {
      "cell_type": "code",
      "source": [
        "plt.figure(figsize=(15,8))\n",
        "plt.title(\"Box plot of trip_duration \")\n",
        "ax = sns.boxplot(data=df['trip_duration'], orient=\"v\")"
      ],
      "metadata": {
        "id": "UlMqw_CCNxx7"
      },
      "execution_count": null,
      "outputs": []
    },
    {
      "cell_type": "code",
      "source": [
        "percentile_q1_trip_duration = np.percentile(df['trip_duration'],25)\n",
        "print(percentile_q1_trip_duration)\n",
        "percentile_q2_trip_duration = np.percentile(df['trip_duration'],50)\n",
        "print(percentile_q2_trip_duration)\n",
        "percentile_q3_trip_duration = np.percentile(df['trip_duration'],75)\n",
        "print(percentile_q3_trip_duration)"
      ],
      "metadata": {
        "id": "mk45Y4DlN0CH"
      },
      "execution_count": null,
      "outputs": []
    },
    {
      "cell_type": "code",
      "source": [
        "iqr=percentile_q3_trip_duration - percentile_q1_trip_duration\n",
        "lower_limit_outlier_trip_duration=percentile_q1_trip_duration-1.5*iqr\n",
        "upper_limit_outlier_trip_duration=percentile_q3_trip_duration+1.5*iqr\n",
        "\n",
        "print(\"lower limit for outlier  :\",lower_limit_outlier_trip_duration)\n",
        "print(\"Upper limit for outlier  :\",upper_limit_outlier_trip_duration)"
      ],
      "metadata": {
        "id": "yVnIvFP-N05j"
      },
      "execution_count": null,
      "outputs": []
    },
    {
      "cell_type": "code",
      "source": [
        "df=df[df['trip_duration']>0]\n",
        "df=df[df['trip_duration']<upper_limit_outlier_trip_duration]"
      ],
      "metadata": {
        "id": "ak4CiFjzN3OF"
      },
      "execution_count": null,
      "outputs": []
    },
    {
      "cell_type": "code",
      "source": [
        "df.shape"
      ],
      "metadata": {
        "id": "SPKxzOY5N5yS"
      },
      "execution_count": null,
      "outputs": []
    },
    {
      "cell_type": "markdown",
      "source": [
        "#### DISTANCE"
      ],
      "metadata": {
        "id": "ZGKkuwDEM9Sx"
      }
    },
    {
      "cell_type": "code",
      "source": [
        "plt.figure(figsize=(15,8))\n",
        "plt.title(\"Box plot of distance\")\n",
        "ax = sns.boxplot(data=df['distance'], orient=\"v\")"
      ],
      "metadata": {
        "id": "Y7QvzRJaN8i0"
      },
      "execution_count": null,
      "outputs": []
    },
    {
      "cell_type": "code",
      "source": [
        "percentile_q1 = np.percentile(df['distance'],25)\n",
        "print(percentile_q1)\n",
        "percentile_q2 = np.percentile(df['distance'],50)\n",
        "print(percentile_q2)\n",
        "percentile_q3 = np.percentile(df['distance'],75)\n",
        "print(percentile_q3)"
      ],
      "metadata": {
        "id": "nrhbnUeyN_MW"
      },
      "execution_count": null,
      "outputs": []
    },
    {
      "cell_type": "code",
      "source": [
        "iqr=percentile_q3 - percentile_q1\n",
        "lower_limit_outlier=percentile_q1-1.5*iqr\n",
        "upper_limit_outlier=percentile_q3+1.5*iqr\n",
        "\n",
        "print(\"lower limit for outlier  :\",lower_limit_outlier)\n",
        "print(\"Upper limit for outlier  :\",upper_limit_outlier)"
      ],
      "metadata": {
        "id": "m9T7J8ipOB0-"
      },
      "execution_count": null,
      "outputs": []
    },
    {
      "cell_type": "code",
      "source": [
        "df=df[df['distance']>lower_limit_outlier]\n",
        "df=df[df['distance']<upper_limit_outlier]"
      ],
      "metadata": {
        "id": "0ec87RLgOEOc"
      },
      "execution_count": null,
      "outputs": []
    },
    {
      "cell_type": "code",
      "source": [
        "df.shape"
      ],
      "metadata": {
        "id": "2CNTKJMjOIIf"
      },
      "execution_count": null,
      "outputs": []
    },
    {
      "cell_type": "markdown",
      "source": [
        "#### SPEED"
      ],
      "metadata": {
        "id": "L6NhHGnoM89k"
      }
    },
    {
      "cell_type": "code",
      "source": [
        "plt.figure(figsize=(15,8))\n",
        "plt.title(\"Box plot of distance\")\n",
        "ax = sns.boxplot(data=df['speed'], orient=\"v\")"
      ],
      "metadata": {
        "id": "QFoHBbiuOKp4"
      },
      "execution_count": null,
      "outputs": []
    },
    {
      "cell_type": "code",
      "source": [
        "percentile_q1 = np.percentile(df['speed'],25)\n",
        "print(percentile_q1)\n",
        "percentile_q2 = np.percentile(df['speed'],50)\n",
        "print(percentile_q2)\n",
        "percentile_q3 = np.percentile(df['speed'],75)\n",
        "print(percentile_q3)"
      ],
      "metadata": {
        "id": "-6SOsv38ONv4"
      },
      "execution_count": null,
      "outputs": []
    },
    {
      "cell_type": "code",
      "source": [
        "iqr=percentile_q3 - percentile_q1\n",
        "lower_limit_outlier=percentile_q1-1.5*iqr\n",
        "upper_limit_outlier=percentile_q3+1.5*iqr\n",
        "\n",
        "print(\"lower limit for outlier  :\",lower_limit_outlier)\n",
        "print(\"Upper limit for outlier  :\",upper_limit_outlier)"
      ],
      "metadata": {
        "id": "jE1TZxXqOQPk"
      },
      "execution_count": null,
      "outputs": []
    },
    {
      "cell_type": "code",
      "source": [
        "df=df[df['speed']>lower_limit_outlier]\n",
        "df=df[df['speed']<upper_limit_outlier]"
      ],
      "metadata": {
        "id": "Wl1yV9sEOSlR"
      },
      "execution_count": null,
      "outputs": []
    },
    {
      "cell_type": "code",
      "source": [
        "df.shape"
      ],
      "metadata": {
        "id": "wKQ-evfjOVnd"
      },
      "execution_count": null,
      "outputs": []
    },
    {
      "cell_type": "markdown",
      "source": [
        "##### What all outlier treatment techniques have you used and why did you use those techniques?"
      ],
      "metadata": {
        "id": "578E2V7j08f6"
      }
    },
    {
      "cell_type": "markdown",
      "source": [
        "The outlier treatment technique used in the code is Interquartile range (IQR) method. The IQR method involves calculating the first quartile (25th percentile), second quartile (50th percentile), and third quartile (75th percentile) of the variable. The interquartile range (IQR) is calculated by subtracting the first quartile from the third quartile. Then, lower and upper bounds for outliers are defined as 1.5 times the IQR below the first quartile and 1.5 times the IQR above the third quartile respectively. Finally, the data is filtered by removing all the observations that are below the lower limit or above the upper limit, as they are considered outliers.\n",
        "\n",
        "This technique was used because it is a commonly used method to identify and handle outliers, as it is based on the distribution of the data and it eliminates outliers that are beyond the range of normal values in the dataset."
      ],
      "metadata": {
        "id": "uGZz5OrT1HH-"
      }
    },
    {
      "cell_type": "markdown",
      "source": [
        "### 3. Categorical Encoding"
      ],
      "metadata": {
        "id": "89xtkJwZ18nB"
      }
    },
    {
      "cell_type": "code",
      "source": [
        "# Encode your categorical columns"
      ],
      "metadata": {
        "id": "21JmIYMG2hEo"
      },
      "execution_count": null,
      "outputs": []
    },
    {
      "cell_type": "code",
      "source": [
        "df.columns"
      ],
      "metadata": {
        "id": "ykVrF-tLPUkz"
      },
      "execution_count": null,
      "outputs": []
    },
    {
      "cell_type": "code",
      "source": [
        "#Dummify all the categorical features like \"store_and_fwd_flag, Day\" except the label i.e. \"trip_duration\"\n",
        "df= pd.get_dummies(df, columns=['store_and_fwd_flag', 'weekday','passenger_count','vendor_id'], \n",
        "                        prefix=['flag','Day','passenger_count','vendor_id']) "
      ],
      "metadata": {
        "id": "cND7Yi6TPuKz"
      },
      "execution_count": null,
      "outputs": []
    },
    {
      "cell_type": "code",
      "source": [
        "df.head(3)"
      ],
      "metadata": {
        "id": "LngmQeGKQht_"
      },
      "execution_count": null,
      "outputs": []
    },
    {
      "cell_type": "markdown",
      "source": [
        "#### What all categorical encoding techniques have you used & why did you use those techniques?"
      ],
      "metadata": {
        "id": "67NQN5KX2AMe"
      }
    },
    {
      "cell_type": "markdown",
      "source": [
        "The categorical encoding technique used here is one-hot encoding, which is also known as dummy encoding. The reason for using this technique is that categorical variables are usually non-numeric, but machine learning algorithms require input to be in a numerical format. \n",
        "\n",
        "One-hot encoding transforms each categorical value into a new categorical value and assigns a binary value of 1 or 0. It creates a new column for each unique category value, where the value in the column is 1 if the category is present in the original data and 0 otherwise. This is useful for handling categorical data in a machine learning model."
      ],
      "metadata": {
        "id": "UDaue5h32n_G"
      }
    },
    {
      "cell_type": "markdown",
      "source": [
        "### 4. Textual Data Preprocessing \n",
        "(It's mandatory for textual dataset i.e., NLP, Sentiment Analysis, Text Clustering etc.)"
      ],
      "metadata": {
        "id": "Iwf50b-R2tYG"
      }
    },
    {
      "cell_type": "markdown",
      "source": [
        "#### 1. Expand Contraction"
      ],
      "metadata": {
        "id": "GMQiZwjn3iu7"
      }
    },
    {
      "cell_type": "code",
      "source": [
        "# Expand Contraction"
      ],
      "metadata": {
        "id": "PTouz10C3oNN"
      },
      "execution_count": null,
      "outputs": []
    },
    {
      "cell_type": "markdown",
      "source": [
        "#### 2. Lower Casing"
      ],
      "metadata": {
        "id": "WVIkgGqN3qsr"
      }
    },
    {
      "cell_type": "code",
      "source": [
        "# Lower Casing"
      ],
      "metadata": {
        "id": "88JnJ1jN3w7j"
      },
      "execution_count": null,
      "outputs": []
    },
    {
      "cell_type": "markdown",
      "source": [
        "#### 3. Removing Punctuations"
      ],
      "metadata": {
        "id": "XkPnILGE3zoT"
      }
    },
    {
      "cell_type": "code",
      "source": [
        "# Remove Punctuations"
      ],
      "metadata": {
        "id": "vqbBqNaA33c0"
      },
      "execution_count": null,
      "outputs": []
    },
    {
      "cell_type": "markdown",
      "source": [
        "#### 4. Removing URLs & Removing words and digits contain digits."
      ],
      "metadata": {
        "id": "Hlsf0x5436Go"
      }
    },
    {
      "cell_type": "code",
      "source": [
        "# Remove URLs & Remove words and digits contain digits"
      ],
      "metadata": {
        "id": "2sxKgKxu4Ip3"
      },
      "execution_count": null,
      "outputs": []
    },
    {
      "cell_type": "markdown",
      "source": [
        "#### 5. Removing Stopwords & Removing White spaces"
      ],
      "metadata": {
        "id": "mT9DMSJo4nBL"
      }
    },
    {
      "cell_type": "code",
      "source": [
        "# Remove Stopwords"
      ],
      "metadata": {
        "id": "T2LSJh154s8W"
      },
      "execution_count": null,
      "outputs": []
    },
    {
      "cell_type": "code",
      "source": [
        "# Remove White spaces"
      ],
      "metadata": {
        "id": "EgLJGffy4vm0"
      },
      "execution_count": null,
      "outputs": []
    },
    {
      "cell_type": "markdown",
      "source": [
        "#### 6. Rephrase Text"
      ],
      "metadata": {
        "id": "c49ITxTc407N"
      }
    },
    {
      "cell_type": "code",
      "source": [
        "# Rephrase Text"
      ],
      "metadata": {
        "id": "foqY80Qu48N2"
      },
      "execution_count": null,
      "outputs": []
    },
    {
      "cell_type": "markdown",
      "source": [
        "#### 7. Tokenization"
      ],
      "metadata": {
        "id": "OeJFEK0N496M"
      }
    },
    {
      "cell_type": "code",
      "source": [
        "# Tokenization"
      ],
      "metadata": {
        "id": "ijx1rUOS5CUU"
      },
      "execution_count": null,
      "outputs": []
    },
    {
      "cell_type": "markdown",
      "source": [
        "#### 8. Text Normalization"
      ],
      "metadata": {
        "id": "9ExmJH0g5HBk"
      }
    },
    {
      "cell_type": "code",
      "source": [
        "# Normalizing Text (i.e., Stemming, Lemmatization etc.)"
      ],
      "metadata": {
        "id": "AIJ1a-Zc5PY8"
      },
      "execution_count": null,
      "outputs": []
    },
    {
      "cell_type": "markdown",
      "source": [
        "##### Which text normalization technique have you used and why?"
      ],
      "metadata": {
        "id": "cJNqERVU536h"
      }
    },
    {
      "cell_type": "markdown",
      "source": [
        "Answer Here."
      ],
      "metadata": {
        "id": "Z9jKVxE06BC1"
      }
    },
    {
      "cell_type": "markdown",
      "source": [
        "#### 9. Part of speech tagging"
      ],
      "metadata": {
        "id": "k5UmGsbsOxih"
      }
    },
    {
      "cell_type": "code",
      "source": [
        "# POS Taging"
      ],
      "metadata": {
        "id": "btT3ZJBAO6Ik"
      },
      "execution_count": null,
      "outputs": []
    },
    {
      "cell_type": "markdown",
      "source": [
        "#### 10. Text Vectorization"
      ],
      "metadata": {
        "id": "T0VqWOYE6DLQ"
      }
    },
    {
      "cell_type": "code",
      "source": [
        "# Vectorizing Text"
      ],
      "metadata": {
        "id": "yBRtdhth6JDE"
      },
      "execution_count": null,
      "outputs": []
    },
    {
      "cell_type": "markdown",
      "source": [
        "##### Which text vectorization technique have you used and why?"
      ],
      "metadata": {
        "id": "qBMux9mC6MCf"
      }
    },
    {
      "cell_type": "markdown",
      "source": [
        "Answer Here."
      ],
      "metadata": {
        "id": "su2EnbCh6UKQ"
      }
    },
    {
      "cell_type": "markdown",
      "source": [
        "### 4. Feature Manipulation & Selection"
      ],
      "metadata": {
        "id": "-oLEiFgy-5Pf"
      }
    },
    {
      "cell_type": "markdown",
      "source": [
        "#### 1. Feature Manipulation"
      ],
      "metadata": {
        "id": "C74aWNz2AliB"
      }
    },
    {
      "cell_type": "code",
      "source": [
        "# Manipulate Features to minimize feature correlation and create new features"
      ],
      "metadata": {
        "id": "h1qC4yhBApWC"
      },
      "execution_count": null,
      "outputs": []
    },
    {
      "cell_type": "markdown",
      "source": [
        "From above columns we have already created distance column by using pickup and dropoff lattitudes and longitudes.\n",
        "\n",
        "We have already created speed column by using distance and trip duration.\n",
        "\n",
        "By extracting, we have created weekday, month, weekday num, pickup hour, pickup minute column from date time columns\n",
        "\n",
        "We have created pickup weekday and pickuup hour from date time columns."
      ],
      "metadata": {
        "id": "A9n7ngkTRqvj"
      }
    },
    {
      "cell_type": "markdown",
      "source": [
        "#### 2. Feature Selection"
      ],
      "metadata": {
        "id": "2DejudWSA-a0"
      }
    },
    {
      "cell_type": "code",
      "source": [
        "# Select your features wisely to avoid overfitting"
      ],
      "metadata": {
        "id": "YLhe8UmaBCEE"
      },
      "execution_count": null,
      "outputs": []
    },
    {
      "cell_type": "code",
      "source": [
        "# Let's see how trip_duration and other features are related\n",
        "for col in df.describe().columns.tolist():\n",
        "    fig = plt.figure(figsize=(9, 6))\n",
        "    ax = fig.gca()\n",
        "    feature = df[col]\n",
        "    label = df['trip_duration']\n",
        "    correlation = feature.corr(label)\n",
        "    sns.scatterplot(x=feature, y=label, color=\"gray\")\n",
        "    plt.xlabel(col)\n",
        "    plt.ylabel('trip_duration')\n",
        "    ax.set_title('trip_duration vs ' + col + '- correlation: ' + str(correlation))\n",
        "    z = np.polyfit(df[col], df['trip_duration'], 1)\n",
        "    y_hat = np.poly1d(z)(df[col])\n",
        "    plt.plot(df[col], y_hat, \"r--\", lw=1)\n",
        "    plt.show()"
      ],
      "metadata": {
        "id": "0prFRT7qSAAX"
      },
      "execution_count": null,
      "outputs": []
    },
    {
      "cell_type": "code",
      "source": [
        "plt.figure(figsize=(20,15))\n",
        "sns.heatmap(abs(round(df.corr(),3)), annot=True, cmap=plt.cm.CMRmap)"
      ],
      "metadata": {
        "id": "D4c8dESoSA-n"
      },
      "execution_count": null,
      "outputs": []
    },
    {
      "cell_type": "markdown",
      "source": [
        "We are selecting features on the basis of information which they are providing and removing features from dataset which are providing same kind of information.\n",
        "\n",
        "For that we have did correlation check. We have performed hypothesis testing to check weather features are relevant or not and from that we have found that pickup weekday and pickup hours are affecting number of trips and traffic times hence they are indirectly affecting trip duration.\n",
        "\n",
        "We have created few features by data manipulations such as distance.\n",
        "\n",
        "Using the speed feature as a predictor in your regression model could result in a violation of the independence assumption between the features and the target, as the speed is derived from the target (trip duration) and the distance. This could lead to overfitting and reduced model performance.So we are dropping the speed."
      ],
      "metadata": {
        "id": "jJAsVtxzSGwA"
      }
    },
    {
      "cell_type": "code",
      "source": [
        "df.columns"
      ],
      "metadata": {
        "id": "9Dg1NAgeSSun"
      },
      "execution_count": null,
      "outputs": []
    },
    {
      "cell_type": "code",
      "source": [
        "final_df= df[['vendor_id_1', 'vendor_id_2','passenger_count_1','passenger_count_2','passenger_count_3','flag_N','flag_Y','Day_0', 'Day_1', 'Day_2', 'Day_3','Day_4', 'Day_5', 'Day_6','pickup_hour','pickup_minute','distance','trip_duration']]"
      ],
      "metadata": {
        "id": "1P6aZBE7STlS"
      },
      "execution_count": null,
      "outputs": []
    },
    {
      "cell_type": "markdown",
      "source": [
        "##### What all feature selection methods have you used  and why?"
      ],
      "metadata": {
        "id": "pEMng2IbBLp7"
      }
    },
    {
      "cell_type": "markdown",
      "source": [
        "We have used scatter plot to check how each variable is affecting on target variable.\n",
        "\n",
        "Then we used heat map to check the correlation between the variables."
      ],
      "metadata": {
        "id": "rb2Lh6Z8BgGs"
      }
    },
    {
      "cell_type": "markdown",
      "source": [
        "##### Which all features you found important and why?"
      ],
      "metadata": {
        "id": "rAdphbQ9Bhjc"
      }
    },
    {
      "cell_type": "markdown",
      "source": [
        "Answer Here."
      ],
      "metadata": {
        "id": "fGgaEstsBnaf"
      }
    },
    {
      "cell_type": "markdown",
      "source": [
        "### 5. Data Transformation"
      ],
      "metadata": {
        "id": "TNVZ9zx19K6k"
      }
    },
    {
      "cell_type": "markdown",
      "source": [
        "#### Do you think that your data needs to be transformed? If yes, which transformation have you used. Explain Why?"
      ],
      "metadata": {
        "id": "nqoHp30x9hH9"
      }
    },
    {
      "cell_type": "code",
      "source": [
        "# Transform Your data"
      ],
      "metadata": {
        "id": "I6quWQ1T9rtH"
      },
      "execution_count": null,
      "outputs": []
    },
    {
      "cell_type": "code",
      "source": [
        "# checking which of the variables are continous in nature\n",
        "for i in final_df.columns:\n",
        "  print(f\"The number of unique counts in feature {i} is: {final_df[i].nunique()}\")"
      ],
      "metadata": {
        "id": "wtarbZLRTeE2"
      },
      "execution_count": null,
      "outputs": []
    },
    {
      "cell_type": "code",
      "source": [
        "# Storing the continous variables(number of unique counts >60) in a separate list and treating them in order to make gaussian distribution\n",
        "cont_variables= [\"trip_duration\",\"distance\",\"speed\"]"
      ],
      "metadata": {
        "id": "chMd0yd5Tha3"
      },
      "execution_count": null,
      "outputs": []
    },
    {
      "cell_type": "code",
      "source": [
        "# Checking the distribution of each continous variable from our final dataframe\n",
        "plt.figure(figsize=(20,5))\n",
        "print(\"Before Applying Transformation\")\n",
        "for n,col in enumerate(cont_variables):\n",
        "  plt.subplot(1,5,n+1)\n",
        "  sns.distplot(final_df[col])\n",
        "  plt.title(f'Distribution of {col}')\n",
        "  plt.tight_layout()"
      ],
      "metadata": {
        "id": "IQEZo1nvTzVk"
      },
      "execution_count": null,
      "outputs": []
    },
    {
      "cell_type": "code",
      "source": [
        "#### If you want to check whether feature is guassian or normal distributed\n",
        "#### Q-Q plot\n",
        "def plot_data(df,feature):\n",
        "    stats.probplot(df[feature],dist='norm',plot=pylab)"
      ],
      "metadata": {
        "id": "ul2X-H_eT13p"
      },
      "execution_count": null,
      "outputs": []
    },
    {
      "cell_type": "code",
      "source": [
        "plt.figure(figsize=(20,5))\n",
        "for num,column in enumerate(cont_variables):\n",
        "  plt.subplot(1,5,num+1)\n",
        "  print(f\"Q-Q Plot for variable: {column}\")\n",
        "  plot_data(final_df,column)\n",
        "plt.show()"
      ],
      "metadata": {
        "id": "rJbe2IV_T4bb"
      },
      "execution_count": null,
      "outputs": []
    },
    {
      "cell_type": "markdown",
      "source": [
        "As it is clear from above plots that our continous numeric features are not following perfectly normal distribution trend. So, now we will try various transformations techniques to get gaussian distributed curve."
      ],
      "metadata": {
        "id": "s3DjNzqKT7QG"
      }
    },
    {
      "cell_type": "markdown",
      "source": [
        "Let's create different copies and check which transformation is best for each feature"
      ],
      "metadata": {
        "id": "qoLsnZk6T8IT"
      }
    },
    {
      "cell_type": "code",
      "source": [
        "# Creating 5 different copies to check the distribution of each of the variable\n",
        "test_df1=final_df.copy()\n",
        "test_df2=final_df.copy()\n",
        "test_df3=final_df.copy()\n",
        "test_df4=final_df.copy()"
      ],
      "metadata": {
        "id": "TLkgDniqT_KI"
      },
      "execution_count": null,
      "outputs": []
    },
    {
      "cell_type": "markdown",
      "source": [
        "####Logarithmic Transformation"
      ],
      "metadata": {
        "id": "zMluKsFZUCrp"
      }
    },
    {
      "cell_type": "code",
      "source": [
        "# Applying transformation on the above considered columns\n",
        "test_df1['trip_duration']=np.log(test_df1['trip_duration']+1)\n",
        "test_df1['distance']=np.log(test_df1['distance']+1)\n",
        "test_df1['speed']=np.log(test_df1['speed']+1)\n",
        "\n",
        "# Checking the distribution of each continous variable by excluding 0 from our final dataframe\n",
        "plt.figure(figsize=(20,5))\n",
        "print(\"After Applying Transformation\")\n",
        "for n,col in enumerate(cont_variables):\n",
        "  plt.subplot(1,5,n+1)\n",
        "  sns.distplot(test_df1[col])\n",
        "  plt.title(f'Distribution of {col}')\n",
        "  plt.tight_layout()"
      ],
      "metadata": {
        "id": "5JhpRZ_zUDiy"
      },
      "execution_count": null,
      "outputs": []
    },
    {
      "cell_type": "code",
      "source": [
        "plt.figure(figsize=(20,5))\n",
        "for num,column in enumerate(cont_variables):\n",
        "  plt.subplot(1,5,num+1)\n",
        "  print(f\"Q-Q Plot for variable: {column}\")\n",
        "  plot_data(test_df1,column)\n",
        "plt.show()"
      ],
      "metadata": {
        "id": "6Qk3G7wWUHVQ"
      },
      "execution_count": null,
      "outputs": []
    },
    {
      "cell_type": "markdown",
      "source": [
        "#### Reciprocal Trnasformation"
      ],
      "metadata": {
        "id": "G0-Ep1CyUKZx"
      }
    },
    {
      "cell_type": "code",
      "source": [
        "# Applying transformation on the above considered columns\n",
        "test_df2['trip_duration']=1/(test_df2['trip_duration']+1)\n",
        "test_df2['distance']=1/(test_df2['distance']+1)\n",
        "test_df2['speed']=1/(test_df2['speed']+1)\n",
        "\n",
        "\n",
        "# Checking the distribution of each continous variable by excluding 0 from our final dataframe\n",
        "plt.figure(figsize=(20,5))\n",
        "print(\"After Applying Transformation\")\n",
        "for n,col in enumerate(cont_variables):\n",
        "  plt.subplot(1,5,n+1)\n",
        "  sns.distplot(test_df2[col])\n",
        "  plt.title(f'Distribution of {col}')\n",
        "  plt.tight_layout()"
      ],
      "metadata": {
        "id": "veU8ZrztUNzE"
      },
      "execution_count": null,
      "outputs": []
    },
    {
      "cell_type": "code",
      "source": [
        "plt.figure(figsize=(20,5))\n",
        "for num,column in enumerate(cont_variables):\n",
        "  plt.subplot(1,5,num+1)\n",
        "  print(f\"Q-Q Plot for variable: {column}\")\n",
        "  plot_data(test_df2,column)\n",
        "plt.show()"
      ],
      "metadata": {
        "id": "Si_6Rn9jUQOT"
      },
      "execution_count": null,
      "outputs": []
    },
    {
      "cell_type": "markdown",
      "source": [
        "#### Square Root Transformation"
      ],
      "metadata": {
        "id": "ya4DQEd1UVSO"
      }
    },
    {
      "cell_type": "code",
      "source": [
        "# Applying transformation on the above considered columns\n",
        "test_df3['trip_duration']=(test_df3['trip_duration'])**(1/2)\n",
        "test_df3['distance']=(test_df3['distance'])**(1/2)\n",
        "test_df3['speed']=(test_df3['speed'])**(1/2)\n",
        "\n",
        "\n",
        "# Checking the distribution of each continous variable by excluding 0 from our final dataframe\n",
        "plt.figure(figsize=(20,5))\n",
        "print(\"After Applying Transformation\")\n",
        "for n,col in enumerate(cont_variables):\n",
        "  plt.subplot(1,5,n+1)\n",
        "  sns.distplot(test_df3[col])\n",
        "  plt.title(f'Distribution of {col}')\n",
        "  plt.tight_layout()"
      ],
      "metadata": {
        "id": "H32R3Pm_UWAy"
      },
      "execution_count": null,
      "outputs": []
    },
    {
      "cell_type": "code",
      "source": [
        "plt.figure(figsize=(20,5))\n",
        "for num,column in enumerate(cont_variables):\n",
        "  plt.subplot(1,5,num+1)\n",
        "  print(f\"Q-Q Plot for variable: {column}\")\n",
        "  plot_data(test_df3,column)\n",
        "plt.show()"
      ],
      "metadata": {
        "id": "9FIJgeqTUapF"
      },
      "execution_count": null,
      "outputs": []
    },
    {
      "cell_type": "markdown",
      "source": [
        "#### Exponential Transformation"
      ],
      "metadata": {
        "id": "-FPFYvkXUe_5"
      }
    },
    {
      "cell_type": "code",
      "source": [
        "# Applying transformation on the above considered columns\n",
        "test_df4['trip_duration']=(test_df4['trip_duration'])**(1/1.2)\n",
        "test_df4['distance']=(test_df4['distance'])**(1/1.2)\n",
        "test_df4['speed']=(test_df4['speed'])**(1/1.2)\n",
        "\n",
        "\n",
        "# Checking the distribution of each continous variable by excluding 0 from our final dataframe\n",
        "plt.figure(figsize=(20,5))\n",
        "print(\"After Applying Transformation\")\n",
        "for n,col in enumerate(cont_variables):\n",
        "  plt.subplot(1,5,n+1)\n",
        "  sns.distplot(test_df4[col])\n",
        "  plt.title(f'Distribution of {col}')\n",
        "  plt.tight_layout()"
      ],
      "metadata": {
        "id": "P4vLxLrQUf7y"
      },
      "execution_count": null,
      "outputs": []
    },
    {
      "cell_type": "code",
      "source": [
        "plt.figure(figsize=(20,5))\n",
        "for num,column in enumerate(cont_variables):\n",
        "  plt.subplot(1,5,num+1)\n",
        "  print(f\"Q-Q Plot for variable: {column}\")\n",
        "  plot_data(test_df4,column)\n",
        "plt.show()"
      ],
      "metadata": {
        "id": "XOM6SUKPUjsQ"
      },
      "execution_count": null,
      "outputs": []
    },
    {
      "cell_type": "markdown",
      "source": [
        "#### applying transformation"
      ],
      "metadata": {
        "id": "6njj1ddamzSt"
      }
    },
    {
      "cell_type": "markdown",
      "source": [
        "From the above plots it is clear that:\n",
        "\n",
        "1) Feature \"trip_duration\" needs square root transformation\n",
        "\n",
        "2) Feature \"distance\" needs square root transformation\n",
        "\n",
        "3) Feature \"speed\" needs exponential transformation"
      ],
      "metadata": {
        "id": "BfMMNqjYUmgx"
      }
    },
    {
      "cell_type": "code",
      "source": [
        "# Applying transformation on the above considered columns\n",
        "## Square root transformation\n",
        "final_df['trip_duration']=(final_df['trip_duration'])**(1/2)\n",
        "final_df['distance']=(final_df['distance'])**(1/2)\n",
        "final_df['speed']=(final_df['speed'])**(1/1.2)"
      ],
      "metadata": {
        "id": "3ra7qc5TVAvl"
      },
      "execution_count": null,
      "outputs": []
    },
    {
      "cell_type": "markdown",
      "source": [
        "Now we have normally distributed data for all of the continous variables."
      ],
      "metadata": {
        "id": "08EdsUxAVSzL"
      }
    },
    {
      "cell_type": "markdown",
      "source": [
        "### 6. Data Scaling"
      ],
      "metadata": {
        "id": "rMDnDkt2B6du"
      }
    },
    {
      "cell_type": "markdown",
      "source": [
        "Before scaling our data let's just seperate our \"x\" and \"y\" variables"
      ],
      "metadata": {
        "id": "V4Uv1XoPVrTm"
      }
    },
    {
      "cell_type": "code",
      "source": [
        "final_df.columns"
      ],
      "metadata": {
        "id": "2saiUKigVvm4"
      },
      "execution_count": null,
      "outputs": []
    },
    {
      "cell_type": "code",
      "source": [
        "# Separating \"x\" and \"y\" variables\n",
        "x= final_df.drop('trip_duration',axis=1)\n",
        "y= final_df[['trip_duration']]\n",
        "print(x.shape)\n",
        "print(y.shape)"
      ],
      "metadata": {
        "id": "cGL_5J18Vxyr"
      },
      "execution_count": null,
      "outputs": []
    },
    {
      "cell_type": "code",
      "source": [
        "# Scaling your data"
      ],
      "metadata": {
        "id": "dL9LWpySC6x_"
      },
      "execution_count": null,
      "outputs": []
    },
    {
      "cell_type": "code",
      "source": [
        "# Creating object\n",
        "std_regressor= StandardScaler()"
      ],
      "metadata": {
        "id": "KnHA1B-OV1f1"
      },
      "execution_count": null,
      "outputs": []
    },
    {
      "cell_type": "code",
      "source": [
        "# Fit and Transform\n",
        "x= std_regressor.fit_transform(x)"
      ],
      "metadata": {
        "id": "OCLG_xf5V3wJ"
      },
      "execution_count": null,
      "outputs": []
    },
    {
      "cell_type": "markdown",
      "source": [
        "##### Which method have you used to scale you data and why?"
      ],
      "metadata": {
        "id": "yiiVWRdJDDil"
      }
    },
    {
      "cell_type": "markdown",
      "source": [
        "We utilized StandardScaler from the sklearn library to standardize our data. This is crucial as having features in different scales can cause poor results or slow convergence. Standardizing the features makes it easier to compare them or assess their impact on the target variable(\"trip_duration\") by examining the magnitude of their coefficients. Additionally, we will be using linear regression model which assumes normally distributed data, which standardization helps enforce."
      ],
      "metadata": {
        "id": "lnZ-G6kWWLL8"
      }
    },
    {
      "cell_type": "markdown",
      "source": [
        "### 7. Dimesionality Reduction"
      ],
      "metadata": {
        "id": "1UUpS68QDMuG"
      }
    },
    {
      "cell_type": "markdown",
      "source": [
        "##### Do you think that dimensionality reduction is needed? Explain Why?"
      ],
      "metadata": {
        "id": "kexQrXU-DjzY"
      }
    },
    {
      "cell_type": "markdown",
      "source": [
        "We have left with only few independant features in our dataset after doing feature selection, feature modelling and feature engineering.\n",
        "\n",
        "We have 14,00,000 records stored in columns, hence no any problem will be there due curse of dimentionallity.\n",
        "\n",
        "We have already reduced our features enough, without loosing originality of data."
      ],
      "metadata": {
        "id": "GGRlBsSGDtTQ"
      }
    },
    {
      "cell_type": "code",
      "source": [
        "# DImensionality Reduction (If needed)"
      ],
      "metadata": {
        "id": "kQfvxBBHDvCa"
      },
      "execution_count": null,
      "outputs": []
    },
    {
      "cell_type": "markdown",
      "source": [
        "##### Which dimensionality reduction technique have you used and why? (If dimensionality reduction done on dataset.)"
      ],
      "metadata": {
        "id": "T5CmagL3EC8N"
      }
    },
    {
      "cell_type": "markdown",
      "source": [
        "Answer Here."
      ],
      "metadata": {
        "id": "ZKr75IDuEM7t"
      }
    },
    {
      "cell_type": "markdown",
      "source": [
        "### 8. Data Splitting"
      ],
      "metadata": {
        "id": "BhH2vgX9EjGr"
      }
    },
    {
      "cell_type": "code",
      "source": [
        "# Split your data to train and test. Choose Splitting ratio wisely."
      ],
      "metadata": {
        "id": "0CTyd2UwEyNM"
      },
      "execution_count": null,
      "outputs": []
    },
    {
      "cell_type": "markdown",
      "source": [
        "Now let's split data in the ratio of 80:20 where 80 % will be in training set and 20 % will be in testing set by using train_test_split function available in sklearn library"
      ],
      "metadata": {
        "id": "ep5f9JOGWwn_"
      }
    },
    {
      "cell_type": "code",
      "source": [
        "x_train,x_test,y_train,y_test = train_test_split(x,y,test_size=0.2,random_state=42)"
      ],
      "metadata": {
        "id": "dMyZp0jxWzXx"
      },
      "execution_count": null,
      "outputs": []
    },
    {
      "cell_type": "code",
      "source": [
        "print(f'The shape of x_train is: {x_train.shape}')\n",
        "print(f'The shape of y_train is: {y_train.shape}')\n",
        "print(f'The shape of x_test is: {x_test.shape}')\n",
        "print(f'The shape of y_test is: {y_test.shape}')"
      ],
      "metadata": {
        "id": "cFWY4HIiW15F"
      },
      "execution_count": null,
      "outputs": []
    },
    {
      "cell_type": "markdown",
      "source": [
        "##### What data splitting ratio have you used and why? "
      ],
      "metadata": {
        "id": "qjKvONjwE8ra"
      }
    },
    {
      "cell_type": "markdown",
      "source": [
        "We have used a data splitting ratio of 80:20, with 80% of the data being allocated to the training set and 20% being allocated to the testing set. This was done using the train_test_split function available in the scikit-learn library. This data splitting approach is commonly used to ensure that the model is trained and tested on different data samples, helping to prevent overfitting and improving model generalization performance."
      ],
      "metadata": {
        "id": "Y2lJ8cobFDb_"
      }
    },
    {
      "cell_type": "markdown",
      "source": [
        "### 9. Handling Imbalanced Dataset"
      ],
      "metadata": {
        "id": "P1XJ9OREExlT"
      }
    },
    {
      "cell_type": "markdown",
      "source": [
        "##### Do you think the dataset is imbalanced? Explain Why."
      ],
      "metadata": {
        "id": "VFOzZv6IFROw"
      }
    },
    {
      "cell_type": "markdown",
      "source": [
        "NO \n",
        "\n",
        "As Handling imbalanced dataset refers to the process of addressing class imbalance in a dataset where one class (minority class) has significantly fewer observations than another class (majority class). This imbalanced distribution of classes can have a negative impact on machine learning algorithms, as they may be biased towards the majority class, leading to poor performance in classifying the minority class.\n",
        "\n",
        "So we dont need to balance the dataset."
      ],
      "metadata": {
        "id": "GeKDIv7pFgcC"
      }
    },
    {
      "cell_type": "code",
      "source": [
        "# Handling Imbalanced Dataset (If needed)"
      ],
      "metadata": {
        "id": "nQsRhhZLFiDs"
      },
      "execution_count": null,
      "outputs": []
    },
    {
      "cell_type": "markdown",
      "source": [
        "##### What technique did you use to handle the imbalance dataset and why? (If needed to be balanced)"
      ],
      "metadata": {
        "id": "TIqpNgepFxVj"
      }
    },
    {
      "cell_type": "markdown",
      "source": [
        "Answer Here."
      ],
      "metadata": {
        "id": "qbet1HwdGDTz"
      }
    },
    {
      "cell_type": "markdown",
      "source": [
        "## ***7. ML Model Implementation***"
      ],
      "metadata": {
        "id": "VfCC591jGiD4"
      }
    },
    {
      "cell_type": "markdown",
      "source": [
        "### ML Model - 1"
      ],
      "metadata": {
        "id": "OB4l2ZhMeS1U"
      }
    },
    {
      "cell_type": "code",
      "source": [
        "# ML Model - 1 Implementation\n",
        "\n",
        "# Fit the Algorithm\n",
        "\n",
        "# Predict on the model"
      ],
      "metadata": {
        "id": "7ebyywQieS1U"
      },
      "execution_count": null,
      "outputs": []
    },
    {
      "cell_type": "markdown",
      "source": [
        "#### 1. Explain the ML Model used and it's performance using Evaluation metric Score Chart."
      ],
      "metadata": {
        "id": "ArJBuiUVfxKd"
      }
    },
    {
      "cell_type": "code",
      "source": [
        "# Visualizing evaluation Metric Score chart"
      ],
      "metadata": {
        "id": "rqD5ZohzfxKe"
      },
      "execution_count": null,
      "outputs": []
    },
    {
      "cell_type": "markdown",
      "source": [
        "#### 2. Cross- Validation & Hyperparameter Tuning"
      ],
      "metadata": {
        "id": "4qY1EAkEfxKe"
      }
    },
    {
      "cell_type": "code",
      "source": [
        "# ML Model - 1 Implementation with hyperparameter optimization techniques (i.e., GridSearch CV, RandomSearch CV, Bayesian Optimization etc.)\n",
        "\n",
        "# Fit the Algorithm\n",
        "\n",
        "# Predict on the model"
      ],
      "metadata": {
        "id": "Dy61ujd6fxKe"
      },
      "execution_count": null,
      "outputs": []
    },
    {
      "cell_type": "markdown",
      "source": [
        "##### Which hyperparameter optimization technique have you used and why?"
      ],
      "metadata": {
        "id": "PiV4Ypx8fxKe"
      }
    },
    {
      "cell_type": "markdown",
      "source": [
        "Answer Here."
      ],
      "metadata": {
        "id": "negyGRa7fxKf"
      }
    },
    {
      "cell_type": "markdown",
      "source": [
        "##### Have you seen any improvement? Note down the improvement with updates Evaluation metric Score Chart."
      ],
      "metadata": {
        "id": "TfvqoZmBfxKf"
      }
    },
    {
      "cell_type": "markdown",
      "source": [
        "Answer Here."
      ],
      "metadata": {
        "id": "OaLui8CcfxKf"
      }
    },
    {
      "cell_type": "markdown",
      "source": [
        "### ML Model - 2"
      ],
      "metadata": {
        "id": "dJ2tPlVmpsJ0"
      }
    },
    {
      "cell_type": "markdown",
      "source": [
        "#### 1. Explain the ML Model used and it's performance using Evaluation metric Score Chart."
      ],
      "metadata": {
        "id": "JWYfwnehpsJ1"
      }
    },
    {
      "cell_type": "code",
      "source": [
        "# Visualizing evaluation Metric Score chart"
      ],
      "metadata": {
        "id": "yEl-hgQWpsJ1"
      },
      "execution_count": null,
      "outputs": []
    },
    {
      "cell_type": "markdown",
      "source": [
        "#### 2. Cross- Validation & Hyperparameter Tuning"
      ],
      "metadata": {
        "id": "-jK_YjpMpsJ2"
      }
    },
    {
      "cell_type": "code",
      "source": [
        "# ML Model - 1 Implementation with hyperparameter optimization techniques (i.e., GridSearch CV, RandomSearch CV, Bayesian Optimization etc.)\n",
        "\n",
        "# Fit the Algorithm\n",
        "\n",
        "# Predict on the model"
      ],
      "metadata": {
        "id": "Dn0EOfS6psJ2"
      },
      "execution_count": null,
      "outputs": []
    },
    {
      "cell_type": "markdown",
      "source": [
        "##### Which hyperparameter optimization technique have you used and why?"
      ],
      "metadata": {
        "id": "HAih1iBOpsJ2"
      }
    },
    {
      "cell_type": "markdown",
      "source": [
        "Answer Here."
      ],
      "metadata": {
        "id": "9kBgjYcdpsJ2"
      }
    },
    {
      "cell_type": "markdown",
      "source": [
        "##### Have you seen any improvement? Note down the improvement with updates Evaluation metric Score Chart."
      ],
      "metadata": {
        "id": "zVGeBEFhpsJ2"
      }
    },
    {
      "cell_type": "markdown",
      "source": [
        "Answer Here."
      ],
      "metadata": {
        "id": "74yRdG6UpsJ3"
      }
    },
    {
      "cell_type": "markdown",
      "source": [
        "#### 3. Explain each evaluation metric's indication towards business and the business impact pf the ML model used."
      ],
      "metadata": {
        "id": "bmKjuQ-FpsJ3"
      }
    },
    {
      "cell_type": "markdown",
      "source": [
        "Answer Here."
      ],
      "metadata": {
        "id": "BDKtOrBQpsJ3"
      }
    },
    {
      "cell_type": "markdown",
      "source": [
        "### ML Model - 3"
      ],
      "metadata": {
        "id": "Fze-IPXLpx6K"
      }
    },
    {
      "cell_type": "code",
      "source": [
        "# ML Model - 3 Implementation\n",
        "\n",
        "# Fit the Algorithm\n",
        "\n",
        "# Predict on the model"
      ],
      "metadata": {
        "id": "FFrSXAtrpx6M"
      },
      "execution_count": null,
      "outputs": []
    },
    {
      "cell_type": "markdown",
      "source": [
        "#### 1. Explain the ML Model used and it's performance using Evaluation metric Score Chart."
      ],
      "metadata": {
        "id": "7AN1z2sKpx6M"
      }
    },
    {
      "cell_type": "code",
      "source": [
        "# Visualizing evaluation Metric Score chart"
      ],
      "metadata": {
        "id": "xIY4lxxGpx6M"
      },
      "execution_count": null,
      "outputs": []
    },
    {
      "cell_type": "markdown",
      "source": [
        "#### 2. Cross- Validation & Hyperparameter Tuning"
      ],
      "metadata": {
        "id": "9PIHJqyupx6M"
      }
    },
    {
      "cell_type": "code",
      "source": [
        "# ML Model - 3 Implementation with hyperparameter optimization techniques (i.e., GridSearch CV, RandomSearch CV, Bayesian Optimization etc.)\n",
        "\n",
        "# Fit the Algorithm\n",
        "\n",
        "# Predict on the model"
      ],
      "metadata": {
        "id": "eSVXuaSKpx6M"
      },
      "execution_count": null,
      "outputs": []
    },
    {
      "cell_type": "markdown",
      "source": [
        "##### Which hyperparameter optimization technique have you used and why?"
      ],
      "metadata": {
        "id": "_-qAgymDpx6N"
      }
    },
    {
      "cell_type": "markdown",
      "source": [
        "Answer Here."
      ],
      "metadata": {
        "id": "lQMffxkwpx6N"
      }
    },
    {
      "cell_type": "markdown",
      "source": [
        "##### Have you seen any improvement? Note down the improvement with updates Evaluation metric Score Chart."
      ],
      "metadata": {
        "id": "Z-hykwinpx6N"
      }
    },
    {
      "cell_type": "markdown",
      "source": [
        "Answer Here."
      ],
      "metadata": {
        "id": "MzVzZC6opx6N"
      }
    },
    {
      "cell_type": "markdown",
      "source": [
        "### 1. Which Evaluation metrics did you consider for a positive business impact and why?"
      ],
      "metadata": {
        "id": "h_CCil-SKHpo"
      }
    },
    {
      "cell_type": "markdown",
      "source": [
        "Here Predicting trip duration considered as regression problem, where the goal is to predict a continuous outcome variable (duration of a trip) based on one or more predictor variables. It can also be considered a time series problem, as the duration of trips may be influenced by temporal factors such as time of day, day of the week, and weather conditions. In this case, the data would include information on trip duration and the related predictor variables over a period of time.\n",
        "\n",
        "**Mean Absolute Error (MAE)**: MAE is a metric for evaluating prediction accuracy by calculating the average magnitude of errors in predictions, regardless of direction. The goal in regression analysis is to minimize the MAE, leading to improved accuracy and positive business impact.\n",
        "\n",
        "**Mean Squared Error (MSE)**: It measures the average squared difference between the actual and predicted values and provides a numerical representation of the average error in the model's predictions. The MSE is often used as a loss function in the training process of machine learning models and the goal is to minimize this value, resulting in a more accurate model.\n",
        "\n",
        "**Root Mean Squared Error (RMSE):** RMSE is a popular evaluation metric for regression models, calculated as the square root of the Mean Squared Error. The RMSE has the same units as the original data, making it easier to understand the magnitude of prediction errors.\n",
        "\n",
        "**R2 Score:** The R2 Score is a commonly used metric in regression analysis, measuring the proportion of the dependent variable's variance explained by the independent variables in the model. It provides insight on model fit and comparison, helping in decisions about model selection and analysis.\n",
        "\n",
        "**Mean Absolute Percentage Error (MAPE):** Is is a metric used in time series analysis to evaluate the accuracy of predictions. It is calculated as the average of the absolute percentage differences between the actual and predicted values. With the help of MAPE an analyst can easily explain the percentage error. This metric is considered as one of the most important regression metric in time series data for a positive business impact.\n",
        "\n",
        "**Accuracy:** It is calculated as the average of the absolute percentage differences between the actual and predicted values. A lower value of 100-MAPE indicates a more accurate model, with a higher degree of similarity between the actual and predicted values."
      ],
      "metadata": {
        "id": "jHVz9hHDKFms"
      }
    },
    {
      "cell_type": "markdown",
      "source": [
        "### 2. Which ML model did you choose from the above created models as your final prediction model and why?"
      ],
      "metadata": {
        "id": "cBFFvTBNJzUa"
      }
    },
    {
      "cell_type": "markdown",
      "source": [
        "the goal is to build a model with high accuracy for use in real-time navigation systems, a lower MAPE value may be necessary to ensure the model's predictions are accurate enough.\n",
        "\n",
        "Problem complexity: The complexity of the problem you're trying to solve can impact the accuracy of the model. For example, if you're trying to predict a complex phenomenon, such as the duration of a taxi trip in a large city like NYC, it may be more challenging to achieve a high accuracy."
      ],
      "metadata": {
        "id": "6ksF5Q1LKTVm"
      }
    },
    {
      "cell_type": "markdown",
      "source": [
        "### 3. Explain the model which you have used and the feature importance using any model explainability tool?"
      ],
      "metadata": {
        "id": "HvGl1hHyA_VK"
      }
    },
    {
      "cell_type": "markdown",
      "source": [
        "Answer Here."
      ],
      "metadata": {
        "id": "YnvVTiIxBL-C"
      }
    },
    {
      "cell_type": "markdown",
      "source": [
        "## ***8.*** ***Future Work (Optional)***"
      ],
      "metadata": {
        "id": "EyNgTHvd2WFk"
      }
    },
    {
      "cell_type": "markdown",
      "source": [
        "### 1. Save the best performing ml model in a pickle file or joblib file format for deployment process.\n"
      ],
      "metadata": {
        "id": "KH5McJBi2d8v"
      }
    },
    {
      "cell_type": "code",
      "source": [
        "# Save the File"
      ],
      "metadata": {
        "id": "bQIANRl32f4J"
      },
      "execution_count": null,
      "outputs": []
    },
    {
      "cell_type": "markdown",
      "source": [
        "### 2. Again Load the saved model file and try to predict unseen data for a sanity check.\n"
      ],
      "metadata": {
        "id": "iW_Lq9qf2h6X"
      }
    },
    {
      "cell_type": "code",
      "source": [
        "# Load the File and predict unseen data."
      ],
      "metadata": {
        "id": "oEXk9ydD2nVC"
      },
      "execution_count": null,
      "outputs": []
    },
    {
      "cell_type": "markdown",
      "source": [
        "### ***Congrats! Your model is successfully created and ready for deployment on a live server for a real user interaction !!!***"
      ],
      "metadata": {
        "id": "-Kee-DAl2viO"
      }
    },
    {
      "cell_type": "markdown",
      "source": [
        "# **Conclusion**"
      ],
      "metadata": {
        "id": "gCX9965dhzqZ"
      }
    },
    {
      "cell_type": "markdown",
      "source": [
        "Write the conclusion here."
      ],
      "metadata": {
        "id": "Fjb1IsQkh3yE"
      }
    },
    {
      "cell_type": "markdown",
      "source": [
        "### ***Hurrah! You have successfully completed your Machine Learning Capstone Project !!!***"
      ],
      "metadata": {
        "id": "gIfDvo9L0UH2"
      }
    }
  ]
}